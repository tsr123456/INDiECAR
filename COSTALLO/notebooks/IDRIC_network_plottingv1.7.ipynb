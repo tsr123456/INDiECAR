{
 "cells": [
  {
   "cell_type": "code",
   "execution_count": 1,
   "metadata": {},
   "outputs": [
    {
     "name": "stderr",
     "output_type": "stream",
     "text": [
      "c:\\Users\\bst3191\\anaconda3\\envs\\geospatial_environment\\lib\\site-packages\\geopandas\\_compat.py:106: UserWarning: The Shapely GEOS version (3.8.0-CAPI-1.13.1 ) is incompatible with the GEOS version PyGEOS was compiled with (3.10.4-CAPI-1.16.2). Conversions between both will be slow.\n",
      "  warnings.warn(\n"
     ]
    }
   ],
   "source": [
    "import geopandas as gpd\n",
    "import pandas as pd\n",
    "import numpy as np\n",
    "from shapely.geometry import Point, Polygon, asShape \n",
    "import plotly.graph_objects as go\n",
    "import plotly.express as px\n",
    "from shapely.geometry import LineString\n",
    "import matplotlib.pyplot as plt\n",
    "import polyline\n",
    "import csv\n",
    "import networkx as nx\n",
    "import random\n",
    "import matplotlib.ticker as mtick\n",
    "import os\n"
   ]
  },
  {
   "cell_type": "code",
   "execution_count": 2,
   "metadata": {},
   "outputs": [],
   "source": [
    "def make_geo_dataframe(df):\n",
    "    \"\"\" Makes geodaframe from pandas dataframe\"\"\"\n",
    "    gdf = gpd.GeoDataFrame(df, geometry=gpd.points_from_xy(df.Latitude, df.Longitude))\n",
    "    gdf = gdf.set_crs('epsg:4326', inplace = True)\n",
    "    return gdf"
   ]
  },
  {
   "cell_type": "code",
   "execution_count": 3,
   "metadata": {},
   "outputs": [],
   "source": [
    "def make_line(points):\n",
    "#this function makes lines out of points in geodataframes\n",
    "    return LineString([p for p in points])"
   ]
  },
  {
   "cell_type": "code",
   "execution_count": 4,
   "metadata": {},
   "outputs": [],
   "source": [
    "def make_point(coord):\n",
    "    \"This function makes a point out of coordinates for geopandas\"\n",
    "    return Point(coord)"
   ]
  },
  {
   "cell_type": "code",
   "execution_count": 5,
   "metadata": {},
   "outputs": [],
   "source": [
    "def get_delimiter(file_path: str) -> str:\n",
    "    with open(file_path, 'r') as csvfile:\n",
    "        delimiter = str(csv.Sniffer().sniff(csvfile.read()).delimiter)\n",
    "        return delimiter"
   ]
  },
  {
   "cell_type": "code",
   "execution_count": 6,
   "metadata": {},
   "outputs": [],
   "source": [
    "def read_df_from_csv(file_path):\n",
    "    delimiter = get_delimiter(file_path)\n",
    "    df = pd.read_csv(file_path, delimiter = delimiter)\n",
    "    return df"
   ]
  },
  {
   "cell_type": "code",
   "execution_count": 7,
   "id": "82ea4fe3",
   "metadata": {},
   "outputs": [],
   "source": [
    "def find_lat_lon_tuple_in_dataframe(df, search_column_name, search_id):\n",
    "    \"This function finds and returns a lon lat tuple from dataframe in retrun column of dataframe\"\n",
    "    select_indices = np.where(df[search_column_name] == search_id)[0][0]\n",
    "    lon = float(df._get_value(select_indices,'Longitude',takeable = False))\n",
    "    lat = float(df._get_value(select_indices,'Latitude',takeable = False))\n",
    "    return_tuple = (lon,lat)\n",
    "    \n",
    "    return return_tuple"
   ]
  },
  {
   "cell_type": "code",
   "execution_count": 8,
   "metadata": {},
   "outputs": [],
   "source": [
    "def load_PipelineModels(filePath):\n",
    "    \"this function loads models from the IDRIC network.\"\n",
    "    return pd.read_excel(f\"{filePath}PIPELINE_MODELS.xlsx\")\n",
    "\n",
    "def load_ComponentModels(filePath):\n",
    "    \"this function loads models from the IDRIC network.\"\n",
    "    return pd.read_excel(f\"{filePath}COMPONENT_MODELS.xlsx\")"
   ]
  },
  {
   "cell_type": "code",
   "execution_count": 9,
   "metadata": {},
   "outputs": [],
   "source": [
    "def transform_half_hours_per_year(x):\n",
    "    half_hours_per_year = 365*48\n",
    "    y=x*half_hours_per_year\n",
    "    return y"
   ]
  },
  {
   "cell_type": "code",
   "execution_count": 10,
   "metadata": {},
   "outputs": [],
   "source": [
    "def make_rgb_range_0_1(colors):\n",
    "    \"this function turns rgb values (255, 125, 0) into rbg values ranign from 0-1, like (1, 0.5, 0)\"\n",
    "    for i in range(len(colors)):\n",
    "        colors[i]= list(colors[i])\n",
    "        for ii in range(len(colors[i])):\n",
    "            color =  colors[i][ii]\n",
    "            color /= 255\n",
    "            colors[i][ii] = color\n",
    "        colors[i]= tuple(colors[i])\n",
    "    return(colors)"
   ]
  },
  {
   "cell_type": "code",
   "execution_count": 11,
   "metadata": {},
   "outputs": [],
   "source": [
    "def make_rgb_range_0_1_from_tuple(color_tuple):\n",
    "    \"this function turns rgb values (255, 125, 0) into rbg values ranign from 0-1, like (1, 0.5, 0) from single tuple\"\n",
    "    color_tuple= list(color_tuple)\n",
    "    for ii in range(len(color_tuple)):\n",
    "        color =  color_tuple[ii]\n",
    "        color /= 255\n",
    "        color_tuple[ii] = color\n",
    "    color_tuple= tuple(color_tuple)\n",
    "    return(color_tuple)"
   ]
  },
  {
   "attachments": {},
   "cell_type": "markdown",
   "metadata": {},
   "source": [
    "## CCS network from idric model"
   ]
  },
  {
   "cell_type": "code",
   "execution_count": 12,
   "metadata": {},
   "outputs": [
    {
     "name": "stdout",
     "output_type": "stream",
     "text": [
      "SP_PT_Cementos\n",
      "1\n"
     ]
    }
   ],
   "source": [
    "number = 1\n",
    "#CaseNames=[\"GER\", \"GER_w_trunklines_only_1_strg\",\"GER_no_CCS\", \"GER_no_biomass\", \"GER_no_clay\"]\n",
    "\n",
    "CaseNames = ['SP_PT_Cementos']\n",
    "\n",
    "country = CaseNames[number-1]\n",
    "#country= \"Test_Case\"\n",
    "print (country)\n",
    "print (number)\n",
    "\n",
    "folder_name = \"No_collaboration\"\n",
    "path = f'../../Casestudy_results/{folder_name}/{country}'\n",
    "\n",
    "#path = f\"C:/Users/TSR/My Python projects/IDRIC Model(GitHub)/Casestudies/{country}\"\n",
    "name_run = 'snapshot100'\n"
   ]
  },
  {
   "cell_type": "code",
   "execution_count": 13,
   "metadata": {},
   "outputs": [],
   "source": [
    "#import results sheet from geospatial model: \n",
    "df_cement = read_df_from_csv(f'{path}/for_plots/Cement_plants_input_EU_all.csv')\n",
    "\n",
    "#import input files from IDRIC model\n",
    "df_existing_pipes =  read_df_from_csv(f'{path}/input/existing_pipelines.csv')\n",
    "df_grid_idric = read_df_from_csv(f'{path}/input/grid_cells.csv')\n",
    "df_transport = read_df_from_csv(f'{path}/input/TRANSPORT_COEFF.csv')\n",
    "\n",
    "#load component models\n",
    "filePath = f\"{path}/input/\"\n",
    "df_pipe_models = load_PipelineModels(filePath)\n",
    "df_component_models = load_ComponentModels(filePath)\n",
    "\n",
    "#import output files from IDRIC model\n",
    "df_results_idric = read_df_from_csv(f'{path}/Technology/{name_run}/num_pipes.csv')\n",
    "df_results_idric_emissions = read_df_from_csv(f'{path}/Technology/{name_run}/emission_rate.csv')\n",
    "df_results_pipes_invest = read_df_from_csv(f'{path}/Technology/{name_run}/num_pipes_invest.csv')\n",
    "df_results_idric_tech_invest = read_df_from_csv(f'{path}/Technology/{name_run}/num_process_invest.csv')\n",
    "df_results_idric_nets_invest = read_df_from_csv(f'{path}/Technology/{name_run}/num_end_use.csv')\n",
    "df_results_idric_strg_invest = read_df_from_csv(f'{path}/Technology/{name_run}/num_strg.csv')\n",
    "df_results_idric_prod_rate = read_df_from_csv(f'{path}/Technology/{name_run}/prod_rate.csv')\n",
    "df_results_idric_flow_rate = read_df_from_csv(f'{path}/Technology/{name_run}/flow_rate.csv')\n",
    "\n",
    "\n",
    "#add IDs, to pipelines (which don't have any when imported):\n",
    "df_results_idric.insert(loc=0, column='OID', value='')\n",
    "for index, row in df_results_idric.iterrows():\n",
    "    df_results_idric.loc[index,\"OID\"] = f\"PIPEID{index}\"\n",
    "\n",
    "#update all capacities from t/half hour to t/year\n",
    "df_results_idric_prod_rate [\"rate\"] *= 17520\n",
    "df_results_idric_flow_rate[\"rate\"]*= 17520\n",
    "df_pipe_models[\"FLOW_RSRC_MAX\"]*=17520\n",
    "df_component_models[\"NAME_PLATE_CAP\"] *=17520\n",
    "df_results_idric_emissions[\"rate\"] *=17520\n"
   ]
  },
  {
   "attachments": {},
   "cell_type": "markdown",
   "metadata": {},
   "source": [
    "Create directory for outputfiles:"
   ]
  },
  {
   "cell_type": "code",
   "execution_count": 14,
   "metadata": {},
   "outputs": [],
   "source": [
    "resultPath_postprocessing = f\"{path}/Technology/{name_run}/Results_postprocessing\"\n",
    "\n",
    "# Check if the directory exists\n",
    "if not os.path.exists(resultPath_postprocessing):\n",
    "    # If it doesn't exist, create it\n",
    "    os.makedirs(resultPath_postprocessing)"
   ]
  },
  {
   "attachments": {},
   "cell_type": "markdown",
   "metadata": {},
   "source": [
    "Show imported Grid cells:"
   ]
  },
  {
   "cell_type": "code",
   "execution_count": 15,
   "metadata": {},
   "outputs": [
    {
     "data": {
      "application/vnd.plotly.v1+json": {
       "config": {
        "plotlyServerURL": "https://plot.ly"
       },
       "data": [
        {
         "geo": "geo",
         "hovertemplate": "text=%{text}<br>lat=%{lat}<br>lon=%{lon}<extra></extra>",
         "lat": [
          42.874825,
          40.244961,
          42.882983,
          41.941676,
          37.359736,
          41.13424079,
          42.22657922,
          38.65399112,
          37.13771839,
          37.0911769,
          36.59514261,
          41.74543596,
          41.70771411,
          41.61267248,
          41.50837801,
          41.30790522,
          41.45862027,
          41.12663299,
          41.09598137,
          40.62447075,
          40.51187346,
          40.4087355,
          40.32061279,
          40.17655026,
          40.16902891,
          40.14488738,
          40.03689421,
          39.94828841,
          39.8999413,
          39.82818359,
          39.71735804,
          39.62591193,
          39.39648525,
          38.34034365,
          38.27197658,
          38.20444252,
          38.13253649,
          36.78875451,
          36.78875451,
          36.79973559,
          36.90185608,
          36.7747261,
          36.55563772
         ],
         "legendgroup": "",
         "lon": [
          -4.15978,
          -3.474441,
          -2.190187,
          -4.46587,
          -5.865094,
          -8.663498253,
          -8.733260846,
          -9.230709277,
          -6.836272132,
          -8.672211406,
          -6.264301724,
          -9.314880884,
          -9.111930411,
          -9.31414525,
          -9.086832549,
          -9.035248971,
          -9.126299562,
          -9.127339734,
          -8.922661842,
          -9.223876447,
          -9.039894757,
          -9.306395747,
          -9.026874008,
          -9.485219826,
          -9.486527492,
          -9.313879323,
          -9.187661843,
          -9.21104047,
          -9.262704784,
          -9.345183382,
          -9.300848103,
          -8.969029243,
          -9.023099386,
          -8.951758457,
          -8.82748819,
          -8.954695236,
          -9.034032476,
          -8.398951181,
          -8.398951181,
          -7.729175523,
          -7.566468288,
          -7.324579604,
          -7.431036506
         ],
         "marker": {
          "color": "#636efa",
          "symbol": "circle"
         },
         "mode": "markers+text",
         "name": "",
         "showlegend": false,
         "text": [
          1,
          2,
          3,
          4,
          5,
          6,
          7,
          8,
          9,
          10,
          11,
          12,
          13,
          14,
          15,
          16,
          17,
          18,
          19,
          20,
          21,
          22,
          23,
          24,
          25,
          26,
          27,
          28,
          29,
          30,
          31,
          32,
          33,
          34,
          35,
          36,
          37,
          38,
          39,
          40,
          41,
          42,
          43
         ],
         "type": "scattergeo"
        }
       ],
       "layout": {
        "geo": {
         "center": {},
         "domain": {
          "x": [
           0,
           1
          ],
          "y": [
           0,
           1
          ]
         }
        },
        "legend": {
         "tracegroupgap": 0
        },
        "margin": {
         "t": 60
        },
        "template": {
         "data": {
          "bar": [
           {
            "error_x": {
             "color": "#2a3f5f"
            },
            "error_y": {
             "color": "#2a3f5f"
            },
            "marker": {
             "line": {
              "color": "#E5ECF6",
              "width": 0.5
             },
             "pattern": {
              "fillmode": "overlay",
              "size": 10,
              "solidity": 0.2
             }
            },
            "type": "bar"
           }
          ],
          "barpolar": [
           {
            "marker": {
             "line": {
              "color": "#E5ECF6",
              "width": 0.5
             },
             "pattern": {
              "fillmode": "overlay",
              "size": 10,
              "solidity": 0.2
             }
            },
            "type": "barpolar"
           }
          ],
          "carpet": [
           {
            "aaxis": {
             "endlinecolor": "#2a3f5f",
             "gridcolor": "white",
             "linecolor": "white",
             "minorgridcolor": "white",
             "startlinecolor": "#2a3f5f"
            },
            "baxis": {
             "endlinecolor": "#2a3f5f",
             "gridcolor": "white",
             "linecolor": "white",
             "minorgridcolor": "white",
             "startlinecolor": "#2a3f5f"
            },
            "type": "carpet"
           }
          ],
          "choropleth": [
           {
            "colorbar": {
             "outlinewidth": 0,
             "ticks": ""
            },
            "type": "choropleth"
           }
          ],
          "contour": [
           {
            "colorbar": {
             "outlinewidth": 0,
             "ticks": ""
            },
            "colorscale": [
             [
              0,
              "#0d0887"
             ],
             [
              0.1111111111111111,
              "#46039f"
             ],
             [
              0.2222222222222222,
              "#7201a8"
             ],
             [
              0.3333333333333333,
              "#9c179e"
             ],
             [
              0.4444444444444444,
              "#bd3786"
             ],
             [
              0.5555555555555556,
              "#d8576b"
             ],
             [
              0.6666666666666666,
              "#ed7953"
             ],
             [
              0.7777777777777778,
              "#fb9f3a"
             ],
             [
              0.8888888888888888,
              "#fdca26"
             ],
             [
              1,
              "#f0f921"
             ]
            ],
            "type": "contour"
           }
          ],
          "contourcarpet": [
           {
            "colorbar": {
             "outlinewidth": 0,
             "ticks": ""
            },
            "type": "contourcarpet"
           }
          ],
          "heatmap": [
           {
            "colorbar": {
             "outlinewidth": 0,
             "ticks": ""
            },
            "colorscale": [
             [
              0,
              "#0d0887"
             ],
             [
              0.1111111111111111,
              "#46039f"
             ],
             [
              0.2222222222222222,
              "#7201a8"
             ],
             [
              0.3333333333333333,
              "#9c179e"
             ],
             [
              0.4444444444444444,
              "#bd3786"
             ],
             [
              0.5555555555555556,
              "#d8576b"
             ],
             [
              0.6666666666666666,
              "#ed7953"
             ],
             [
              0.7777777777777778,
              "#fb9f3a"
             ],
             [
              0.8888888888888888,
              "#fdca26"
             ],
             [
              1,
              "#f0f921"
             ]
            ],
            "type": "heatmap"
           }
          ],
          "heatmapgl": [
           {
            "colorbar": {
             "outlinewidth": 0,
             "ticks": ""
            },
            "colorscale": [
             [
              0,
              "#0d0887"
             ],
             [
              0.1111111111111111,
              "#46039f"
             ],
             [
              0.2222222222222222,
              "#7201a8"
             ],
             [
              0.3333333333333333,
              "#9c179e"
             ],
             [
              0.4444444444444444,
              "#bd3786"
             ],
             [
              0.5555555555555556,
              "#d8576b"
             ],
             [
              0.6666666666666666,
              "#ed7953"
             ],
             [
              0.7777777777777778,
              "#fb9f3a"
             ],
             [
              0.8888888888888888,
              "#fdca26"
             ],
             [
              1,
              "#f0f921"
             ]
            ],
            "type": "heatmapgl"
           }
          ],
          "histogram": [
           {
            "marker": {
             "pattern": {
              "fillmode": "overlay",
              "size": 10,
              "solidity": 0.2
             }
            },
            "type": "histogram"
           }
          ],
          "histogram2d": [
           {
            "colorbar": {
             "outlinewidth": 0,
             "ticks": ""
            },
            "colorscale": [
             [
              0,
              "#0d0887"
             ],
             [
              0.1111111111111111,
              "#46039f"
             ],
             [
              0.2222222222222222,
              "#7201a8"
             ],
             [
              0.3333333333333333,
              "#9c179e"
             ],
             [
              0.4444444444444444,
              "#bd3786"
             ],
             [
              0.5555555555555556,
              "#d8576b"
             ],
             [
              0.6666666666666666,
              "#ed7953"
             ],
             [
              0.7777777777777778,
              "#fb9f3a"
             ],
             [
              0.8888888888888888,
              "#fdca26"
             ],
             [
              1,
              "#f0f921"
             ]
            ],
            "type": "histogram2d"
           }
          ],
          "histogram2dcontour": [
           {
            "colorbar": {
             "outlinewidth": 0,
             "ticks": ""
            },
            "colorscale": [
             [
              0,
              "#0d0887"
             ],
             [
              0.1111111111111111,
              "#46039f"
             ],
             [
              0.2222222222222222,
              "#7201a8"
             ],
             [
              0.3333333333333333,
              "#9c179e"
             ],
             [
              0.4444444444444444,
              "#bd3786"
             ],
             [
              0.5555555555555556,
              "#d8576b"
             ],
             [
              0.6666666666666666,
              "#ed7953"
             ],
             [
              0.7777777777777778,
              "#fb9f3a"
             ],
             [
              0.8888888888888888,
              "#fdca26"
             ],
             [
              1,
              "#f0f921"
             ]
            ],
            "type": "histogram2dcontour"
           }
          ],
          "mesh3d": [
           {
            "colorbar": {
             "outlinewidth": 0,
             "ticks": ""
            },
            "type": "mesh3d"
           }
          ],
          "parcoords": [
           {
            "line": {
             "colorbar": {
              "outlinewidth": 0,
              "ticks": ""
             }
            },
            "type": "parcoords"
           }
          ],
          "pie": [
           {
            "automargin": true,
            "type": "pie"
           }
          ],
          "scatter": [
           {
            "fillpattern": {
             "fillmode": "overlay",
             "size": 10,
             "solidity": 0.2
            },
            "type": "scatter"
           }
          ],
          "scatter3d": [
           {
            "line": {
             "colorbar": {
              "outlinewidth": 0,
              "ticks": ""
             }
            },
            "marker": {
             "colorbar": {
              "outlinewidth": 0,
              "ticks": ""
             }
            },
            "type": "scatter3d"
           }
          ],
          "scattercarpet": [
           {
            "marker": {
             "colorbar": {
              "outlinewidth": 0,
              "ticks": ""
             }
            },
            "type": "scattercarpet"
           }
          ],
          "scattergeo": [
           {
            "marker": {
             "colorbar": {
              "outlinewidth": 0,
              "ticks": ""
             }
            },
            "type": "scattergeo"
           }
          ],
          "scattergl": [
           {
            "marker": {
             "colorbar": {
              "outlinewidth": 0,
              "ticks": ""
             }
            },
            "type": "scattergl"
           }
          ],
          "scattermapbox": [
           {
            "marker": {
             "colorbar": {
              "outlinewidth": 0,
              "ticks": ""
             }
            },
            "type": "scattermapbox"
           }
          ],
          "scatterpolar": [
           {
            "marker": {
             "colorbar": {
              "outlinewidth": 0,
              "ticks": ""
             }
            },
            "type": "scatterpolar"
           }
          ],
          "scatterpolargl": [
           {
            "marker": {
             "colorbar": {
              "outlinewidth": 0,
              "ticks": ""
             }
            },
            "type": "scatterpolargl"
           }
          ],
          "scatterternary": [
           {
            "marker": {
             "colorbar": {
              "outlinewidth": 0,
              "ticks": ""
             }
            },
            "type": "scatterternary"
           }
          ],
          "surface": [
           {
            "colorbar": {
             "outlinewidth": 0,
             "ticks": ""
            },
            "colorscale": [
             [
              0,
              "#0d0887"
             ],
             [
              0.1111111111111111,
              "#46039f"
             ],
             [
              0.2222222222222222,
              "#7201a8"
             ],
             [
              0.3333333333333333,
              "#9c179e"
             ],
             [
              0.4444444444444444,
              "#bd3786"
             ],
             [
              0.5555555555555556,
              "#d8576b"
             ],
             [
              0.6666666666666666,
              "#ed7953"
             ],
             [
              0.7777777777777778,
              "#fb9f3a"
             ],
             [
              0.8888888888888888,
              "#fdca26"
             ],
             [
              1,
              "#f0f921"
             ]
            ],
            "type": "surface"
           }
          ],
          "table": [
           {
            "cells": {
             "fill": {
              "color": "#EBF0F8"
             },
             "line": {
              "color": "white"
             }
            },
            "header": {
             "fill": {
              "color": "#C8D4E3"
             },
             "line": {
              "color": "white"
             }
            },
            "type": "table"
           }
          ]
         },
         "layout": {
          "annotationdefaults": {
           "arrowcolor": "#2a3f5f",
           "arrowhead": 0,
           "arrowwidth": 1
          },
          "autotypenumbers": "strict",
          "coloraxis": {
           "colorbar": {
            "outlinewidth": 0,
            "ticks": ""
           }
          },
          "colorscale": {
           "diverging": [
            [
             0,
             "#8e0152"
            ],
            [
             0.1,
             "#c51b7d"
            ],
            [
             0.2,
             "#de77ae"
            ],
            [
             0.3,
             "#f1b6da"
            ],
            [
             0.4,
             "#fde0ef"
            ],
            [
             0.5,
             "#f7f7f7"
            ],
            [
             0.6,
             "#e6f5d0"
            ],
            [
             0.7,
             "#b8e186"
            ],
            [
             0.8,
             "#7fbc41"
            ],
            [
             0.9,
             "#4d9221"
            ],
            [
             1,
             "#276419"
            ]
           ],
           "sequential": [
            [
             0,
             "#0d0887"
            ],
            [
             0.1111111111111111,
             "#46039f"
            ],
            [
             0.2222222222222222,
             "#7201a8"
            ],
            [
             0.3333333333333333,
             "#9c179e"
            ],
            [
             0.4444444444444444,
             "#bd3786"
            ],
            [
             0.5555555555555556,
             "#d8576b"
            ],
            [
             0.6666666666666666,
             "#ed7953"
            ],
            [
             0.7777777777777778,
             "#fb9f3a"
            ],
            [
             0.8888888888888888,
             "#fdca26"
            ],
            [
             1,
             "#f0f921"
            ]
           ],
           "sequentialminus": [
            [
             0,
             "#0d0887"
            ],
            [
             0.1111111111111111,
             "#46039f"
            ],
            [
             0.2222222222222222,
             "#7201a8"
            ],
            [
             0.3333333333333333,
             "#9c179e"
            ],
            [
             0.4444444444444444,
             "#bd3786"
            ],
            [
             0.5555555555555556,
             "#d8576b"
            ],
            [
             0.6666666666666666,
             "#ed7953"
            ],
            [
             0.7777777777777778,
             "#fb9f3a"
            ],
            [
             0.8888888888888888,
             "#fdca26"
            ],
            [
             1,
             "#f0f921"
            ]
           ]
          },
          "colorway": [
           "#636efa",
           "#EF553B",
           "#00cc96",
           "#ab63fa",
           "#FFA15A",
           "#19d3f3",
           "#FF6692",
           "#B6E880",
           "#FF97FF",
           "#FECB52"
          ],
          "font": {
           "color": "#2a3f5f"
          },
          "geo": {
           "bgcolor": "white",
           "lakecolor": "white",
           "landcolor": "#E5ECF6",
           "showlakes": true,
           "showland": true,
           "subunitcolor": "white"
          },
          "hoverlabel": {
           "align": "left"
          },
          "hovermode": "closest",
          "mapbox": {
           "style": "light"
          },
          "paper_bgcolor": "white",
          "plot_bgcolor": "#E5ECF6",
          "polar": {
           "angularaxis": {
            "gridcolor": "white",
            "linecolor": "white",
            "ticks": ""
           },
           "bgcolor": "#E5ECF6",
           "radialaxis": {
            "gridcolor": "white",
            "linecolor": "white",
            "ticks": ""
           }
          },
          "scene": {
           "xaxis": {
            "backgroundcolor": "#E5ECF6",
            "gridcolor": "white",
            "gridwidth": 2,
            "linecolor": "white",
            "showbackground": true,
            "ticks": "",
            "zerolinecolor": "white"
           },
           "yaxis": {
            "backgroundcolor": "#E5ECF6",
            "gridcolor": "white",
            "gridwidth": 2,
            "linecolor": "white",
            "showbackground": true,
            "ticks": "",
            "zerolinecolor": "white"
           },
           "zaxis": {
            "backgroundcolor": "#E5ECF6",
            "gridcolor": "white",
            "gridwidth": 2,
            "linecolor": "white",
            "showbackground": true,
            "ticks": "",
            "zerolinecolor": "white"
           }
          },
          "shapedefaults": {
           "line": {
            "color": "#2a3f5f"
           }
          },
          "ternary": {
           "aaxis": {
            "gridcolor": "white",
            "linecolor": "white",
            "ticks": ""
           },
           "baxis": {
            "gridcolor": "white",
            "linecolor": "white",
            "ticks": ""
           },
           "bgcolor": "#E5ECF6",
           "caxis": {
            "gridcolor": "white",
            "linecolor": "white",
            "ticks": ""
           }
          },
          "title": {
           "x": 0.05
          },
          "xaxis": {
           "automargin": true,
           "gridcolor": "white",
           "linecolor": "white",
           "ticks": "",
           "title": {
            "standoff": 15
           },
           "zerolinecolor": "white",
           "zerolinewidth": 2
          },
          "yaxis": {
           "automargin": true,
           "gridcolor": "white",
           "linecolor": "white",
           "ticks": "",
           "title": {
            "standoff": 15
           },
           "zerolinecolor": "white",
           "zerolinewidth": 2
          }
         }
        }
       }
      }
     },
     "metadata": {},
     "output_type": "display_data"
    }
   ],
   "source": [
    "fig = px.scatter_geo(lon=df_grid_idric.Longitude, lat=df_grid_idric.Latitude, text=df_grid_idric.Grid_id)\n",
    "fig.write_html(f\"{resultPath_postprocessing}/grid_points_{country}_{name_run}.html\")\n",
    "fig.show()"
   ]
  },
  {
   "attachments": {},
   "cell_type": "markdown",
   "id": "1452f7f1",
   "metadata": {},
   "source": [
    "Look up points from df_cement and df_storage:"
   ]
  },
  {
   "cell_type": "code",
   "execution_count": 16,
   "id": "92374350",
   "metadata": {},
   "outputs": [],
   "source": [
    "df_results_idric.insert(loc=len(df_results_idric.columns), column='From Point', value='')\n",
    "df_results_idric.insert(loc=len(df_results_idric.columns), column='To Point', value='')"
   ]
  },
  {
   "cell_type": "code",
   "execution_count": 17,
   "metadata": {},
   "outputs": [],
   "source": [
    "if not df_existing_pipes.empty:\n",
    "    df_existing_pipes.insert(loc=len(df_existing_pipes.columns), column='From Point', value='')\n",
    "    df_existing_pipes.insert(loc=len(df_existing_pipes.columns), column='To Point', value='')"
   ]
  },
  {
   "attachments": {},
   "cell_type": "markdown",
   "id": "aa967cdd",
   "metadata": {},
   "source": [
    "First find lon-lat for each points of pipeline:"
   ]
  },
  {
   "cell_type": "code",
   "execution_count": 18,
   "id": "384edcf1",
   "metadata": {},
   "outputs": [],
   "source": [
    "for index, row in df_results_idric.iterrows():\n",
    "        df_results_idric.at[index,\"From Point\"] =  find_lat_lon_tuple_in_dataframe(df_grid_idric, 'Grid_id', row['From grid'])\n",
    "        df_results_idric.at[index,\"To Point\"] =    find_lat_lon_tuple_in_dataframe(df_grid_idric, 'Grid_id', row['To grid'])  \n",
    "        \n",
    "if not df_existing_pipes.empty:\n",
    "        for index, row in df_existing_pipes.iterrows():\n",
    "                df_existing_pipes.at[index,\"From Point\"] =  find_lat_lon_tuple_in_dataframe(df_grid_idric, 'Grid_id', row['grid_from'])\n",
    "                df_existing_pipes.at[index,\"To Point\"] =    find_lat_lon_tuple_in_dataframe(df_grid_idric, 'Grid_id', row['grid_to'])  "
   ]
  },
  {
   "attachments": {},
   "cell_type": "markdown",
   "metadata": {},
   "source": [
    "Second make line out of points:"
   ]
  },
  {
   "cell_type": "code",
   "execution_count": 19,
   "id": "eb61342d",
   "metadata": {},
   "outputs": [],
   "source": [
    "df_results_idric['geometry'] = df_results_idric[[\"From Point\", \"To Point\"]].apply(lambda x: make_line(x), axis=1)\n",
    "gdf_results_pipeline = gpd.GeoDataFrame(df_results_idric, geometry = 'geometry', crs='epsg:4326')\n",
    "\n",
    "if not df_existing_pipes.empty:\n",
    "    df_existing_pipes['geometry'] = df_existing_pipes[[\"From Point\", \"To Point\"]].apply(lambda x: make_line(x), axis=1)\n",
    "    gdf_existing_pipes = gpd.GeoDataFrame(df_existing_pipes, geometry = 'geometry', crs='epsg:4326')"
   ]
  },
  {
   "cell_type": "code",
   "execution_count": 20,
   "metadata": {},
   "outputs": [],
   "source": [
    "#gdf_results_pipeline.to_csv('C:/Users/TSR/My Python projects/geospatial analysis model/Results/pipeline_test.csv',sep=';')"
   ]
  },
  {
   "attachments": {},
   "cell_type": "markdown",
   "id": "afc4fe58",
   "metadata": {},
   "source": [
    "# Plot results"
   ]
  },
  {
   "cell_type": "code",
   "execution_count": 21,
   "id": "259b00f9",
   "metadata": {},
   "outputs": [
    {
     "data": {
      "application/vnd.plotly.v1+json": {
       "config": {
        "plotlyServerURL": "https://plot.ly"
       },
       "data": [
        {
         "hovertemplate": "<b>%{hovertext}</b><br><br>lat=%{lat}<br>lon=%{lon}<extra></extra>",
         "hovertext": [
          0,
          0,
          null,
          1,
          1,
          null,
          2,
          2,
          null,
          3,
          3,
          null,
          4,
          4,
          null,
          5,
          5,
          null,
          6,
          6,
          null
         ],
         "lat": [
          42.874825,
          41.941676,
          null,
          40.244961,
          41.13424079,
          null,
          42.882983,
          42.874825,
          null,
          41.941676,
          41.13424079,
          null,
          37.359736,
          37.13771839,
          null,
          41.13424079,
          41.09598137,
          null,
          37.13771839,
          36.7747261,
          null
         ],
         "legendgroup": "",
         "line": {
          "color": "#636efa"
         },
         "lon": [
          -4.15978,
          -4.46587,
          null,
          -3.474441,
          -8.663498253,
          null,
          -2.190187,
          -4.15978,
          null,
          -4.46587,
          -8.663498253,
          null,
          -5.865094,
          -6.836272132,
          null,
          -8.663498253,
          -8.922661842,
          null,
          -6.836272132,
          -7.324579604,
          null
         ],
         "mode": "lines",
         "name": "",
         "showlegend": false,
         "subplot": "mapbox",
         "type": "scattermapbox"
        }
       ],
       "layout": {
        "autosize": false,
        "height": 500,
        "legend": {
         "tracegroupgap": 0
        },
        "mapbox": {
         "center": {
          "lat": 40.40496775857142,
          "lon": -6.049378747785714
         },
         "domain": {
          "x": [
           0,
           1
          ],
          "y": [
           0,
           1
          ]
         },
         "style": "carto-positron",
         "zoom": 1
        },
        "margin": {
         "b": 100,
         "l": 50,
         "pad": 4,
         "r": 50,
         "t": 100
        },
        "template": {
         "data": {
          "bar": [
           {
            "error_x": {
             "color": "#2a3f5f"
            },
            "error_y": {
             "color": "#2a3f5f"
            },
            "marker": {
             "line": {
              "color": "#E5ECF6",
              "width": 0.5
             },
             "pattern": {
              "fillmode": "overlay",
              "size": 10,
              "solidity": 0.2
             }
            },
            "type": "bar"
           }
          ],
          "barpolar": [
           {
            "marker": {
             "line": {
              "color": "#E5ECF6",
              "width": 0.5
             },
             "pattern": {
              "fillmode": "overlay",
              "size": 10,
              "solidity": 0.2
             }
            },
            "type": "barpolar"
           }
          ],
          "carpet": [
           {
            "aaxis": {
             "endlinecolor": "#2a3f5f",
             "gridcolor": "white",
             "linecolor": "white",
             "minorgridcolor": "white",
             "startlinecolor": "#2a3f5f"
            },
            "baxis": {
             "endlinecolor": "#2a3f5f",
             "gridcolor": "white",
             "linecolor": "white",
             "minorgridcolor": "white",
             "startlinecolor": "#2a3f5f"
            },
            "type": "carpet"
           }
          ],
          "choropleth": [
           {
            "colorbar": {
             "outlinewidth": 0,
             "ticks": ""
            },
            "type": "choropleth"
           }
          ],
          "contour": [
           {
            "colorbar": {
             "outlinewidth": 0,
             "ticks": ""
            },
            "colorscale": [
             [
              0,
              "#0d0887"
             ],
             [
              0.1111111111111111,
              "#46039f"
             ],
             [
              0.2222222222222222,
              "#7201a8"
             ],
             [
              0.3333333333333333,
              "#9c179e"
             ],
             [
              0.4444444444444444,
              "#bd3786"
             ],
             [
              0.5555555555555556,
              "#d8576b"
             ],
             [
              0.6666666666666666,
              "#ed7953"
             ],
             [
              0.7777777777777778,
              "#fb9f3a"
             ],
             [
              0.8888888888888888,
              "#fdca26"
             ],
             [
              1,
              "#f0f921"
             ]
            ],
            "type": "contour"
           }
          ],
          "contourcarpet": [
           {
            "colorbar": {
             "outlinewidth": 0,
             "ticks": ""
            },
            "type": "contourcarpet"
           }
          ],
          "heatmap": [
           {
            "colorbar": {
             "outlinewidth": 0,
             "ticks": ""
            },
            "colorscale": [
             [
              0,
              "#0d0887"
             ],
             [
              0.1111111111111111,
              "#46039f"
             ],
             [
              0.2222222222222222,
              "#7201a8"
             ],
             [
              0.3333333333333333,
              "#9c179e"
             ],
             [
              0.4444444444444444,
              "#bd3786"
             ],
             [
              0.5555555555555556,
              "#d8576b"
             ],
             [
              0.6666666666666666,
              "#ed7953"
             ],
             [
              0.7777777777777778,
              "#fb9f3a"
             ],
             [
              0.8888888888888888,
              "#fdca26"
             ],
             [
              1,
              "#f0f921"
             ]
            ],
            "type": "heatmap"
           }
          ],
          "heatmapgl": [
           {
            "colorbar": {
             "outlinewidth": 0,
             "ticks": ""
            },
            "colorscale": [
             [
              0,
              "#0d0887"
             ],
             [
              0.1111111111111111,
              "#46039f"
             ],
             [
              0.2222222222222222,
              "#7201a8"
             ],
             [
              0.3333333333333333,
              "#9c179e"
             ],
             [
              0.4444444444444444,
              "#bd3786"
             ],
             [
              0.5555555555555556,
              "#d8576b"
             ],
             [
              0.6666666666666666,
              "#ed7953"
             ],
             [
              0.7777777777777778,
              "#fb9f3a"
             ],
             [
              0.8888888888888888,
              "#fdca26"
             ],
             [
              1,
              "#f0f921"
             ]
            ],
            "type": "heatmapgl"
           }
          ],
          "histogram": [
           {
            "marker": {
             "pattern": {
              "fillmode": "overlay",
              "size": 10,
              "solidity": 0.2
             }
            },
            "type": "histogram"
           }
          ],
          "histogram2d": [
           {
            "colorbar": {
             "outlinewidth": 0,
             "ticks": ""
            },
            "colorscale": [
             [
              0,
              "#0d0887"
             ],
             [
              0.1111111111111111,
              "#46039f"
             ],
             [
              0.2222222222222222,
              "#7201a8"
             ],
             [
              0.3333333333333333,
              "#9c179e"
             ],
             [
              0.4444444444444444,
              "#bd3786"
             ],
             [
              0.5555555555555556,
              "#d8576b"
             ],
             [
              0.6666666666666666,
              "#ed7953"
             ],
             [
              0.7777777777777778,
              "#fb9f3a"
             ],
             [
              0.8888888888888888,
              "#fdca26"
             ],
             [
              1,
              "#f0f921"
             ]
            ],
            "type": "histogram2d"
           }
          ],
          "histogram2dcontour": [
           {
            "colorbar": {
             "outlinewidth": 0,
             "ticks": ""
            },
            "colorscale": [
             [
              0,
              "#0d0887"
             ],
             [
              0.1111111111111111,
              "#46039f"
             ],
             [
              0.2222222222222222,
              "#7201a8"
             ],
             [
              0.3333333333333333,
              "#9c179e"
             ],
             [
              0.4444444444444444,
              "#bd3786"
             ],
             [
              0.5555555555555556,
              "#d8576b"
             ],
             [
              0.6666666666666666,
              "#ed7953"
             ],
             [
              0.7777777777777778,
              "#fb9f3a"
             ],
             [
              0.8888888888888888,
              "#fdca26"
             ],
             [
              1,
              "#f0f921"
             ]
            ],
            "type": "histogram2dcontour"
           }
          ],
          "mesh3d": [
           {
            "colorbar": {
             "outlinewidth": 0,
             "ticks": ""
            },
            "type": "mesh3d"
           }
          ],
          "parcoords": [
           {
            "line": {
             "colorbar": {
              "outlinewidth": 0,
              "ticks": ""
             }
            },
            "type": "parcoords"
           }
          ],
          "pie": [
           {
            "automargin": true,
            "type": "pie"
           }
          ],
          "scatter": [
           {
            "fillpattern": {
             "fillmode": "overlay",
             "size": 10,
             "solidity": 0.2
            },
            "type": "scatter"
           }
          ],
          "scatter3d": [
           {
            "line": {
             "colorbar": {
              "outlinewidth": 0,
              "ticks": ""
             }
            },
            "marker": {
             "colorbar": {
              "outlinewidth": 0,
              "ticks": ""
             }
            },
            "type": "scatter3d"
           }
          ],
          "scattercarpet": [
           {
            "marker": {
             "colorbar": {
              "outlinewidth": 0,
              "ticks": ""
             }
            },
            "type": "scattercarpet"
           }
          ],
          "scattergeo": [
           {
            "marker": {
             "colorbar": {
              "outlinewidth": 0,
              "ticks": ""
             }
            },
            "type": "scattergeo"
           }
          ],
          "scattergl": [
           {
            "marker": {
             "colorbar": {
              "outlinewidth": 0,
              "ticks": ""
             }
            },
            "type": "scattergl"
           }
          ],
          "scattermapbox": [
           {
            "marker": {
             "colorbar": {
              "outlinewidth": 0,
              "ticks": ""
             }
            },
            "type": "scattermapbox"
           }
          ],
          "scatterpolar": [
           {
            "marker": {
             "colorbar": {
              "outlinewidth": 0,
              "ticks": ""
             }
            },
            "type": "scatterpolar"
           }
          ],
          "scatterpolargl": [
           {
            "marker": {
             "colorbar": {
              "outlinewidth": 0,
              "ticks": ""
             }
            },
            "type": "scatterpolargl"
           }
          ],
          "scatterternary": [
           {
            "marker": {
             "colorbar": {
              "outlinewidth": 0,
              "ticks": ""
             }
            },
            "type": "scatterternary"
           }
          ],
          "surface": [
           {
            "colorbar": {
             "outlinewidth": 0,
             "ticks": ""
            },
            "colorscale": [
             [
              0,
              "#0d0887"
             ],
             [
              0.1111111111111111,
              "#46039f"
             ],
             [
              0.2222222222222222,
              "#7201a8"
             ],
             [
              0.3333333333333333,
              "#9c179e"
             ],
             [
              0.4444444444444444,
              "#bd3786"
             ],
             [
              0.5555555555555556,
              "#d8576b"
             ],
             [
              0.6666666666666666,
              "#ed7953"
             ],
             [
              0.7777777777777778,
              "#fb9f3a"
             ],
             [
              0.8888888888888888,
              "#fdca26"
             ],
             [
              1,
              "#f0f921"
             ]
            ],
            "type": "surface"
           }
          ],
          "table": [
           {
            "cells": {
             "fill": {
              "color": "#EBF0F8"
             },
             "line": {
              "color": "white"
             }
            },
            "header": {
             "fill": {
              "color": "#C8D4E3"
             },
             "line": {
              "color": "white"
             }
            },
            "type": "table"
           }
          ]
         },
         "layout": {
          "annotationdefaults": {
           "arrowcolor": "#2a3f5f",
           "arrowhead": 0,
           "arrowwidth": 1
          },
          "autotypenumbers": "strict",
          "coloraxis": {
           "colorbar": {
            "outlinewidth": 0,
            "ticks": ""
           }
          },
          "colorscale": {
           "diverging": [
            [
             0,
             "#8e0152"
            ],
            [
             0.1,
             "#c51b7d"
            ],
            [
             0.2,
             "#de77ae"
            ],
            [
             0.3,
             "#f1b6da"
            ],
            [
             0.4,
             "#fde0ef"
            ],
            [
             0.5,
             "#f7f7f7"
            ],
            [
             0.6,
             "#e6f5d0"
            ],
            [
             0.7,
             "#b8e186"
            ],
            [
             0.8,
             "#7fbc41"
            ],
            [
             0.9,
             "#4d9221"
            ],
            [
             1,
             "#276419"
            ]
           ],
           "sequential": [
            [
             0,
             "#0d0887"
            ],
            [
             0.1111111111111111,
             "#46039f"
            ],
            [
             0.2222222222222222,
             "#7201a8"
            ],
            [
             0.3333333333333333,
             "#9c179e"
            ],
            [
             0.4444444444444444,
             "#bd3786"
            ],
            [
             0.5555555555555556,
             "#d8576b"
            ],
            [
             0.6666666666666666,
             "#ed7953"
            ],
            [
             0.7777777777777778,
             "#fb9f3a"
            ],
            [
             0.8888888888888888,
             "#fdca26"
            ],
            [
             1,
             "#f0f921"
            ]
           ],
           "sequentialminus": [
            [
             0,
             "#0d0887"
            ],
            [
             0.1111111111111111,
             "#46039f"
            ],
            [
             0.2222222222222222,
             "#7201a8"
            ],
            [
             0.3333333333333333,
             "#9c179e"
            ],
            [
             0.4444444444444444,
             "#bd3786"
            ],
            [
             0.5555555555555556,
             "#d8576b"
            ],
            [
             0.6666666666666666,
             "#ed7953"
            ],
            [
             0.7777777777777778,
             "#fb9f3a"
            ],
            [
             0.8888888888888888,
             "#fdca26"
            ],
            [
             1,
             "#f0f921"
            ]
           ]
          },
          "colorway": [
           "#636efa",
           "#EF553B",
           "#00cc96",
           "#ab63fa",
           "#FFA15A",
           "#19d3f3",
           "#FF6692",
           "#B6E880",
           "#FF97FF",
           "#FECB52"
          ],
          "font": {
           "color": "#2a3f5f"
          },
          "geo": {
           "bgcolor": "white",
           "lakecolor": "white",
           "landcolor": "#E5ECF6",
           "showlakes": true,
           "showland": true,
           "subunitcolor": "white"
          },
          "hoverlabel": {
           "align": "left"
          },
          "hovermode": "closest",
          "mapbox": {
           "style": "light"
          },
          "paper_bgcolor": "white",
          "plot_bgcolor": "#E5ECF6",
          "polar": {
           "angularaxis": {
            "gridcolor": "white",
            "linecolor": "white",
            "ticks": ""
           },
           "bgcolor": "#E5ECF6",
           "radialaxis": {
            "gridcolor": "white",
            "linecolor": "white",
            "ticks": ""
           }
          },
          "scene": {
           "xaxis": {
            "backgroundcolor": "#E5ECF6",
            "gridcolor": "white",
            "gridwidth": 2,
            "linecolor": "white",
            "showbackground": true,
            "ticks": "",
            "zerolinecolor": "white"
           },
           "yaxis": {
            "backgroundcolor": "#E5ECF6",
            "gridcolor": "white",
            "gridwidth": 2,
            "linecolor": "white",
            "showbackground": true,
            "ticks": "",
            "zerolinecolor": "white"
           },
           "zaxis": {
            "backgroundcolor": "#E5ECF6",
            "gridcolor": "white",
            "gridwidth": 2,
            "linecolor": "white",
            "showbackground": true,
            "ticks": "",
            "zerolinecolor": "white"
           }
          },
          "shapedefaults": {
           "line": {
            "color": "#2a3f5f"
           }
          },
          "ternary": {
           "aaxis": {
            "gridcolor": "white",
            "linecolor": "white",
            "ticks": ""
           },
           "baxis": {
            "gridcolor": "white",
            "linecolor": "white",
            "ticks": ""
           },
           "bgcolor": "#E5ECF6",
           "caxis": {
            "gridcolor": "white",
            "linecolor": "white",
            "ticks": ""
           }
          },
          "title": {
           "x": 0.05
          },
          "xaxis": {
           "automargin": true,
           "gridcolor": "white",
           "linecolor": "white",
           "ticks": "",
           "title": {
            "standoff": 15
           },
           "zerolinecolor": "white",
           "zerolinewidth": 2
          },
          "yaxis": {
           "automargin": true,
           "gridcolor": "white",
           "linecolor": "white",
           "ticks": "",
           "title": {
            "standoff": 15
           },
           "zerolinecolor": "white",
           "zerolinewidth": 2
          }
         }
        },
        "width": 600
       }
      }
     },
     "metadata": {},
     "output_type": "display_data"
    }
   ],
   "source": [
    "import shapely.geometry\n",
    "lats = []\n",
    "lons = []\n",
    "names = []\n",
    "\n",
    "for feature, name in zip(gdf_results_pipeline.geometry,gdf_results_pipeline.index):\n",
    "    if isinstance(feature, shapely.geometry.linestring.LineString):\n",
    "        linestrings = [feature]\n",
    "    elif isinstance(feature, shapely.geometry.multilinestring.MultiLineString):\n",
    "        linestrings = feature.geoms\n",
    "    else:\n",
    "        continue\n",
    "    for linestring in linestrings:\n",
    "        x, y = linestring.xy\n",
    "        lats = np.append(lats, y)\n",
    "        lons = np.append(lons, x)\n",
    "        names = np.append(names, [name]*len(y))\n",
    "        lats = np.append(lats, None)\n",
    "        lons = np.append(lons, None)\n",
    "        names = np.append(names, None)\n",
    "        \n",
    "        \n",
    "fig = px.line_mapbox(lat=lats, lon=lons, hover_name=names,\n",
    "                     mapbox_style=\"carto-positron\", zoom=1)\n",
    "\n",
    "# set size\n",
    "fig.update_layout(\n",
    "    autosize=False,\n",
    "    width=600,\n",
    "    height=500,\n",
    "    margin=dict(\n",
    "        l=50,\n",
    "        r=50,\n",
    "        b=100,\n",
    "        t=100,\n",
    "        pad=4\n",
    "    ),\n",
    "    #paper_bgcolor=\"LightSteelBlue\",\n",
    ")\n",
    "fig.write_html(f\"{resultPath_postprocessing}/network_{country}_{name_run}.html\")\n",
    "fig.show()"
   ]
  },
  {
   "attachments": {},
   "cell_type": "markdown",
   "id": "70692b68",
   "metadata": {},
   "source": [
    "# Save as Shapefile"
   ]
  },
  {
   "cell_type": "code",
   "execution_count": 22,
   "metadata": {},
   "outputs": [],
   "source": [
    "#select what to save\n",
    "save_network = False\n",
    "save_existing_pipe = False\n",
    "save_cement_locations = False\n",
    "#country = \"Germany\""
   ]
  },
  {
   "cell_type": "code",
   "execution_count": 23,
   "id": "2bd9930f",
   "metadata": {},
   "outputs": [],
   "source": [
    "if save_network :\n",
    "# export pipeline as shapefile\n",
    "    gdf_export_pipeline = gdf_results_pipeline[['Distribution type','geometry']].copy()\n",
    "    gdf_export_pipeline = gpd.GeoDataFrame(gdf_export_pipeline , geometry='geometry' , crs=4326)\n",
    "    gdf_export_pipeline.to_file(f\"{resultPath_postprocessing}/Pipielines_{country}_{name_run}.shp\", driver='ESRI Shapefile')\n",
    "\n",
    "if save_existing_pipe:\n",
    "    if not df_existing_pipes.empty:\n",
    "# export pipeline as shapefile\n",
    "        gdf_export_existing_pipes = gdf_existing_pipes[['type','From VID', 'To VID','geometry']].copy()\n",
    "        gdf_export_existing_pipes = gpd.GeoDataFrame(gdf_export_existing_pipes , geometry='geometry' , crs=4326)\n",
    "        gdf_export_existing_pipes.to_file(f'{resultPath_postprocessing}/Exisiting_Pipielines_{country}_{name_run}.shp', driver='ESRI Shapefile')\n",
    "\n",
    "if save_cement_locations: \n",
    "# export Cement locations sites as shapefile\n",
    "    df_cement = make_geo_dataframe(df_cement)\n",
    "    gdf_export_cement = df_cement[['VID', 'geometry']].copy()\n",
    "    gdf_export_cement = gpd.GeoDataFrame(gdf_export_cement , geometry='geometry' , crs=4326)\n",
    "    gdf_export_cement.to_file(f'{resultPath_postprocessing}/Cement_locations_{country}_{name_run}.shp', driver='ESRI Shapefile')"
   ]
  },
  {
   "attachments": {},
   "cell_type": "markdown",
   "metadata": {},
   "source": [
    "---\n",
    "## Calculate Network costs"
   ]
  },
  {
   "cell_type": "code",
   "execution_count": 24,
   "metadata": {},
   "outputs": [],
   "source": [
    "def pipeline_length(gdf):\n",
    " #this function calculates the lengths of the calculated pipline network in IDRIC.\n",
    "   #Change pipeline crs\n",
    "    gdf.to_crs('EPSG:23028', inplace=True)\n",
    "    #Calculate distance:\n",
    "    gdf['dist_km'] = gdf.length/1000\n",
    "    #Change pipiline crs back:\n",
    "    gdf.to_crs('epsg:4326', inplace = True)\n",
    "    return"
   ]
  },
  {
   "cell_type": "code",
   "execution_count": 25,
   "metadata": {},
   "outputs": [],
   "source": [
    "def find_value_in_dataframe(df, search_column_name, search_name, result_column_name):\n",
    "    \"This function looks up a value in another coulmn\"\n",
    "    select_indices = np.where(df[search_column_name] == search_name)[0][0]\n",
    "    try:\n",
    "        result = df._get_value(select_indices,result_column_name,takeable = False)\n",
    "        #result = df_filtered[result_column_name].item()\n",
    "    except: \n",
    "        result = 0\n",
    "    return result"
   ]
  },
  {
   "cell_type": "code",
   "execution_count": 26,
   "metadata": {},
   "outputs": [],
   "source": [
    "def find_value_in_dataframe_w_two_cond(df, search_column_name1, search_column_name2, search_name1, search_name2, result_column_name):\n",
    "    \"This function looks up a value in another column\"\n",
    "    df_filtered = df.loc[(df[search_column_name1] == search_name1) & (df[search_column_name2] == search_name2)]\n",
    "    try:\n",
    "        result = float(df_filtered[result_column_name])\n",
    "    except:\n",
    "        try:\n",
    "            result = str(df_filtered[result_column_name].item())\n",
    "        except:\n",
    "            try:\n",
    "                result = int(df_filtered[result_column_name])\n",
    "            except: \n",
    "                result = 0\n",
    "    return result"
   ]
  },
  {
   "cell_type": "code",
   "execution_count": 27,
   "metadata": {},
   "outputs": [],
   "source": [
    "def currency_EUR_to_GBP(data_EUR):\n",
    "    exchange_rate = 1.13\t#https://www.finanzen.net/  Jan24th2023\n",
    "    data_GBP = data_EUR / exchange_rate\n",
    "    return data_GBP"
   ]
  },
  {
   "cell_type": "code",
   "execution_count": 28,
   "metadata": {},
   "outputs": [],
   "source": [
    "def currency_GBP_to_EUR(data_GBP):\n",
    "    exchange_rate = 1.13\t#https://www.finanzen.net/  Jan24th2023\n",
    "    data_EUR = data_GBP * exchange_rate\n",
    "    return data_EUR"
   ]
  },
  {
   "cell_type": "code",
   "execution_count": 29,
   "metadata": {},
   "outputs": [],
   "source": [
    "def calculate_costs_pipelines( df_models, type, dist_km): \n",
    "   \"This function calculates the pipeline_costs\"\n",
    "   inv_factor = find_value_in_dataframe(df_models,\"D\",type,\"NETWORK_COEFF\\nCAPEX\")\n",
    "   opex_factor = find_value_in_dataframe(df_models,\"D\",type,\"FLOW_COEFF\\nOPEX\")\n",
    "   \n",
    "   #CAPEX in €\n",
    "   CAPEX =  inv_factor*1000*dist_km\n",
    "   CAPEX = currency_GBP_to_EUR(CAPEX)\n",
    "   \n",
    "   #OPEX in €/a\n",
    "   OPEX_fixed = opex_factor*1000*dist_km\n",
    "   OPEX_fixed  = currency_GBP_to_EUR(OPEX_fixed )\n",
    "   \n",
    "   return CAPEX ,OPEX_fixed"
   ]
  },
  {
   "cell_type": "code",
   "execution_count": 30,
   "metadata": {},
   "outputs": [],
   "source": [
    "def calc_resource_flow (df_component_models,type,resource,capacity):\n",
    "    \"This function calculates the needs of a resource from component models\"\n",
    "    resource_factor = find_value_in_dataframe(df_component_models,\"J\", type, resource)\n",
    "    x = float(resource_factor)*capacity\n",
    "    return x"
   ]
  },
  {
   "cell_type": "code",
   "execution_count": 31,
   "metadata": {},
   "outputs": [],
   "source": [
    "def calculate_costs_interventions(df_models, type, number_of_plants, capacity): \n",
    "   \"This function calculates the costs using the idric inputs\"\n",
    "   plate_cap = find_value_in_dataframe(df_models,\"J\",type,\"NAME_PLATE_CAP\")\n",
    "   inv_factor = find_value_in_dataframe(df_models,\"J\",type,\"INV_COEFF\\nCAPEX\")\n",
    "   opex_factor = find_value_in_dataframe(df_models,\"J\",type,\"INV_COEFF\\nOPEX\")\n",
    "   process_factor = find_value_in_dataframe(df_models,\"J\",type,\"PROCESS_COEFF\\nOPEX\")\n",
    "   \n",
    "   #calculate capex\n",
    "   if plate_cap >0:\n",
    "      cap_factor = (float(capacity)/float(number_of_plants))/float(plate_cap)\n",
    "   else:\n",
    "      cap_factor = 1\n",
    "   CAPEX = inv_factor*1000*cap_factor*number_of_plants\n",
    "   CAPEX = currency_GBP_to_EUR(CAPEX)\n",
    "\n",
    "   #calculate fixed opex\n",
    "   OPEX_fixed = opex_factor*1000*cap_factor*number_of_plants\n",
    "   OPEX_fixed = currency_GBP_to_EUR(OPEX_fixed)\n",
    "\n",
    "   #clacluate variable opex----------------\n",
    "   OPEX_var = process_factor*1000*float(capacity)\n",
    "   OPEX_var = currency_GBP_to_EUR(OPEX_var)\n",
    "   \n",
    "   return CAPEX, OPEX_fixed, OPEX_var"
   ]
  },
  {
   "cell_type": "code",
   "execution_count": 32,
   "metadata": {},
   "outputs": [],
   "source": [
    "def add_transport_to_opex(df_models,type, df_transport,OPEX_var, grid, capacity):\n",
    "    #import transport costs\n",
    "    try:\n",
    "        transport_coeff_olivine =find_value_in_dataframe_w_two_cond(df_transport,\"RESOURCE\",\"Grid_id\",\"OLIVINE\",grid,\"TRANSPORT_COEFF\")\n",
    "    except:\n",
    "        transport_coeff_olivine =0\n",
    "    try:\n",
    "        transport_coeff_biomass =find_value_in_dataframe_w_two_cond(df_transport,\"RESOURCE\",\"Grid_id\",\"BIOMASS\",grid,\"TRANSPORT_COEFF\")\n",
    "    except:\n",
    "        transport_coeff_biomass=0\n",
    "    try:\n",
    "        transport_coeff_clay =find_value_in_dataframe_w_two_cond(df_transport,\"RESOURCE\",\"Grid_id\",\"CLAY\",grid,\"TRANSPORT_COEFF\")\n",
    "    except:\n",
    "        transport_coeff_clay=0\n",
    "\n",
    "    #import mass balance\n",
    "    factor_olivine = find_value_in_dataframe(df_models,\"J\",type,\"RESOURCE_CONV_RATE\\nOLIVINE\") \n",
    "    factor_biomass = find_value_in_dataframe(df_models,\"J\",type,\"RESOURCE_CONV_RATE\\nBIOMASS\")\n",
    "    factor_clay = find_value_in_dataframe(df_models,\"J\",type,\"RESOURCE_CONV_RATE\\nCLAY\")\n",
    "\n",
    "    #calculate OPEX (€/a)\n",
    "    cost_olivine = -1*float(factor_olivine)*float(transport_coeff_olivine)*1000*float(capacity)\n",
    "    cost_biomass = -1*float(factor_biomass)*float(transport_coeff_biomass)*1000*float(capacity)\n",
    "    cost_clay = -1*float(factor_clay)*float(transport_coeff_clay)*1000*float(capacity)\n",
    "\n",
    "    #Add OPEX to exisitng values\n",
    "    OPEX_var += currency_GBP_to_EUR(cost_olivine + cost_biomass + cost_clay)\n",
    "\n",
    "    return OPEX_var"
   ]
  },
  {
   "cell_type": "code",
   "execution_count": 33,
   "metadata": {},
   "outputs": [],
   "source": [
    "def add_energy_to_opex(df_models,type, OPEX_var, capacity):\n",
    "    \n",
    "    #UPDATE THIS / CHANGE THISSS !!!!!!!!!!!!!!!!!!!!!!!!\n",
    "\n",
    "    price_ELECTRICITY =   62 #GBP/WWH => UPDATE THIS\n",
    "    NAT_GAS_HIGH_P    = 40 #GBP/MWH => UPDATE THIS!!!\n",
    "\n",
    "    #import energy balance:\n",
    "    factor_electricity = find_value_in_dataframe(df_models,\"J\",type,\"RESOURCE_CONV_RATE\\nELECTRICITY\") #MWh/t\n",
    "    \n",
    "    \n",
    "    #calculate OPEX\n",
    "    OPEX_var += currency_EUR_to_GBP(-factor_electricity*price_ELECTRICITY)*float(capacity)\n",
    "    return OPEX_var"
   ]
  },
  {
   "cell_type": "code",
   "execution_count": 34,
   "metadata": {},
   "outputs": [],
   "source": [
    "def annualise_CAPEX (capex):\n",
    "    \"This function translates capex into annual costs\"\n",
    "    interest = 0.0769\n",
    "    Lifetime = 20\n",
    "    factor_annualisation = interest/(1-(1+interest)**-Lifetime)\n",
    "    annual_capex = factor_annualisation*capex\n",
    "    return annual_capex"
   ]
  },
  {
   "cell_type": "code",
   "execution_count": 35,
   "metadata": {},
   "outputs": [],
   "source": [
    "def levelised_cost_calculator (capex, opex_fixed, opex_var,capacity):\n",
    "    lcop = (annualise_CAPEX(capex) + opex_fixed +  opex_var)/(float(capacity))\n",
    "    return lcop"
   ]
  },
  {
   "cell_type": "markdown",
   "metadata": {},
   "source": [
    "We update all pipeline costs:"
   ]
  },
  {
   "cell_type": "code",
   "execution_count": 36,
   "metadata": {},
   "outputs": [
    {
     "data": {
      "text/html": [
       "<div>\n",
       "<style scoped>\n",
       "    .dataframe tbody tr th:only-of-type {\n",
       "        vertical-align: middle;\n",
       "    }\n",
       "\n",
       "    .dataframe tbody tr th {\n",
       "        vertical-align: top;\n",
       "    }\n",
       "\n",
       "    .dataframe thead th {\n",
       "        text-align: right;\n",
       "    }\n",
       "</style>\n",
       "<table border=\"1\" class=\"dataframe\">\n",
       "  <thead>\n",
       "    <tr style=\"text-align: right;\">\n",
       "      <th></th>\n",
       "      <th>grid_from</th>\n",
       "      <th>grid_to</th>\n",
       "      <th>type</th>\n",
       "      <th>TM</th>\n",
       "      <th>EXSTNG_PIPES</th>\n",
       "    </tr>\n",
       "  </thead>\n",
       "  <tbody>\n",
       "  </tbody>\n",
       "</table>\n",
       "</div>"
      ],
      "text/plain": [
       "Empty DataFrame\n",
       "Columns: [grid_from, grid_to, type, TM, EXSTNG_PIPES]\n",
       "Index: []"
      ]
     },
     "execution_count": 36,
     "metadata": {},
     "output_type": "execute_result"
    }
   ],
   "source": [
    "df_existing_pipes"
   ]
  },
  {
   "cell_type": "code",
   "execution_count": 37,
   "metadata": {},
   "outputs": [],
   "source": [
    "#first update existing pipes:\n",
    "if not df_existing_pipes.empty:\n",
    "    for index, row in gdf_existing_pipes.iterrows():\n",
    "        #find distribution type in existuing pipes\n",
    "        distribution_type = find_value_in_dataframe_w_two_cond(gdf_existing_pipes, \"grid_from\", \"grid_to\", gdf_existing_pipes.loc[index,\"grid_from\"],gdf_existing_pipes.loc[index,\"grid_to\"], \"type\")\n",
    "        #find correct index in results and update distribution type\n",
    "        try: \n",
    "            select_indices = np.where((gdf_results_pipeline[\"From grid\"] == gdf_existing_pipes.loc[index,\"grid_from\"]) & (gdf_results_pipeline[\"To grid\"] == gdf_existing_pipes.loc[index,\"grid_to\"]))[0][0]\n",
    "            gdf_results_pipeline.loc[select_indices,\"Distribution type\"]= distribution_type\n",
    "        except:\n",
    "            print(\"Error - not existing pipes not found in gdf_results_pipeline\")\n",
    "# second update invested pipes:\n",
    "\n",
    "for index, row in df_results_pipes_invest.iterrows():\n",
    "        #find distribution type in existuing pipes\n",
    "        distribution_type = find_value_in_dataframe_w_two_cond(df_results_pipes_invest, \"From grid\", \"To grid\", df_results_pipes_invest.loc[index,\"From grid\"],df_results_pipes_invest.loc[index,\"To grid\"], \"Distribution type\")\n",
    "        #print (distribution_type)\n",
    "        #find correct index in results and update distribution type\n",
    "        try: \n",
    "            select_indices = np.where((gdf_results_pipeline[\"From grid\"] == df_results_pipes_invest.loc[index,\"From grid\"]) & (gdf_results_pipeline[\"To grid\"] == df_results_pipes_invest.loc[index,\"To grid\"]))[0][0]\n",
    "            gdf_results_pipeline.loc[select_indices,\"Distribution type\"]= distribution_type\n",
    "        except:\n",
    "            print(\"Error - not existing pipes not found in gdf_results_pipeline\")\n"
   ]
  },
  {
   "attachments": {},
   "cell_type": "markdown",
   "metadata": {},
   "source": [
    "Calculate length of each pipeline built:"
   ]
  },
  {
   "cell_type": "code",
   "execution_count": 38,
   "metadata": {},
   "outputs": [],
   "source": [
    "pipeline_length(gdf_results_pipeline) \n",
    "gdf_results_pipeline['dist_km'] = gdf_results_pipeline['dist_km'].round(2); # round results to two decimal places"
   ]
  },
  {
   "attachments": {},
   "cell_type": "markdown",
   "metadata": {},
   "source": [
    "Iiterate through the network and add the costs:"
   ]
  },
  {
   "cell_type": "code",
   "execution_count": 39,
   "metadata": {},
   "outputs": [
    {
     "data": {
      "text/html": [
       "<div>\n",
       "<style scoped>\n",
       "    .dataframe tbody tr th:only-of-type {\n",
       "        vertical-align: middle;\n",
       "    }\n",
       "\n",
       "    .dataframe tbody tr th {\n",
       "        vertical-align: top;\n",
       "    }\n",
       "\n",
       "    .dataframe thead th {\n",
       "        text-align: right;\n",
       "    }\n",
       "</style>\n",
       "<table border=\"1\" class=\"dataframe\">\n",
       "  <thead>\n",
       "    <tr style=\"text-align: right;\">\n",
       "      <th></th>\n",
       "      <th>OID</th>\n",
       "      <th>From grid</th>\n",
       "      <th>To grid</th>\n",
       "      <th>Distribution type</th>\n",
       "      <th>Major time</th>\n",
       "      <th>Scenario</th>\n",
       "      <th>No. of units</th>\n",
       "      <th>From Point</th>\n",
       "      <th>To Point</th>\n",
       "      <th>geometry</th>\n",
       "      <th>dist_km</th>\n",
       "    </tr>\n",
       "  </thead>\n",
       "  <tbody>\n",
       "    <tr>\n",
       "      <th>0</th>\n",
       "      <td>PIPEID0</td>\n",
       "      <td>1</td>\n",
       "      <td>4</td>\n",
       "      <td>12INCH_CO2_ONSHORE</td>\n",
       "      <td>1</td>\n",
       "      <td>LL</td>\n",
       "      <td>1.0</td>\n",
       "      <td>(-4.15978, 42.874825)</td>\n",
       "      <td>(-4.46587, 41.941676)</td>\n",
       "      <td>LINESTRING (-4.15978 42.87483, -4.46587 41.94168)</td>\n",
       "      <td>107.65</td>\n",
       "    </tr>\n",
       "    <tr>\n",
       "      <th>1</th>\n",
       "      <td>PIPEID1</td>\n",
       "      <td>2</td>\n",
       "      <td>6</td>\n",
       "      <td>6INCH_CO2_ONSHORE</td>\n",
       "      <td>1</td>\n",
       "      <td>LL</td>\n",
       "      <td>1.0</td>\n",
       "      <td>(-3.474441, 40.244961)</td>\n",
       "      <td>(-8.663498253, 41.13424079)</td>\n",
       "      <td>LINESTRING (-3.47444 40.24496, -8.66350 41.13424)</td>\n",
       "      <td>452.62</td>\n",
       "    </tr>\n",
       "    <tr>\n",
       "      <th>2</th>\n",
       "      <td>PIPEID2</td>\n",
       "      <td>3</td>\n",
       "      <td>1</td>\n",
       "      <td>6INCH_CO2_ONSHORE</td>\n",
       "      <td>1</td>\n",
       "      <td>LL</td>\n",
       "      <td>1.0</td>\n",
       "      <td>(-2.190187, 42.882983)</td>\n",
       "      <td>(-4.15978, 42.874825)</td>\n",
       "      <td>LINESTRING (-2.19019 42.88298, -4.15978 42.87483)</td>\n",
       "      <td>162.71</td>\n",
       "    </tr>\n",
       "    <tr>\n",
       "      <th>3</th>\n",
       "      <td>PIPEID3</td>\n",
       "      <td>4</td>\n",
       "      <td>6</td>\n",
       "      <td>12INCH_CO2_ONSHORE</td>\n",
       "      <td>1</td>\n",
       "      <td>LL</td>\n",
       "      <td>1.0</td>\n",
       "      <td>(-4.46587, 41.941676)</td>\n",
       "      <td>(-8.663498253, 41.13424079)</td>\n",
       "      <td>LINESTRING (-4.46587 41.94168, -8.66350 41.13424)</td>\n",
       "      <td>363.64</td>\n",
       "    </tr>\n",
       "    <tr>\n",
       "      <th>4</th>\n",
       "      <td>PIPEID4</td>\n",
       "      <td>5</td>\n",
       "      <td>9</td>\n",
       "      <td>9INCH_CO2_ONSHORE</td>\n",
       "      <td>1</td>\n",
       "      <td>LL</td>\n",
       "      <td>1.0</td>\n",
       "      <td>(-5.865094, 37.359736)</td>\n",
       "      <td>(-6.836272132, 37.13771839)</td>\n",
       "      <td>LINESTRING (-5.86509 37.35974, -6.83627 37.13772)</td>\n",
       "      <td>90.23</td>\n",
       "    </tr>\n",
       "    <tr>\n",
       "      <th>5</th>\n",
       "      <td>PIPEID5</td>\n",
       "      <td>6</td>\n",
       "      <td>19</td>\n",
       "      <td>16INCH_CO2_OFFSHORE</td>\n",
       "      <td>1</td>\n",
       "      <td>LL</td>\n",
       "      <td>1.0</td>\n",
       "      <td>(-8.663498253, 41.13424079)</td>\n",
       "      <td>(-8.922661842, 41.09598137)</td>\n",
       "      <td>LINESTRING (-8.66350 41.13424, -8.92266 41.09598)</td>\n",
       "      <td>22.24</td>\n",
       "    </tr>\n",
       "    <tr>\n",
       "      <th>6</th>\n",
       "      <td>PIPEID6</td>\n",
       "      <td>9</td>\n",
       "      <td>42</td>\n",
       "      <td>9INCH_CO2_OFFSHORE</td>\n",
       "      <td>1</td>\n",
       "      <td>LL</td>\n",
       "      <td>1.0</td>\n",
       "      <td>(-6.836272132, 37.13771839)</td>\n",
       "      <td>(-7.324579604, 36.7747261)</td>\n",
       "      <td>LINESTRING (-6.83627 37.13772, -7.32458 36.77473)</td>\n",
       "      <td>59.62</td>\n",
       "    </tr>\n",
       "  </tbody>\n",
       "</table>\n",
       "</div>"
      ],
      "text/plain": [
       "       OID  From grid  To grid    Distribution type  Major time Scenario  \\\n",
       "0  PIPEID0          1        4   12INCH_CO2_ONSHORE           1       LL   \n",
       "1  PIPEID1          2        6    6INCH_CO2_ONSHORE           1       LL   \n",
       "2  PIPEID2          3        1    6INCH_CO2_ONSHORE           1       LL   \n",
       "3  PIPEID3          4        6   12INCH_CO2_ONSHORE           1       LL   \n",
       "4  PIPEID4          5        9    9INCH_CO2_ONSHORE           1       LL   \n",
       "5  PIPEID5          6       19  16INCH_CO2_OFFSHORE           1       LL   \n",
       "6  PIPEID6          9       42   9INCH_CO2_OFFSHORE           1       LL   \n",
       "\n",
       "   No. of units                   From Point                     To Point  \\\n",
       "0           1.0        (-4.15978, 42.874825)        (-4.46587, 41.941676)   \n",
       "1           1.0       (-3.474441, 40.244961)  (-8.663498253, 41.13424079)   \n",
       "2           1.0       (-2.190187, 42.882983)        (-4.15978, 42.874825)   \n",
       "3           1.0        (-4.46587, 41.941676)  (-8.663498253, 41.13424079)   \n",
       "4           1.0       (-5.865094, 37.359736)  (-6.836272132, 37.13771839)   \n",
       "5           1.0  (-8.663498253, 41.13424079)  (-8.922661842, 41.09598137)   \n",
       "6           1.0  (-6.836272132, 37.13771839)   (-7.324579604, 36.7747261)   \n",
       "\n",
       "                                            geometry  dist_km  \n",
       "0  LINESTRING (-4.15978 42.87483, -4.46587 41.94168)   107.65  \n",
       "1  LINESTRING (-3.47444 40.24496, -8.66350 41.13424)   452.62  \n",
       "2  LINESTRING (-2.19019 42.88298, -4.15978 42.87483)   162.71  \n",
       "3  LINESTRING (-4.46587 41.94168, -8.66350 41.13424)   363.64  \n",
       "4  LINESTRING (-5.86509 37.35974, -6.83627 37.13772)    90.23  \n",
       "5  LINESTRING (-8.66350 41.13424, -8.92266 41.09598)    22.24  \n",
       "6  LINESTRING (-6.83627 37.13772, -7.32458 36.77473)    59.62  "
      ]
     },
     "execution_count": 39,
     "metadata": {},
     "output_type": "execute_result"
    }
   ],
   "source": [
    "gdf_results_pipeline"
   ]
  },
  {
   "cell_type": "code",
   "execution_count": 40,
   "metadata": {},
   "outputs": [],
   "source": [
    "# add capacity for interventions:\n",
    "for index, row in df_results_idric_tech_invest.iterrows():\n",
    "    df_results_idric_tech_invest.at[index,\"capacity\"] =  find_value_in_dataframe_w_two_cond(df_results_idric_prod_rate,'process_tech','grid',row['process_tech'],row['grid'],'rate')\n",
    "\n",
    "# add capacity for end use technologies:\n",
    "for index, row in df_results_idric_nets_invest.iterrows():\n",
    "    df_results_idric_nets_invest.at[index,\"capacity\"] =  find_value_in_dataframe_w_two_cond(df_results_idric_prod_rate,'process_tech','grid',row['end_use_tech'],row['grid'],'rate')"
   ]
  },
  {
   "cell_type": "code",
   "execution_count": 41,
   "metadata": {},
   "outputs": [],
   "source": [
    "#Add costs for network to results dataframe:\n",
    "gdf_results_pipeline[[\"CAPEX_pipeline\", \"OPEX_fixed_pipeline\"]] = gdf_results_pipeline.apply(lambda x: calculate_costs_pipelines(df_pipe_models, x['Distribution type'], x['dist_km']), axis=1, result_type='expand')\n",
    "\n",
    "#Add costs for interventions to results dataframe:\n",
    "df_results_idric_tech_invest[[\"CAPEX_tech\",\"OPEX_fixed_tech\", \"OPEX_var_tech\"]] = df_results_idric_tech_invest.apply(lambda x: calculate_costs_interventions(df_component_models, x['process_tech'], x['number'], x['capacity']), axis=1, result_type='expand')\n",
    "df_results_idric_tech_invest[\"OPEX_var_tech\"] = df_results_idric_tech_invest.apply(lambda x: add_transport_to_opex(df_component_models,x['process_tech'], df_transport,x[\"OPEX_var_tech\"], x[\"grid\"], x[\"capacity\"]), axis=1)\n",
    "df_results_idric_tech_invest[\"LCOP_tech\"]= df_results_idric_tech_invest.apply(lambda x: levelised_cost_calculator(x[\"CAPEX_tech\"],x[\"OPEX_fixed_tech\"],x[\"OPEX_var_tech\"], x[\"capacity\"]), axis= 1)\n",
    "\n",
    "#Add costs for NETs:\n",
    "if not df_results_idric_nets_invest.empty:\n",
    "    df_results_idric_nets_invest[[\"CAPEX_tech\",\"OPEX_fixed_tech\", \"OPEX_var_tech\"]]= df_results_idric_nets_invest.apply(lambda x: calculate_costs_interventions(df_component_models, x['end_use_tech'], x['number'], x['capacity']), axis=1, result_type='expand')\n",
    "    #df_results_idric_nets_invest[\"OPEX_var_tech\"] = df_results_idric_nets_invest.apply(lambda x: add_energy_to_opex(df_component_models,x['end_use_tech'], x[\"OPEX_var_tech\"], x[\"capacity\"]), axis=1)\n",
    "#Add costs for storage\n",
    "df_results_idric_strg_invest[[\"CAPEX_tech\",\"OPEX_fixed_tech\", \"OPEX_var_tech\"]] = df_results_idric_strg_invest.apply(lambda x: calculate_costs_interventions(df_component_models, x['strg_tech'], x['number'], 1), axis=1, result_type='expand')"
   ]
  },
  {
   "attachments": {},
   "cell_type": "markdown",
   "metadata": {},
   "source": [
    "Add emission stored and emitted to the atmosphere:"
   ]
  },
  {
   "cell_type": "code",
   "execution_count": 42,
   "metadata": {},
   "outputs": [],
   "source": [
    "## Add CO2 fed into storage network\n",
    "df_results_idric_tech_invest[\"CO2_stored\"] = df_results_idric_tech_invest.apply(lambda x:calc_resource_flow(df_component_models,x['process_tech'],\"RESOURCE_CONV_RATE\\nCLIQ_CO2_ONSHORE\",x[\"capacity\"]), axis=1 )\n",
    "\n",
    "## Add CO2 emitted:\n",
    "df_results_idric_emissions = df_results_idric_emissions[df_results_idric_emissions[\"Resource\"] == \"EMITTED_CO2\"]\n",
    "df_results_idric_emissions.drop(columns=[\"Resource\",\"Minor time\", \"Major Time\", \"Scenario\"], axis = 1, inplace= True)\n",
    "df_results_idric_emissions.rename(columns={\"rate\":\"CO2_emitted\"}, inplace = True)\n",
    "df_results_idric_tech_invest= pd.merge(left= df_results_idric_tech_invest, right= df_results_idric_emissions, how='left', left_on=['grid'], right_on = ['grid'])"
   ]
  },
  {
   "attachments": {},
   "cell_type": "markdown",
   "metadata": {},
   "source": [
    "Calcualte network costs, by first determining CO2 tranpsort distance along the network. First create network from pipeline data:"
   ]
  },
  {
   "cell_type": "code",
   "execution_count": 43,
   "metadata": {},
   "outputs": [],
   "source": [
    "def create_network_from_pipeline_results (df_results_idric):\n",
    "    \"This function creates a networkx network from idric dataframe.\"\n",
    "\n",
    "    #rename columns so that networkx functions work on this\n",
    "    df_results_idric.rename(columns={'From Point':'source', 'To Point':'target'}, inplace=True)\n",
    "\n",
    "    #create network:\n",
    "    G = nx.from_pandas_edgelist(\n",
    "    df_results_idric,\n",
    "    edge_key=\"Distribution type\",\n",
    "    create_using=nx.MultiGraph(),\n",
    "    )\n",
    "\n",
    "    #rename colums back to old names:\n",
    "    df_results_idric.rename(columns={'source':'From Point', 'target':'To Point'}, inplace=True)\n",
    "    \n",
    "    #plot network if needed.\n",
    "    #nx.draw(G)\n",
    "\n",
    "    return G"
   ]
  },
  {
   "cell_type": "code",
   "execution_count": 44,
   "metadata": {},
   "outputs": [
    {
     "name": "stdout",
     "output_type": "stream",
     "text": [
      "SID132\n",
      "SID132\n",
      "SID132\n",
      "SID132\n",
      "SID155\n"
     ]
    }
   ],
   "source": [
    "#------------------------------------------------ Calculate each CO2 tranpsort route along network:\n",
    "#create network\n",
    "G=create_network_from_pipeline_results(df_results_idric)\n",
    "\n",
    "#create temporary dataframe\n",
    "df_temp = {'OID':[], 'geometry':[]}\n",
    "df_temp = pd.DataFrame(df_temp)\n",
    "df_temp[\"PIP_IDs\"] = \"\"\n",
    "df_temp[\"PIP_IDs\"].astype('object')\n",
    "\n",
    "df_grid_filtered_cement = df_grid_idric[df_grid_idric['OID'].str.contains(\"CID\")] # here we only filter out cement options\n",
    "#df_grid_filtered_cement = df_grid_filtered_cement[df_grid_filtered_cement['Grid_id'] == 7] # here we only filter out cement options\n",
    "\n",
    "for index, row in df_grid_filtered_cement.iterrows():\n",
    "    route = 0\n",
    "    lat = find_value_in_dataframe(df_grid_idric,'OID',row['OID'],'Latitude')\n",
    "    lon = find_value_in_dataframe(df_grid_idric,'OID',row['OID'],'Longitude')\n",
    "    start_point = (lon, lat)\n",
    "    try:\n",
    "        test_set = nx.algorithms.descendants(G,start_point) # shows all the nodes a node is connected to   \n",
    "    except:    \n",
    "        test_set = \"not_connected\"   \n",
    "    \n",
    "    #find out which storage site the point is connected to:\n",
    "    if not test_set == \"not_connected\":\n",
    "        \n",
    "        for val in test_set:\n",
    "            df_results = pd.DataFrame()\n",
    "            df_filtered = df_grid_idric[df_grid_idric['OID'].str.contains(\"SID\")]\n",
    "            test = find_value_in_dataframe_w_two_cond (df_filtered,'Longitude','Latitude',val[0],val[1],'OID')\n",
    "            if not test == 0:\n",
    "                storage_OID = test\n",
    "                print (storage_OID)\n",
    "                # calculate the distance the CO2 will have to travel from this plant to the storage site\n",
    "                lat = find_value_in_dataframe(df_grid_idric,'OID',storage_OID,'Latitude')\n",
    "                lon = find_value_in_dataframe(df_grid_idric,'OID',storage_OID,'Longitude')\n",
    "                try:\n",
    "                    #calculate route along pipeline network\n",
    "                    route = nx.shortest_path(G, source= start_point, target=(lon,lat), weight=None, method='dijkstra')\n",
    "                except:\n",
    "                    route = []\n",
    "                    df_temp[index,\"dist_km\"] = 0\n",
    "                    #save route for CO2 along pipelines\n",
    "                \n",
    "        # add results to df_temp dataframe:\n",
    "        df_temp.at[index,\"OID\"]=row['OID']\n",
    "        #make line of route if a route was found: \n",
    "        if not route == 0:\n",
    "            df_temp.at[index,\"geometry\"] = make_line(route)\n",
    "\n",
    "    #identify Pipe IDs connected to the used route: \n",
    "        pipe_ids = [] # start with new list every iteration\n",
    "        \n",
    "        if not route ==0 :\n",
    "            for point in range(len(route)-1):\n",
    "                start = route[point]\n",
    "                end = route[point+1]\n",
    "                pipe_id = find_value_in_dataframe_w_two_cond(gdf_results_pipeline,\"From Point\", \"To Point\",start,end,\"OID\")\n",
    "                pipe_ids.append(pipe_id)\n",
    "           \n",
    "        df_temp.at[index,\"PIP_IDs\"] = pipe_ids\n",
    "\n",
    "#make geodataframe from temporary dataframe:\n",
    "gdf_temp = gpd.GeoDataFrame(df_temp, geometry = 'geometry', crs='epsg:4326')\n",
    "\n",
    "#calcualte pipline length to storage for each plant\n",
    "if not gdf_temp.empty:\n",
    "    pipeline_length(gdf_temp)\n",
    "            \n",
    "#rename \"geometry\" to \"route_CO2\" \n",
    "gdf_temp.rename_geometry('route_CO2', inplace=True)\n",
    "\n",
    "#Put pipeline results into dataframe with results from grid: \n",
    "df_grid_filtered_cement = pd.merge(left=df_grid_filtered_cement, right=gdf_temp, how='left', left_on=['OID'],right_on = ['OID']).drop([\n",
    "\"GRIDTYPE\",\n",
    "\"GRIDTYPECODE\",\n",
    "\"TOT_CO2_STORES\",\n",
    "\"LANDFALL\",\n",
    "\"ONSHORE_GRIDS\",\n",
    "\"IMPORT_LOCATIONS\",\n",
    "\"EMISSION_FACTOR\",\n",
    "\"LOCATION_FACTOR\",\n",
    "\"AVAILABILITY\",\n",
    "\"HARBOUR\"], axis = 1)\n",
    "\n",
    "#Add results from tech investment:\n",
    "df_grid_filtered_cement = pd.merge(left= df_grid_filtered_cement, right= df_results_idric_tech_invest, how='left', left_on=['Grid_id'], right_on = ['grid']).drop([\"Grid_id\"],axis=1)\n",
    "\n",
    "#make geo"
   ]
  },
  {
   "cell_type": "code",
   "execution_count": 45,
   "metadata": {},
   "outputs": [
    {
     "data": {
      "text/plain": [
       "[(-5.865094, 37.359736),\n",
       " (-6.836272132, 37.13771839),\n",
       " (-7.324579604, 36.7747261)]"
      ]
     },
     "execution_count": 45,
     "metadata": {},
     "output_type": "execute_result"
    }
   ],
   "source": [
    "route"
   ]
  },
  {
   "cell_type": "markdown",
   "metadata": {},
   "source": [
    "Mark all pipelines that are existing pipelines (this will change the allocation methodology for the costs later on)"
   ]
  },
  {
   "cell_type": "code",
   "execution_count": 46,
   "metadata": {},
   "outputs": [],
   "source": [
    "#check if pipeline was an existing pipe\n",
    "gdf_results_pipeline[\"EXISTING_PIPE\"] = \"\"\n",
    "for index, row in gdf_results_pipeline.iterrows():\n",
    "    test =find_value_in_dataframe_w_two_cond(df_existing_pipes, \"grid_from\", \"grid_to\",gdf_results_pipeline.loc[index,\"From grid\"],gdf_results_pipeline.loc[index,\"To grid\"], \"EXSTNG_PIPES\")\n",
    "    if test == 1:\n",
    "        gdf_results_pipeline.loc[index,\"EXISTING_PIPE\"] = True\n",
    "    else:\n",
    "        gdf_results_pipeline.loc[index,\"EXISTING_PIPE\"] = False\n",
    "#gdf_results_pipeline"
   ]
  },
  {
   "cell_type": "markdown",
   "metadata": {},
   "source": [
    "Add flow rates to each pipeline"
   ]
  },
  {
   "cell_type": "code",
   "execution_count": 47,
   "metadata": {},
   "outputs": [],
   "source": [
    "#drop unnessary columns \n",
    "df_results_idric_flow_rate.drop(columns=[\"Distribution type\",\t\"Distribution mode\",\t\"Minor time\",\t\"Major Time\",\t\"Scenario\"], axis=0, inplace = True)\n",
    "\n",
    "#add flow rate to pipeline results:\n",
    "gdf_results_pipeline = pd.merge(gdf_results_pipeline, df_results_idric_flow_rate,  how='left', left_on=['From grid','To grid'], right_on = ['From grid','To grid'])\n",
    "\n",
    "#add maximum rate for each pipe type\n",
    "gdf_results_pipeline [\"max_rate\"] = gdf_results_pipeline.apply(lambda x:find_value_in_dataframe(df_pipe_models, \"D\", x['Distribution type'], \"FLOW_RSRC_MAX\"), axis=1, result_type='expand')\n"
   ]
  },
  {
   "attachments": {},
   "cell_type": "markdown",
   "metadata": {},
   "source": [
    "Calculate CO2 Avoided emissions."
   ]
  },
  {
   "cell_type": "code",
   "execution_count": 48,
   "metadata": {},
   "outputs": [],
   "source": [
    "df_grid_filtered_cement[\"CO2_generated\"] = df_grid_filtered_cement.apply(lambda x: calc_resource_flow(df_component_models,'INCUMBENT_CEMENT',\"RESOURCE_CONV_RATE\\nGENERATED_CO2\",x[\"capacity\"]), axis =1)\n",
    "df_grid_filtered_cement[\"CO2_avoided\"] = df_grid_filtered_cement.apply(lambda x: x['CO2_generated']-calc_resource_flow(df_component_models,x['process_tech'],\"RESOURCE_CONV_RATE\\nEMITTED_CO2\",x[\"capacity\"]), axis =1)\n",
    "df_grid_filtered_cement[\"Decarb_rate\"] = df_grid_filtered_cement.apply(lambda x: x[\"CO2_avoided\"]/x[\"CO2_generated\"], axis =1)"
   ]
  },
  {
   "attachments": {},
   "cell_type": "markdown",
   "metadata": {},
   "source": [
    "Drop cells with \"No Action\":"
   ]
  },
  {
   "cell_type": "code",
   "execution_count": 49,
   "metadata": {},
   "outputs": [],
   "source": [
    "df_grid_filtered_cement= df_grid_filtered_cement[df_grid_filtered_cement.process_tech != \"NO_ACTION\"]"
   ]
  },
  {
   "attachments": {},
   "cell_type": "markdown",
   "metadata": {},
   "source": [
    "---\n",
    "# Calculate the total network costs to be split up between all plants."
   ]
  },
  {
   "cell_type": "markdown",
   "metadata": {},
   "source": [
    "To split up the costs we can use to modes a) split up the entire network over all emitters using distance to storage site and amount of CO2 stored  or  b) only sections of pipelines that are shared by multiple plants are shared.\n",
    "\n",
    "Select splitting mode:"
   ]
  },
  {
   "cell_type": "code",
   "execution_count": 50,
   "metadata": {},
   "outputs": [],
   "source": [
    "allocation_mode_individual = True # if this variable is true, mode b) is selected. "
   ]
  },
  {
   "cell_type": "code",
   "execution_count": 51,
   "metadata": {},
   "outputs": [
    {
     "name": "stdout",
     "output_type": "stream",
     "text": [
      "CAPEX transport and storage:896.7432816492469 M€\n",
      "Annual CAPEX Network:89.2384659825952 M€\n",
      "CAPEX NETS: 1046.388572748868 M€\n",
      "CAPEX transport:513.9479591401066 M€\n",
      "CAPEX compression:9.89532250914036 M€\n",
      "CAPEX storage:372.9 M€\n"
     ]
    }
   ],
   "source": [
    "#------------------------------------------------Network costs ---------------------------------------------------------###\n",
    "#sum up pipeline costs:\n",
    "capex_network = gdf_results_pipeline[\"CAPEX_pipeline\"].sum()\n",
    "opex_network = gdf_results_pipeline[\"OPEX_fixed_pipeline\"].sum()\n",
    "\n",
    "#sum up compressor costs:\n",
    "df_filtered = df_results_idric_tech_invest[df_results_idric_tech_invest['process_tech'].str.contains(\"COMPRESSOR\")]\n",
    "capex_comp = df_filtered[\"CAPEX_tech\"].sum()\n",
    "opex_comp = df_filtered[\"OPEX_fixed_tech\"].sum()+df_filtered[\"OPEX_var_tech\"].sum()\n",
    "\n",
    "#sum up injection well costs: \n",
    "capex_strg = df_results_idric_strg_invest[\"CAPEX_tech\"].sum()\n",
    "opex_strg = df_results_idric_strg_invest[\"OPEX_fixed_tech\"].sum()+df_results_idric_strg_invest[\"OPEX_var_tech\"].sum()\n",
    "\n",
    "#sum up costs\n",
    "capex_storage_total =capex_comp + capex_strg\n",
    "opex_storage_total =opex_comp + opex_strg\n",
    "capex_network_total= capex_network + capex_storage_total \n",
    "opex_network_total = opex_network + opex_storage_total\n",
    "\n",
    "#---------------------------------------------Negative Emissions Tech--------------------------------------------------####\n",
    "if not df_results_idric_nets_invest.empty:\n",
    "    capex_nets_total = df_results_idric_nets_invest[\"CAPEX_tech\"].sum()\n",
    "    opex_nets_total = df_results_idric_nets_invest[\"OPEX_fixed_tech\"].sum()+df_results_idric_nets_invest[\"OPEX_var_tech\"].sum()\n",
    "else:\n",
    "    capex_nets_total = 0\n",
    "    opex_nets_total = 0\n",
    "\n",
    "#---------------------------------------------Show some results-------------------------------------------------------####\n",
    "#Print results on screen: \n",
    "print (f\"CAPEX transport and storage:{capex_network_total/1000000} M€\")\n",
    "print (f\"Annual CAPEX Network:{annualise_CAPEX(capex_network_total)/1000000} M€\")\n",
    "print (f\"CAPEX NETS: {capex_nets_total/1000000} M€\")\n",
    "print (f\"CAPEX transport:{capex_network/1000000} M€\")\n",
    "print (f\"CAPEX compression:{capex_comp/1000000} M€\")\n",
    "print (f\"CAPEX storage:{capex_strg/1000000} M€\")"
   ]
  },
  {
   "cell_type": "markdown",
   "metadata": {},
   "source": [
    "First we add levelized costs to pipeline network"
   ]
  },
  {
   "cell_type": "code",
   "execution_count": 52,
   "metadata": {},
   "outputs": [],
   "source": [
    "gdf_results_pipeline[\"LCOP_transport\"] = \"\"\n",
    "for index,rows in gdf_results_pipeline.iterrows():\n",
    "\n",
    "    factor_capacity = 0.5 # design capacity of trunklinge\n",
    "    LCOP = 0\n",
    "\n",
    "    if gdf_results_pipeline.loc[index,\"EXISTING_PIPE\"] == False:\n",
    "        LCOP = (annualise_CAPEX(gdf_results_pipeline.loc[index,\"CAPEX_pipeline\"]) + gdf_results_pipeline.loc[index,\"OPEX_fixed_pipeline\"])/gdf_results_pipeline.loc[index,\"rate\"]\n",
    "    elif gdf_results_pipeline.loc[index,\"EXISTING_PIPE\"] == True:\n",
    "        LCOP = (annualise_CAPEX(gdf_results_pipeline.loc[index,\"CAPEX_pipeline\"]) + gdf_results_pipeline.loc[index,\"OPEX_fixed_pipeline\"])/(gdf_results_pipeline.loc[index,\"max_rate\"]*factor_capacity)\n",
    "    \n",
    "    gdf_results_pipeline.loc[index, \"LCOP_transport\"] = LCOP\n",
    "\n",
    "gdf_results_pipeline[\"usage_percentage\"] = gdf_results_pipeline.apply(lambda x: x[\"rate\"]/x[\"max_rate\"], axis= 1)\n",
    "\n",
    "#gdf_results_pipeline.head(2)"
   ]
  },
  {
   "cell_type": "markdown",
   "metadata": {},
   "source": [
    "We add the levelized costs to the df_cement, if allocation mode is individual:"
   ]
  },
  {
   "cell_type": "code",
   "execution_count": 53,
   "metadata": {},
   "outputs": [],
   "source": [
    "if allocation_mode_individual:\n",
    "    df_grid_filtered_cement[\"LCOP_transport_strg\"] = \"\"\n",
    "    for index, row in df_grid_filtered_cement.iterrows():\n",
    "        pipe_idxs = df_grid_filtered_cement.loc[index,\"PIP_IDs\"]\n",
    "        CO2_stored = df_grid_filtered_cement.loc[index, \"CO2_stored\"]\n",
    "        LCOP_transport = 0\n",
    "        # Run through used pipes and add each levelized cost per tonne of CO2 transported:\n",
    "        if isinstance(pipe_idxs, list):\n",
    "            for i in pipe_idxs:\n",
    "                LCOP_transport += find_value_in_dataframe( gdf_results_pipeline, \"OID\", i, \"LCOP_transport\")\n",
    "        \n",
    "        # Turn LCOP per tonne of CO2 transported into per tonne of cement:#\n",
    "        LCOP_transport *= (df_grid_filtered_cement.loc[index, \"CO2_stored\"])\n",
    "        LCOP_transport /= (df_grid_filtered_cement.loc[index, \"capacity\"])\n",
    "\n",
    "        # Save results back into dataframe: \n",
    "        df_grid_filtered_cement.loc[index, \"LCOP_transport_strg\"] = LCOP_transport"
   ]
  },
  {
   "attachments": {},
   "cell_type": "markdown",
   "metadata": {},
   "source": [
    "We add allocate costs for network (if not individual) and for storage:"
   ]
  },
  {
   "cell_type": "code",
   "execution_count": 54,
   "metadata": {},
   "outputs": [],
   "source": [
    "df_grid_filtered_cement['capacity']=df_grid_filtered_cement['capacity'].astype('float')\n",
    "\n",
    "# allocate costs:\n",
    "if not allocation_mode_individual:\n",
    "    df_grid_filtered_cement[\"dist*CO2\"]=df_grid_filtered_cement.apply(lambda x: x[\"dist_km\"]*x[\"CO2_stored\"], axis = 1)\n",
    "    specific_levelised_cost_transport = (annualise_CAPEX(capex_network_total)+opex_network_total)/df_grid_filtered_cement[\"dist*CO2\"].sum()# specific costs per tonne and km\n",
    "    df_grid_filtered_cement.drop(columns=[\"dist*CO2\"],inplace=True)\n",
    "    df_grid_filtered_cement[\"LCOP_transport_strg\"] = df_grid_filtered_cement.apply(lambda x: x['dist_km']*x['CO2_stored']*specific_levelised_cost_transport/(x[\"capacity\"]), axis=1)\n",
    "elif allocation_mode_individual:\n",
    "    specific_levelised_cost_storage = (annualise_CAPEX(capex_storage_total)+opex_storage_total)/df_grid_filtered_cement[\"CO2_stored\"].sum()# specific costs per tonne and km\n",
    "    df_grid_filtered_cement[\"LCOP_transport_strg\"] = df_grid_filtered_cement.apply(lambda x: x[\"LCOP_transport_strg\"] + x['CO2_stored']*specific_levelised_cost_storage/(x[\"capacity\"]), axis=1)\n",
    "\n",
    "#if no transport is used, replace NAN with 0\n",
    "df_grid_filtered_cement[\"LCOP_transport_strg\"].fillna(0, inplace = True)\n",
    "df_grid_filtered_cement[\"LCOP_total\"]= df_grid_filtered_cement.apply(lambda x: x[\"LCOP_tech\"]+x[\"LCOP_transport_strg\"], axis = 1)"
   ]
  },
  {
   "attachments": {},
   "cell_type": "markdown",
   "metadata": {},
   "source": [
    "Split up NET costs over all relevant grid points/ plants"
   ]
  },
  {
   "cell_type": "code",
   "execution_count": 55,
   "metadata": {},
   "outputs": [],
   "source": [
    "if not df_results_idric_nets_invest.empty:\n",
    "    #df_results_idric_nets_invest[\"number*cap\"]=df_results_idric_nets_invest.apply(lambda x: float(x[\"number\"])*float(x[\"capacity\"]), axis = 1)\n",
    "    df_results_idric_nets_invest = df_results_idric_nets_invest.astype({'capacity':'float'})#make sure capacity is a float for using it later\n",
    "    specific_levelised_cost_nets = (annualise_CAPEX(capex_nets_total)+opex_nets_total)/((df_results_idric_nets_invest['capacity'].sum()))# specific costs per tonne of CO2 captured\n",
    "    df_grid_filtered_cement[\"LCOP_nets\"] = df_grid_filtered_cement.apply(lambda x: (x['CO2_emitted'])*specific_levelised_cost_nets/(x[\"capacity\"]), axis=1)\n",
    "else: \n",
    "    df_grid_filtered_cement[\"LCOP_nets\"] = 0"
   ]
  },
  {
   "attachments": {},
   "cell_type": "markdown",
   "metadata": {},
   "source": [
    "Caluculate Offset emissions according to allocated NETs costs."
   ]
  },
  {
   "cell_type": "code",
   "execution_count": 56,
   "metadata": {},
   "outputs": [],
   "source": [
    "if not df_results_idric_nets_invest.empty:\n",
    "    # NETs are equally spread over all emissions produced by one grid point /plant:\n",
    "    capacity_nets= df_results_idric_nets_invest[\"capacity\"].astype(float).sum()\n",
    "    #adjust capacity to stored CO2: \n",
    "    factor_adjustment_NET = -find_value_in_dataframe(df_component_models,\"J\",\"NET\",\"RESOURCE_CONV_RATE\\nEMITTED_CO2\")\n",
    "    capacity_nets*= factor_adjustment_NET\n",
    "    total_co2_emitted = df_grid_filtered_cement[\"CO2_emitted\"].astype(float).sum()\n",
    "    df_grid_filtered_cement[\"CO2_offset\"] = df_grid_filtered_cement.apply(lambda x: capacity_nets*(x[\"CO2_emitted\"]/total_co2_emitted), axis =1)"
   ]
  },
  {
   "attachments": {},
   "cell_type": "markdown",
   "metadata": {},
   "source": [
    "Calculate_avoidance costs:"
   ]
  },
  {
   "cell_type": "code",
   "execution_count": 57,
   "metadata": {},
   "outputs": [],
   "source": [
    "df_grid_filtered_cement[\"LCOP_CO2_avoided\"] = df_grid_filtered_cement.apply(lambda x: x[\"LCOP_total\"]*x[\"capacity\"]/x[\"CO2_avoided\"], axis= 1)\n",
    "df_grid_filtered_cement[\"LCOP_total_w_nets\"] = df_grid_filtered_cement.apply(lambda x: x[\"LCOP_total\"]+ x[\"LCOP_nets\"], axis= 1)\n",
    "df_grid_filtered_cement[\"LCOP_CO2_avoided_w_NETs\"] = df_grid_filtered_cement.apply(lambda x: x[\"LCOP_total_w_nets\"]*x[\"capacity\"]/x[\"CO2_avoided\"], axis= 1)\n",
    "\n",
    "##Calculate average LCOP\n",
    "average_LCOP_cement = sum(df_grid_filtered_cement[\"LCOP_total_w_nets\"]*df_grid_filtered_cement[\"capacity\"])/sum(df_grid_filtered_cement[\"capacity\"])"
   ]
  },
  {
   "attachments": {},
   "cell_type": "markdown",
   "metadata": {},
   "source": [
    "## Plot results as MACCs"
   ]
  },
  {
   "cell_type": "code",
   "execution_count": 58,
   "metadata": {},
   "outputs": [],
   "source": [
    "df_grid_filtered_cement.sort_values(\"LCOP_total_w_nets\", ascending=True, inplace=True)\n",
    "\n",
    "cummulative_reduction=0\n",
    "cummulative_reduction_w_nets = 0\n",
    "if not df_results_idric_nets_invest.empty:\n",
    "    for index, row in df_grid_filtered_cement.iterrows():\n",
    "        cummulative_reduction += (row['CO2_avoided']/df_grid_filtered_cement[\"CO2_generated\"].sum())\n",
    "        cummulative_reduction_w_nets += ((row['CO2_avoided']+row['CO2_offset'])/df_grid_filtered_cement[\"CO2_generated\"].sum())\n",
    "        df_grid_filtered_cement.at[index, 'Cummulative_CO2_avoided'] = cummulative_reduction\n",
    "        df_grid_filtered_cement.at[index, 'Cummulative_CO2_avoided_w_nets'] = cummulative_reduction_w_nets\n",
    "else:\n",
    "    for index, row in df_grid_filtered_cement.iterrows():\n",
    "        cummulative_reduction += (row['CO2_avoided']/df_grid_filtered_cement[\"CO2_generated\"].sum())\n",
    "        df_grid_filtered_cement.at[index, 'Cummulative_CO2_avoided'] = cummulative_reduction\n",
    "        df_grid_filtered_cement.at[index, 'Cummulative_CO2_avoided_w_nets'] = cummulative_reduction\n",
    "\n",
    "\n",
    "\n",
    "# Normalize results (due to rounding errors results can show up as +-1 % in the plots)\n",
    "df_grid_filtered_cement[\"Cummulative_CO2_avoided_w_nets\"] = df_grid_filtered_cement.apply(lambda x: x[\"Cummulative_CO2_avoided_w_nets\"]/ cummulative_reduction_w_nets, axis = 1)\n"
   ]
  },
  {
   "cell_type": "code",
   "execution_count": 59,
   "metadata": {},
   "outputs": [
    {
     "data": {
      "text/plain": [
       "0.9963348926732574"
      ]
     },
     "execution_count": 59,
     "metadata": {},
     "output_type": "execute_result"
    }
   ],
   "source": [
    "cummulative_reduction_w_nets"
   ]
  },
  {
   "cell_type": "code",
   "execution_count": 60,
   "metadata": {},
   "outputs": [],
   "source": [
    "df_grid_filtered_cement.reset_index(inplace=True)"
   ]
  },
  {
   "cell_type": "code",
   "execution_count": 61,
   "metadata": {},
   "outputs": [
    {
     "data": {
      "text/html": [
       "<div>\n",
       "<style scoped>\n",
       "    .dataframe tbody tr th:only-of-type {\n",
       "        vertical-align: middle;\n",
       "    }\n",
       "\n",
       "    .dataframe tbody tr th {\n",
       "        vertical-align: top;\n",
       "    }\n",
       "\n",
       "    .dataframe thead th {\n",
       "        text-align: right;\n",
       "    }\n",
       "</style>\n",
       "<table border=\"1\" class=\"dataframe\">\n",
       "  <thead>\n",
       "    <tr style=\"text-align: right;\">\n",
       "      <th></th>\n",
       "      <th>index</th>\n",
       "      <th>OID</th>\n",
       "      <th>Longitude</th>\n",
       "      <th>Latitude</th>\n",
       "      <th>latitude</th>\n",
       "      <th>longitude</th>\n",
       "      <th>parent_name</th>\n",
       "      <th>route_CO2</th>\n",
       "      <th>PIP_IDs</th>\n",
       "      <th>dist_km</th>\n",
       "      <th>...</th>\n",
       "      <th>Decarb_rate</th>\n",
       "      <th>LCOP_transport_strg</th>\n",
       "      <th>LCOP_total</th>\n",
       "      <th>LCOP_nets</th>\n",
       "      <th>CO2_offset</th>\n",
       "      <th>LCOP_CO2_avoided</th>\n",
       "      <th>LCOP_total_w_nets</th>\n",
       "      <th>LCOP_CO2_avoided_w_NETs</th>\n",
       "      <th>Cummulative_CO2_avoided</th>\n",
       "      <th>Cummulative_CO2_avoided_w_nets</th>\n",
       "    </tr>\n",
       "  </thead>\n",
       "  <tbody>\n",
       "    <tr>\n",
       "      <th>0</th>\n",
       "      <td>4</td>\n",
       "      <td>CID81</td>\n",
       "      <td>-5.865094</td>\n",
       "      <td>37.359736</td>\n",
       "      <td>37.359736</td>\n",
       "      <td>-5.865094</td>\n",
       "      <td>Cementos Portland Valderrivas SA</td>\n",
       "      <td>LINESTRING (-5.86509 37.35974, -6.83627 37.137...</td>\n",
       "      <td>[PIPEID4, PIPEID6]</td>\n",
       "      <td>149.856155</td>\n",
       "      <td>...</td>\n",
       "      <td>0.725477</td>\n",
       "      <td>9.183283</td>\n",
       "      <td>38.617375</td>\n",
       "      <td>33.300553</td>\n",
       "      <td>435958.923196</td>\n",
       "      <td>62.257080</td>\n",
       "      <td>71.917928</td>\n",
       "      <td>115.942636</td>\n",
       "      <td>0.186035</td>\n",
       "      <td>0.256897</td>\n",
       "    </tr>\n",
       "    <tr>\n",
       "      <th>1</th>\n",
       "      <td>0</td>\n",
       "      <td>CID77</td>\n",
       "      <td>-4.159780</td>\n",
       "      <td>42.874825</td>\n",
       "      <td>42.874825</td>\n",
       "      <td>-4.159780</td>\n",
       "      <td>Cementos Portland Valderrivas SA</td>\n",
       "      <td>LINESTRING (-4.15978 42.87483, -4.46587 41.941...</td>\n",
       "      <td>[PIPEID0, PIPEID3, PIPEID5]</td>\n",
       "      <td>493.530791</td>\n",
       "      <td>...</td>\n",
       "      <td>0.725477</td>\n",
       "      <td>11.771076</td>\n",
       "      <td>41.523177</td>\n",
       "      <td>32.597533</td>\n",
       "      <td>479791.548833</td>\n",
       "      <td>66.941675</td>\n",
       "      <td>74.120709</td>\n",
       "      <td>119.493855</td>\n",
       "      <td>0.395190</td>\n",
       "      <td>0.544055</td>\n",
       "    </tr>\n",
       "    <tr>\n",
       "      <th>2</th>\n",
       "      <td>3</td>\n",
       "      <td>CID80</td>\n",
       "      <td>-4.465870</td>\n",
       "      <td>41.941676</td>\n",
       "      <td>41.941676</td>\n",
       "      <td>-4.465870</td>\n",
       "      <td>Cementos Portland Valderrivas SA</td>\n",
       "      <td>LINESTRING (-4.46587 41.94168, -8.66350 41.134...</td>\n",
       "      <td>[PIPEID3, PIPEID5]</td>\n",
       "      <td>385.881191</td>\n",
       "      <td>...</td>\n",
       "      <td>0.725477</td>\n",
       "      <td>9.856149</td>\n",
       "      <td>41.260960</td>\n",
       "      <td>33.036355</td>\n",
       "      <td>335361.065748</td>\n",
       "      <td>66.518942</td>\n",
       "      <td>74.297315</td>\n",
       "      <td>119.778570</td>\n",
       "      <td>0.539442</td>\n",
       "      <td>0.742822</td>\n",
       "    </tr>\n",
       "    <tr>\n",
       "      <th>3</th>\n",
       "      <td>2</td>\n",
       "      <td>CID79</td>\n",
       "      <td>-2.190187</td>\n",
       "      <td>42.882983</td>\n",
       "      <td>42.882983</td>\n",
       "      <td>-2.190187</td>\n",
       "      <td>Cementos Portland Valderrivas SA</td>\n",
       "      <td>LINESTRING (-2.19019 42.88298, -4.15978 42.874...</td>\n",
       "      <td>[PIPEID2, PIPEID0, PIPEID3, PIPEID5]</td>\n",
       "      <td>656.240344</td>\n",
       "      <td>...</td>\n",
       "      <td>0.725477</td>\n",
       "      <td>16.707786</td>\n",
       "      <td>46.925600</td>\n",
       "      <td>32.842136</td>\n",
       "      <td>187387.890759</td>\n",
       "      <td>75.651203</td>\n",
       "      <td>79.767736</td>\n",
       "      <td>128.597721</td>\n",
       "      <td>0.620522</td>\n",
       "      <td>0.854364</td>\n",
       "    </tr>\n",
       "    <tr>\n",
       "      <th>4</th>\n",
       "      <td>1</td>\n",
       "      <td>CID78</td>\n",
       "      <td>-3.474441</td>\n",
       "      <td>40.244961</td>\n",
       "      <td>40.244961</td>\n",
       "      <td>-3.474441</td>\n",
       "      <td>Cementos Portland Valderrivas SA</td>\n",
       "      <td>LINESTRING (-3.47444 40.24496, -8.66350 41.134...</td>\n",
       "      <td>[PIPEID1, PIPEID5]</td>\n",
       "      <td>474.859167</td>\n",
       "      <td>...</td>\n",
       "      <td>0.725477</td>\n",
       "      <td>16.143866</td>\n",
       "      <td>50.766306</td>\n",
       "      <td>33.890689</td>\n",
       "      <td>250314.135691</td>\n",
       "      <td>81.843006</td>\n",
       "      <td>84.656995</td>\n",
       "      <td>136.479950</td>\n",
       "      <td>0.725477</td>\n",
       "      <td>1.000000</td>\n",
       "    </tr>\n",
       "  </tbody>\n",
       "</table>\n",
       "<p>5 rows × 34 columns</p>\n",
       "</div>"
      ],
      "text/plain": [
       "   index    OID  Longitude   Latitude   latitude  longitude  \\\n",
       "0      4  CID81  -5.865094  37.359736  37.359736  -5.865094   \n",
       "1      0  CID77  -4.159780  42.874825  42.874825  -4.159780   \n",
       "2      3  CID80  -4.465870  41.941676  41.941676  -4.465870   \n",
       "3      2  CID79  -2.190187  42.882983  42.882983  -2.190187   \n",
       "4      1  CID78  -3.474441  40.244961  40.244961  -3.474441   \n",
       "\n",
       "                        parent_name  \\\n",
       "0  Cementos Portland Valderrivas SA   \n",
       "1  Cementos Portland Valderrivas SA   \n",
       "2  Cementos Portland Valderrivas SA   \n",
       "3  Cementos Portland Valderrivas SA   \n",
       "4  Cementos Portland Valderrivas SA   \n",
       "\n",
       "                                           route_CO2  \\\n",
       "0  LINESTRING (-5.86509 37.35974, -6.83627 37.137...   \n",
       "1  LINESTRING (-4.15978 42.87483, -4.46587 41.941...   \n",
       "2  LINESTRING (-4.46587 41.94168, -8.66350 41.134...   \n",
       "3  LINESTRING (-2.19019 42.88298, -4.15978 42.874...   \n",
       "4  LINESTRING (-3.47444 40.24496, -8.66350 41.134...   \n",
       "\n",
       "                                PIP_IDs     dist_km  ... Decarb_rate  \\\n",
       "0                    [PIPEID4, PIPEID6]  149.856155  ...    0.725477   \n",
       "1           [PIPEID0, PIPEID3, PIPEID5]  493.530791  ...    0.725477   \n",
       "2                    [PIPEID3, PIPEID5]  385.881191  ...    0.725477   \n",
       "3  [PIPEID2, PIPEID0, PIPEID3, PIPEID5]  656.240344  ...    0.725477   \n",
       "4                    [PIPEID1, PIPEID5]  474.859167  ...    0.725477   \n",
       "\n",
       "   LCOP_transport_strg  LCOP_total  LCOP_nets     CO2_offset  \\\n",
       "0             9.183283   38.617375  33.300553  435958.923196   \n",
       "1            11.771076   41.523177  32.597533  479791.548833   \n",
       "2             9.856149   41.260960  33.036355  335361.065748   \n",
       "3            16.707786   46.925600  32.842136  187387.890759   \n",
       "4            16.143866   50.766306  33.890689  250314.135691   \n",
       "\n",
       "   LCOP_CO2_avoided  LCOP_total_w_nets  LCOP_CO2_avoided_w_NETs  \\\n",
       "0         62.257080          71.917928               115.942636   \n",
       "1         66.941675          74.120709               119.493855   \n",
       "2         66.518942          74.297315               119.778570   \n",
       "3         75.651203          79.767736               128.597721   \n",
       "4         81.843006          84.656995               136.479950   \n",
       "\n",
       "   Cummulative_CO2_avoided  Cummulative_CO2_avoided_w_nets  \n",
       "0                 0.186035                        0.256897  \n",
       "1                 0.395190                        0.544055  \n",
       "2                 0.539442                        0.742822  \n",
       "3                 0.620522                        0.854364  \n",
       "4                 0.725477                        1.000000  \n",
       "\n",
       "[5 rows x 34 columns]"
      ]
     },
     "execution_count": 61,
     "metadata": {},
     "output_type": "execute_result"
    }
   ],
   "source": [
    "df_grid_filtered_cement"
   ]
  },
  {
   "cell_type": "markdown",
   "metadata": {},
   "source": [
    "Set font size: "
   ]
  },
  {
   "cell_type": "code",
   "execution_count": 62,
   "metadata": {},
   "outputs": [],
   "source": [
    "font = {'family' : 'Arial',\n",
    "        'weight' : 'normal',\n",
    "        'size'   : 18}\n",
    "\n",
    "plt.rc('font', **font)"
   ]
  },
  {
   "cell_type": "code",
   "execution_count": 63,
   "metadata": {},
   "outputs": [
    {
     "data": {
      "image/png": "[encoded data removed]",
      "text/plain": [
       "<Figure size 1097.28x914.4 with 1 Axes>"
      ]
     },
     "metadata": {
      "needs_background": "light"
     },
     "output_type": "display_data"
    }
   ],
   "source": [
    "df_grid_filtered_cement.sort_values(\"LCOP_total_w_nets\", ascending=True, inplace=True)\n",
    "\n",
    "x = df_grid_filtered_cement['Cummulative_CO2_avoided_w_nets'].to_numpy()\n",
    "y = df_grid_filtered_cement['LCOP_total'].to_numpy()\n",
    "\n",
    "#calulate width for each bar:\n",
    "for index, row in df_grid_filtered_cement.iterrows():\n",
    "    if index == 0:\n",
    "        df_grid_filtered_cement.at[index, 'Width_CO2_avoided_w_nets'] =df_grid_filtered_cement.at[index, 'Cummulative_CO2_avoided_w_nets']\n",
    "    else:\n",
    "        df_grid_filtered_cement.at[index, 'Width_CO2_avoided_w_nets'] =df_grid_filtered_cement.at[index, 'Cummulative_CO2_avoided_w_nets']- df_grid_filtered_cement.at[index-1, 'Cummulative_CO2_avoided_w_nets']\n",
    "\n",
    "\n",
    "\n",
    "w = df_grid_filtered_cement['Width_CO2_avoided_w_nets'].to_numpy()\n",
    "\n",
    "\n",
    "colors = {\n",
    "\"CCS_CEMENT\":(128,0,0),\n",
    "\"BIOMASS_CEMENT\":(128,128,0),\n",
    "\"CCS_BIOMASS_CEMENT\":(60,180,75),\n",
    "\"MINERAL_CEMENT\":(0,130,200), \n",
    "\"BIOMASS_MINERAL_CEMENT\":(0,128,128),\n",
    "\"CCS_BIOMASS_MINERAL_CEMENT\":(170,110,40),\n",
    "\"CCS_MINERAL_CEMENT\":(0,0,128),\n",
    "\"CALCINED_CLAY_CEMENT\":(145,30,180),\n",
    "\"CALCINED_CLAY_BIOMASS_CEMENT\":(240,50,230),\n",
    "\"CCS_CALCINED_CLAY_CEMENT\":(220,190,255),\n",
    "\"CCS_CALCINED_CLAY_BIOMASS_CEMENT\":(128,128,128),\n",
    "\"NETS\":(255,215,180)}\n",
    "\n",
    "labels = {\n",
    "    \"CCS_CEMENT\":\"CCS\",\n",
    "    \"BIOMASS_CEMENT\":\"Biomass\",\n",
    "    \"CCS_BIOMASS_CEMENT\":\"CCS, biomass\",\n",
    "    \"MINERAL_CEMENT\":\"$CO_{2}$ mineralisation\", \n",
    "    \"BIOMASS_MINERAL_CEMENT\":\"$CO_{2}$ mineralisation, biomass\",\n",
    "    \"CCS_BIOMASS_MINERAL_CEMENT\":\"CCS, $CO_{2}$ mineralisation, biomass\",\n",
    "    \"CCS_MINERAL_CEMENT\":\"CCS, $CO_{2}$ mineralisation\",\n",
    "    \"CALCINED_CLAY_CEMENT\":\"Calcined clay\",\n",
    "    \"CALCINED_CLAY_BIOMASS_CEMENT\":\"Calcined clay, biomass\",\n",
    "    \"CCS_CALCINED_CLAY_CEMENT\":\"CCS, calcined clay\",\n",
    "    \"CCS_CALCINED_CLAY_BIOMASS_CEMENT\":\"CCS, calcined clay, biomass\",\n",
    "    \"NETS\":(255,216,177)\n",
    "\n",
    "    }\n",
    "\n",
    "\n",
    "# Plot the results through a loop:\n",
    "xticks=[]\n",
    "for n, c in enumerate(w):\n",
    "    xticks.append((sum(w[:n]) + w[n]/2))\n",
    "    \n",
    "techs=df_grid_filtered_cement.process_tech.unique()\n",
    "\n",
    "#create figure:\n",
    "fig, ax = plt.subplots()\n",
    "scale = 100\n",
    "\n",
    "count= 0\n",
    "color_idx = 0\n",
    "legend=[]\n",
    "for index, row in df_grid_filtered_cement.iterrows():\n",
    "        df_grid_filtered_cement.loc[index,\"xticks\"]= row['Cummulative_CO2_avoided_w_nets']- row['Width_CO2_avoided_w_nets']/2\n",
    "\n",
    "for l in techs:\n",
    "    \n",
    "    df_temp = df_grid_filtered_cement[df_grid_filtered_cement['process_tech'] == l] # here we only filter out cement options\n",
    "    xticks = df_temp[\"xticks\"].to_numpy()\n",
    "    y = df_temp['LCOP_total'].to_numpy()\n",
    "    y_2 = df_temp[\"LCOP_nets\"].to_numpy()\n",
    "    w = df_temp['Width_CO2_avoided_w_nets'].to_numpy()\n",
    "    \n",
    "    #Plot interventions\n",
    "    #rgb = (random.random(), random.random(), random.random())\n",
    "    colors_select = colors[l]\n",
    "    colors_select = make_rgb_range_0_1_from_tuple(colors_select)\n",
    "    rgb = colors_select\n",
    "\n",
    "    a = plt.bar(xticks, height = y, width = w, color = rgb, edgecolor = 'grey', label=labels[l], alpha = 0.8)\n",
    "    if count == 0:\n",
    "        b =plt.bar(xticks, height = y_2, width = w,bottom =y , color = make_rgb_range_0_1_from_tuple(colors[\"NETS\"]), edgecolor = 'grey', label=\"DACCS\", alpha = 0.3, hatch=\"//\")\n",
    "    else:\n",
    "        b =plt.bar(xticks, height = y_2, width = w,bottom =y , color = make_rgb_range_0_1_from_tuple(colors[\"NETS\"]), edgecolor = 'grey', alpha = 0.3, hatch=\"//\")\n",
    "    plt.xticks(rotation=45)\n",
    "\n",
    "    #add cout for xticks:\n",
    "    count = xticks[len(xticks) - 1]+w[len(xticks) - 1]/2\n",
    "\n",
    "    #advance index for color selection: \n",
    "    color_idx += 1\n",
    "\n",
    "legend = plt.legend(loc='upper right')\n",
    "legend.get_frame().set_alpha(0.3)\n",
    "\n",
    "#add labels:\n",
    "plt.xlabel(\"Cummulative emission reduction \")\n",
    "plt.ylabel(\"Added cost of cement in [$€$ $t^{{-1}}_{cement}$]\")\n",
    "\n",
    "figure_width = 6 #cm\n",
    "figure_height = 5 #cm\n",
    "fig.set_size_inches (figure_width*2.54, figure_height*2.54)\n",
    "\n",
    "def formatter(x, pos):\n",
    "    \"this function deletes the x or y axis labels and makes percentage out of them\"\n",
    "    del pos\n",
    "    return f\"{str(round(x*100,0))}%\"\n",
    "\n",
    "ax.xaxis.set_major_formatter(formatter)\n",
    "\n",
    "#add text box to left corner: \n",
    "\n",
    "textstr =(f\"TCR transport and storage: {round(capex_network_total/1000000)} $M€$\\n\"\n",
    "    f\"TCR interventions: {round(sum(df_grid_filtered_cement.CAPEX_tech)/1000000)} $M€$\\n\"\n",
    "    f\"TCR NETS: {round(capex_nets_total/1000000)} $M€$\\n\"\n",
    "    f\"Average added costs: {round(average_LCOP_cement)} $€$ $t^{{-1}}_{{cement}}$\"\n",
    "     )\n",
    "\n",
    "# these are matplotlib.patch.Patch properties\n",
    "props = dict(boxstyle='round', facecolor='white', alpha=0.5, pad = 0.4)\n",
    "\n",
    "# make all text non-italic:\n",
    "params = {'mathtext.default': 'regular' }          \n",
    "plt.rcParams.update(params)\n",
    "\n",
    "# place a text box in upper left in axes coords\n",
    "ax.text(0.02, 0.98, textstr, transform=ax.transAxes, verticalalignment='top', bbox=props)\n",
    "\n",
    "\n",
    "ax = plt.gca()\n",
    "ax.set_ylim([0, 120])\n",
    "plt.xticks(rotation=70)\n",
    "\n",
    "plt.savefig(f\"{resultPath_postprocessing}/MACC_{country}_{name_run}.svg\",transparent=True)\n",
    "plt.show()\n"
   ]
  },
  {
   "cell_type": "code",
   "execution_count": 64,
   "metadata": {},
   "outputs": [
    {
     "data": {
      "image/png": "[encoded data removed]",
      "text/plain": [
       "<Figure size 1097.28x804.672 with 1 Axes>"
      ]
     },
     "metadata": {
      "needs_background": "light"
     },
     "output_type": "display_data"
    }
   ],
   "source": [
    "\n",
    "#create figure:\n",
    "fig, ax = plt.subplots()\n",
    "scale = 100\n",
    "\n",
    "figure_width = 6 #cm\n",
    "figure_height = 4.4 #cm\n",
    "fig.set_size_inches (figure_width*2.54, figure_height*2.54)\n",
    "\n",
    "def formatter(x, pos):\n",
    "    \"this function deletes the x or y axis labels and makes percentage out of them\"\n",
    "    del pos\n",
    "    return f\"{str(round(x*100,0))}%\"\n",
    "\n",
    "ax.xaxis.set_major_formatter(formatter)\n",
    "\n",
    "#add text box to left corner: \n",
    "\n",
    "textstr =(f\"TCR transport and storage: $€${1217} $M$\\n\"\n",
    "    f\"TCR interventions: $€${530} $M$\\n\"\n",
    "    f\"TCR direct air capture: $€${397} $M$\\n\"\n",
    "    f\"Average added costs: $€${50} $t^{{-1}}_{{cement}}$\"\n",
    "    )\n",
    "\n",
    "# these are matplotlib.patch.Patch properties\n",
    "props = dict(boxstyle='round', facecolor='white', alpha=0.5, pad = 0.4)\n",
    "\n",
    "# make all text non-italic:\n",
    "params = {'mathtext.default': 'regular' }          \n",
    "plt.rcParams.update(params)\n",
    "\n",
    "# place a text box in upper left in axes coords\n",
    "ax.text(0.02, 0.98, textstr, transform=ax.transAxes, verticalalignment='top', bbox=props)\n",
    "\n",
    "\n",
    "ax = plt.gca()\n",
    "ax.set_ylim([0, 120])\n",
    "plt.xticks(rotation=70)\n",
    "\n",
    "plt.savefig(\"C:/Users/bst3191/OneDrive - Technische Universität Berlin/Promotion/Papers/Geospatial-paper/Figures/Textbox_UK_50.svg\",transparent=True)\n",
    "plt.show()\n"
   ]
  },
  {
   "attachments": {},
   "cell_type": "markdown",
   "metadata": {},
   "source": [
    "Export as CSV"
   ]
  },
  {
   "cell_type": "code",
   "execution_count": 65,
   "metadata": {},
   "outputs": [],
   "source": [
    "df_grid_filtered_cement.to_csv(f\"{resultPath_postprocessing}/Results_{country}_{name_run}.csv\",sep=';', index=False)"
   ]
  },
  {
   "attachments": {},
   "cell_type": "markdown",
   "metadata": {},
   "source": [
    "---\n",
    "## Export chosen inteventions as shapefiles"
   ]
  },
  {
   "attachments": {},
   "cell_type": "markdown",
   "metadata": {},
   "source": [
    "Add coordinates to results sheets:"
   ]
  },
  {
   "cell_type": "code",
   "execution_count": 66,
   "metadata": {},
   "outputs": [],
   "source": [
    "def add_geometry_for_IDRC_outputs (df_results, gdf_input):\n",
    "    gdf_grid_idric_short = gdf_input[['OID','Grid_id','geometry']].copy()\n",
    "    df_results.rename(columns={'grid':'Grid_id'}, inplace=True)\n",
    "\n",
    "    #merge two dataFrames and add indicator column\n",
    "    all_df = pd.merge(df_results, gdf_grid_idric_short, on=['Grid_id'], how='right', indicator='exists')\n",
    "\n",
    "    #add column to show if each row in first DataFrame exists in second\n",
    "    all_df['exists'] = np.where(all_df.exists == 'both', True, False)\n",
    "    all_df_filtered = all_df[all_df['exists']==True].copy()\n",
    "    all_df_filtered.drop(columns={'exists'}, inplace= True)\n",
    "    return all_df_filtered"
   ]
  },
  {
   "cell_type": "code",
   "execution_count": 67,
   "metadata": {},
   "outputs": [],
   "source": [
    "#make geodataframe from input: \n",
    "gdf_grid_idric = make_geo_dataframe(df_grid_idric)\n",
    "\n",
    "#add coordinates to each export dataframes:\n",
    "gdf_results_tech_invest = add_geometry_for_IDRC_outputs (df_results_idric_tech_invest, gdf_grid_idric)\n",
    "gdf_results_nets_invest  = add_geometry_for_IDRC_outputs(df_results_idric_nets_invest, gdf_grid_idric)\n",
    "gdf_results_nets_invest = gdf_results_nets_invest [gdf_results_nets_invest.capacity != 0] #drop when NETs are installed with 0 capacity"
   ]
  },
  {
   "attachments": {},
   "cell_type": "markdown",
   "metadata": {},
   "source": [
    "Save to shapefile:"
   ]
  },
  {
   "cell_type": "code",
   "execution_count": 68,
   "metadata": {},
   "outputs": [],
   "source": [
    "def swap_xy(geom):\n",
    "    #This function changes x and y coordinates, taken from https://gis.stackexchange.com/questions/291247/interchange-y-x-to-x-y-with-geopandas-python-or-qgis\n",
    "    if geom.is_empty:\n",
    "        return geom\n",
    "\n",
    "    if geom.has_z:\n",
    "        def swap_xy_coords(coords):\n",
    "            for x, y, z in coords:\n",
    "                yield (y, x, z)\n",
    "    else:\n",
    "        def swap_xy_coords(coords):\n",
    "            for x, y in coords:\n",
    "                yield (y, x)\n",
    "\n",
    "    # Process coordinates from each supported geometry type\n",
    "    if geom.type in ('Point', 'LineString', 'LinearRing'):\n",
    "        return type(geom)(list(swap_xy_coords(geom.coords)))\n",
    "    elif geom.type == 'Polygon':\n",
    "        ring = geom.exterior\n",
    "        shell = type(ring)(list(swap_xy_coords(ring.coords)))\n",
    "        holes = list(geom.interiors)\n",
    "        for pos, ring in enumerate(holes):\n",
    "            holes[pos] = type(ring)(list(swap_xy_coords(ring.coords)))\n",
    "        return type(geom)(shell, holes)\n",
    "    elif geom.type.startswith('Multi') or geom.type == 'GeometryCollection':\n",
    "        # Recursive call\n",
    "        return type(geom)([swap_xy(part) for part in geom.geoms])\n",
    "    else:\n",
    "        raise ValueError('Type %r not recognized' % geom.type)"
   ]
  },
  {
   "cell_type": "code",
   "execution_count": 69,
   "metadata": {},
   "outputs": [],
   "source": [
    "save_tech_invest =False\n",
    "save_net_invest = False\n",
    "\n",
    "if save_tech_invest:\n",
    "# export as shapefile\n",
    "    #swap xy coordinates: \n",
    "    gdf_results_tech_invest['geometry'] =  gdf_results_tech_invest['geometry'].apply(lambda x: swap_xy(x))\n",
    "    gdf_results_tech_invest = gpd.GeoDataFrame(gdf_results_tech_invest , geometry='geometry' , crs=4326)\n",
    "    gdf_results_tech_invest.to_file(f\"{resultPath_postprocessing}/Interventions_{country}_{name_run}.shp\", driver='ESRI Shapefile')\n",
    "\n",
    "if save_net_invest:\n",
    "    if not df_results_idric_nets_invest.empty:\n",
    "# export  as shapefile\n",
    "        #swap xy coordinates: \n",
    "        gdf_results_nets_invest['geometry'] =  gdf_results_nets_invest['geometry'].apply(lambda x: swap_xy(x))\n",
    "        gdf_results_nets_invest  = gpd.GeoDataFrame(gdf_results_nets_invest , geometry='geometry' , crs=4326)\n",
    "        gdf_results_nets_invest.to_file(f\"{resultPath_postprocessing}/Enduse_{country}_{name_run}.shp\", driver='ESRI Shapefile')    "
   ]
  },
  {
   "attachments": {},
   "cell_type": "markdown",
   "metadata": {},
   "source": [
    "----"
   ]
  },
  {
   "attachments": {},
   "cell_type": "markdown",
   "metadata": {},
   "source": [
    "## Plot results as Maps"
   ]
  },
  {
   "cell_type": "code",
   "execution_count": 70,
   "metadata": {},
   "outputs": [
    {
     "data": {
      "application/vnd.plotly.v1+json": {
       "config": {
        "plotlyServerURL": "https://plot.ly"
       },
       "data": [
        {
         "lat": [
          37.359736,
          42.874825,
          41.941676,
          42.882983,
          40.244961
         ],
         "lon": [
          -5.865094,
          -4.15978,
          -4.46587,
          -2.190187,
          -3.474441
         ],
         "marker": {
          "cmax": 120,
          "cmid": 52.5,
          "cmin": 40,
          "color": [
           71.91792773615992,
           74.1207092021967,
           74.2973147593945,
           79.7677361385658,
           84.65699518378759
          ],
          "colorbar": {
           "dtick": 10,
           "outlinecolor": "rgba(68, 68, 68, 0)",
           "showticksuffix": "last",
           "ticks": "outside",
           "title": {
            "text": "delta €/tcement"
           }
          },
          "colorscale": [
           [
            0,
            "rgb(12,51,131)"
           ],
           [
            0.25,
            "rgb(10,136,186)"
           ],
           [
            0.5,
            "rgb(242,211,56)"
           ],
           [
            0.75,
            "rgb(242,143,56)"
           ],
           [
            1,
            "rgb(217,30,30)"
           ]
          ],
          "size": 5
         },
         "mode": "markers",
         "text": [
          71.92,
          74.12,
          74.3,
          79.77,
          84.66
         ],
         "type": "scattergeo"
        }
       ],
       "layout": {
        "autosize": false,
        "font": {
         "color": "black",
         "family": "Arial",
         "size": 12
        },
        "geo": {
         "countrycolor": "rgb(255, 255, 255)",
         "framecolor": "#000000",
         "lakecolor": "rgb(255, 255, 255)",
         "landcolor": "rgb(212, 212, 212)",
         "projection": {
          "scale": 2,
          "type": "natural earth"
         },
         "scope": "europe",
         "showcountries": true,
         "showframe": true,
         "showlakes": true,
         "showland": true,
         "showsubunits": true,
         "subunitcolor": "rgb(255, 255, 255)"
        },
        "height": 500,
        "margin": {
         "b": 100,
         "l": 50,
         "pad": 4,
         "r": 50,
         "t": 100
        },
        "template": {
         "data": {
          "bar": [
           {
            "error_x": {
             "color": "#2a3f5f"
            },
            "error_y": {
             "color": "#2a3f5f"
            },
            "marker": {
             "line": {
              "color": "#E5ECF6",
              "width": 0.5
             },
             "pattern": {
              "fillmode": "overlay",
              "size": 10,
              "solidity": 0.2
             }
            },
            "type": "bar"
           }
          ],
          "barpolar": [
           {
            "marker": {
             "line": {
              "color": "#E5ECF6",
              "width": 0.5
             },
             "pattern": {
              "fillmode": "overlay",
              "size": 10,
              "solidity": 0.2
             }
            },
            "type": "barpolar"
           }
          ],
          "carpet": [
           {
            "aaxis": {
             "endlinecolor": "#2a3f5f",
             "gridcolor": "white",
             "linecolor": "white",
             "minorgridcolor": "white",
             "startlinecolor": "#2a3f5f"
            },
            "baxis": {
             "endlinecolor": "#2a3f5f",
             "gridcolor": "white",
             "linecolor": "white",
             "minorgridcolor": "white",
             "startlinecolor": "#2a3f5f"
            },
            "type": "carpet"
           }
          ],
          "choropleth": [
           {
            "colorbar": {
             "outlinewidth": 0,
             "ticks": ""
            },
            "type": "choropleth"
           }
          ],
          "contour": [
           {
            "colorbar": {
             "outlinewidth": 0,
             "ticks": ""
            },
            "colorscale": [
             [
              0,
              "#0d0887"
             ],
             [
              0.1111111111111111,
              "#46039f"
             ],
             [
              0.2222222222222222,
              "#7201a8"
             ],
             [
              0.3333333333333333,
              "#9c179e"
             ],
             [
              0.4444444444444444,
              "#bd3786"
             ],
             [
              0.5555555555555556,
              "#d8576b"
             ],
             [
              0.6666666666666666,
              "#ed7953"
             ],
             [
              0.7777777777777778,
              "#fb9f3a"
             ],
             [
              0.8888888888888888,
              "#fdca26"
             ],
             [
              1,
              "#f0f921"
             ]
            ],
            "type": "contour"
           }
          ],
          "contourcarpet": [
           {
            "colorbar": {
             "outlinewidth": 0,
             "ticks": ""
            },
            "type": "contourcarpet"
           }
          ],
          "heatmap": [
           {
            "colorbar": {
             "outlinewidth": 0,
             "ticks": ""
            },
            "colorscale": [
             [
              0,
              "#0d0887"
             ],
             [
              0.1111111111111111,
              "#46039f"
             ],
             [
              0.2222222222222222,
              "#7201a8"
             ],
             [
              0.3333333333333333,
              "#9c179e"
             ],
             [
              0.4444444444444444,
              "#bd3786"
             ],
             [
              0.5555555555555556,
              "#d8576b"
             ],
             [
              0.6666666666666666,
              "#ed7953"
             ],
             [
              0.7777777777777778,
              "#fb9f3a"
             ],
             [
              0.8888888888888888,
              "#fdca26"
             ],
             [
              1,
              "#f0f921"
             ]
            ],
            "type": "heatmap"
           }
          ],
          "heatmapgl": [
           {
            "colorbar": {
             "outlinewidth": 0,
             "ticks": ""
            },
            "colorscale": [
             [
              0,
              "#0d0887"
             ],
             [
              0.1111111111111111,
              "#46039f"
             ],
             [
              0.2222222222222222,
              "#7201a8"
             ],
             [
              0.3333333333333333,
              "#9c179e"
             ],
             [
              0.4444444444444444,
              "#bd3786"
             ],
             [
              0.5555555555555556,
              "#d8576b"
             ],
             [
              0.6666666666666666,
              "#ed7953"
             ],
             [
              0.7777777777777778,
              "#fb9f3a"
             ],
             [
              0.8888888888888888,
              "#fdca26"
             ],
             [
              1,
              "#f0f921"
             ]
            ],
            "type": "heatmapgl"
           }
          ],
          "histogram": [
           {
            "marker": {
             "pattern": {
              "fillmode": "overlay",
              "size": 10,
              "solidity": 0.2
             }
            },
            "type": "histogram"
           }
          ],
          "histogram2d": [
           {
            "colorbar": {
             "outlinewidth": 0,
             "ticks": ""
            },
            "colorscale": [
             [
              0,
              "#0d0887"
             ],
             [
              0.1111111111111111,
              "#46039f"
             ],
             [
              0.2222222222222222,
              "#7201a8"
             ],
             [
              0.3333333333333333,
              "#9c179e"
             ],
             [
              0.4444444444444444,
              "#bd3786"
             ],
             [
              0.5555555555555556,
              "#d8576b"
             ],
             [
              0.6666666666666666,
              "#ed7953"
             ],
             [
              0.7777777777777778,
              "#fb9f3a"
             ],
             [
              0.8888888888888888,
              "#fdca26"
             ],
             [
              1,
              "#f0f921"
             ]
            ],
            "type": "histogram2d"
           }
          ],
          "histogram2dcontour": [
           {
            "colorbar": {
             "outlinewidth": 0,
             "ticks": ""
            },
            "colorscale": [
             [
              0,
              "#0d0887"
             ],
             [
              0.1111111111111111,
              "#46039f"
             ],
             [
              0.2222222222222222,
              "#7201a8"
             ],
             [
              0.3333333333333333,
              "#9c179e"
             ],
             [
              0.4444444444444444,
              "#bd3786"
             ],
             [
              0.5555555555555556,
              "#d8576b"
             ],
             [
              0.6666666666666666,
              "#ed7953"
             ],
             [
              0.7777777777777778,
              "#fb9f3a"
             ],
             [
              0.8888888888888888,
              "#fdca26"
             ],
             [
              1,
              "#f0f921"
             ]
            ],
            "type": "histogram2dcontour"
           }
          ],
          "mesh3d": [
           {
            "colorbar": {
             "outlinewidth": 0,
             "ticks": ""
            },
            "type": "mesh3d"
           }
          ],
          "parcoords": [
           {
            "line": {
             "colorbar": {
              "outlinewidth": 0,
              "ticks": ""
             }
            },
            "type": "parcoords"
           }
          ],
          "pie": [
           {
            "automargin": true,
            "type": "pie"
           }
          ],
          "scatter": [
           {
            "fillpattern": {
             "fillmode": "overlay",
             "size": 10,
             "solidity": 0.2
            },
            "type": "scatter"
           }
          ],
          "scatter3d": [
           {
            "line": {
             "colorbar": {
              "outlinewidth": 0,
              "ticks": ""
             }
            },
            "marker": {
             "colorbar": {
              "outlinewidth": 0,
              "ticks": ""
             }
            },
            "type": "scatter3d"
           }
          ],
          "scattercarpet": [
           {
            "marker": {
             "colorbar": {
              "outlinewidth": 0,
              "ticks": ""
             }
            },
            "type": "scattercarpet"
           }
          ],
          "scattergeo": [
           {
            "marker": {
             "colorbar": {
              "outlinewidth": 0,
              "ticks": ""
             }
            },
            "type": "scattergeo"
           }
          ],
          "scattergl": [
           {
            "marker": {
             "colorbar": {
              "outlinewidth": 0,
              "ticks": ""
             }
            },
            "type": "scattergl"
           }
          ],
          "scattermapbox": [
           {
            "marker": {
             "colorbar": {
              "outlinewidth": 0,
              "ticks": ""
             }
            },
            "type": "scattermapbox"
           }
          ],
          "scatterpolar": [
           {
            "marker": {
             "colorbar": {
              "outlinewidth": 0,
              "ticks": ""
             }
            },
            "type": "scatterpolar"
           }
          ],
          "scatterpolargl": [
           {
            "marker": {
             "colorbar": {
              "outlinewidth": 0,
              "ticks": ""
             }
            },
            "type": "scatterpolargl"
           }
          ],
          "scatterternary": [
           {
            "marker": {
             "colorbar": {
              "outlinewidth": 0,
              "ticks": ""
             }
            },
            "type": "scatterternary"
           }
          ],
          "surface": [
           {
            "colorbar": {
             "outlinewidth": 0,
             "ticks": ""
            },
            "colorscale": [
             [
              0,
              "#0d0887"
             ],
             [
              0.1111111111111111,
              "#46039f"
             ],
             [
              0.2222222222222222,
              "#7201a8"
             ],
             [
              0.3333333333333333,
              "#9c179e"
             ],
             [
              0.4444444444444444,
              "#bd3786"
             ],
             [
              0.5555555555555556,
              "#d8576b"
             ],
             [
              0.6666666666666666,
              "#ed7953"
             ],
             [
              0.7777777777777778,
              "#fb9f3a"
             ],
             [
              0.8888888888888888,
              "#fdca26"
             ],
             [
              1,
              "#f0f921"
             ]
            ],
            "type": "surface"
           }
          ],
          "table": [
           {
            "cells": {
             "fill": {
              "color": "#EBF0F8"
             },
             "line": {
              "color": "white"
             }
            },
            "header": {
             "fill": {
              "color": "#C8D4E3"
             },
             "line": {
              "color": "white"
             }
            },
            "type": "table"
           }
          ]
         },
         "layout": {
          "annotationdefaults": {
           "arrowcolor": "#2a3f5f",
           "arrowhead": 0,
           "arrowwidth": 1
          },
          "autotypenumbers": "strict",
          "coloraxis": {
           "colorbar": {
            "outlinewidth": 0,
            "ticks": ""
           }
          },
          "colorscale": {
           "diverging": [
            [
             0,
             "#8e0152"
            ],
            [
             0.1,
             "#c51b7d"
            ],
            [
             0.2,
             "#de77ae"
            ],
            [
             0.3,
             "#f1b6da"
            ],
            [
             0.4,
             "#fde0ef"
            ],
            [
             0.5,
             "#f7f7f7"
            ],
            [
             0.6,
             "#e6f5d0"
            ],
            [
             0.7,
             "#b8e186"
            ],
            [
             0.8,
             "#7fbc41"
            ],
            [
             0.9,
             "#4d9221"
            ],
            [
             1,
             "#276419"
            ]
           ],
           "sequential": [
            [
             0,
             "#0d0887"
            ],
            [
             0.1111111111111111,
             "#46039f"
            ],
            [
             0.2222222222222222,
             "#7201a8"
            ],
            [
             0.3333333333333333,
             "#9c179e"
            ],
            [
             0.4444444444444444,
             "#bd3786"
            ],
            [
             0.5555555555555556,
             "#d8576b"
            ],
            [
             0.6666666666666666,
             "#ed7953"
            ],
            [
             0.7777777777777778,
             "#fb9f3a"
            ],
            [
             0.8888888888888888,
             "#fdca26"
            ],
            [
             1,
             "#f0f921"
            ]
           ],
           "sequentialminus": [
            [
             0,
             "#0d0887"
            ],
            [
             0.1111111111111111,
             "#46039f"
            ],
            [
             0.2222222222222222,
             "#7201a8"
            ],
            [
             0.3333333333333333,
             "#9c179e"
            ],
            [
             0.4444444444444444,
             "#bd3786"
            ],
            [
             0.5555555555555556,
             "#d8576b"
            ],
            [
             0.6666666666666666,
             "#ed7953"
            ],
            [
             0.7777777777777778,
             "#fb9f3a"
            ],
            [
             0.8888888888888888,
             "#fdca26"
            ],
            [
             1,
             "#f0f921"
            ]
           ]
          },
          "colorway": [
           "#636efa",
           "#EF553B",
           "#00cc96",
           "#ab63fa",
           "#FFA15A",
           "#19d3f3",
           "#FF6692",
           "#B6E880",
           "#FF97FF",
           "#FECB52"
          ],
          "font": {
           "color": "#2a3f5f"
          },
          "geo": {
           "bgcolor": "white",
           "lakecolor": "white",
           "landcolor": "#E5ECF6",
           "showlakes": true,
           "showland": true,
           "subunitcolor": "white"
          },
          "hoverlabel": {
           "align": "left"
          },
          "hovermode": "closest",
          "mapbox": {
           "style": "light"
          },
          "paper_bgcolor": "white",
          "plot_bgcolor": "#E5ECF6",
          "polar": {
           "angularaxis": {
            "gridcolor": "white",
            "linecolor": "white",
            "ticks": ""
           },
           "bgcolor": "#E5ECF6",
           "radialaxis": {
            "gridcolor": "white",
            "linecolor": "white",
            "ticks": ""
           }
          },
          "scene": {
           "xaxis": {
            "backgroundcolor": "#E5ECF6",
            "gridcolor": "white",
            "gridwidth": 2,
            "linecolor": "white",
            "showbackground": true,
            "ticks": "",
            "zerolinecolor": "white"
           },
           "yaxis": {
            "backgroundcolor": "#E5ECF6",
            "gridcolor": "white",
            "gridwidth": 2,
            "linecolor": "white",
            "showbackground": true,
            "ticks": "",
            "zerolinecolor": "white"
           },
           "zaxis": {
            "backgroundcolor": "#E5ECF6",
            "gridcolor": "white",
            "gridwidth": 2,
            "linecolor": "white",
            "showbackground": true,
            "ticks": "",
            "zerolinecolor": "white"
           }
          },
          "shapedefaults": {
           "line": {
            "color": "#2a3f5f"
           }
          },
          "ternary": {
           "aaxis": {
            "gridcolor": "white",
            "linecolor": "white",
            "ticks": ""
           },
           "baxis": {
            "gridcolor": "white",
            "linecolor": "white",
            "ticks": ""
           },
           "bgcolor": "#E5ECF6",
           "caxis": {
            "gridcolor": "white",
            "linecolor": "white",
            "ticks": ""
           }
          },
          "title": {
           "x": 0.05
          },
          "xaxis": {
           "automargin": true,
           "gridcolor": "white",
           "linecolor": "white",
           "ticks": "",
           "title": {
            "standoff": 15
           },
           "zerolinecolor": "white",
           "zerolinewidth": 2
          },
          "yaxis": {
           "automargin": true,
           "gridcolor": "white",
           "linecolor": "white",
           "ticks": "",
           "title": {
            "standoff": 15
           },
           "zerolinecolor": "white",
           "zerolinewidth": 2
          }
         }
        },
        "width": 600
       }
      }
     },
     "metadata": {},
     "output_type": "display_data"
    }
   ],
   "source": [
    "gdf_grid_filtered_cement = make_geo_dataframe(df_grid_filtered_cement)\n",
    "x = gdf_grid_filtered_cement[\"LCOP_total_w_nets\"]\n",
    "\n",
    "fig = go.Figure(data=go.Scattergeo(\n",
    "    lat = gdf_grid_filtered_cement.geometry.x,\n",
    "    lon = gdf_grid_filtered_cement.geometry.y,\n",
    "    mode = 'markers',\n",
    "    text = round(x, 2),\n",
    "    marker = dict(\n",
    "        color = x,\n",
    "        size = 5,\n",
    "        colorscale='Portland',\n",
    "        #reversescale = True,\n",
    "        colorbar_title = 'delta €/tcement',\n",
    "        cmax = 120,\n",
    "        cmin = 40,\n",
    "        cmid = 52.5,\n",
    "        colorbar = dict(\n",
    "            titleside = \"right\",\n",
    "            outlinecolor = \"rgba(68, 68, 68, 0)\",\n",
    "            ticks = \"outside\",\n",
    "            showticksuffix = \"last\",\n",
    "            dtick = 10)\n",
    "    ),\n",
    "))\n",
    "\n",
    "fig.update_layout(\n",
    "    geo = dict(\n",
    "        scope='europe',\n",
    "        showland = True,\n",
    "        landcolor = \"rgb(212, 212, 212)\",\n",
    "        subunitcolor = \"rgb(255, 255, 255)\",\n",
    "        countrycolor = \"rgb(255, 255, 255)\",\n",
    "        showlakes = True,\n",
    "        lakecolor = \"rgb(255, 255, 255)\",\n",
    "        showsubunits = True,\n",
    "        showcountries = True,\n",
    "        showframe=True,\n",
    "        framecolor = '#000000',\n",
    "        projection = dict(\n",
    "            type = 'natural earth', scale = 2\n",
    "        ),\n",
    "    ),\n",
    "    #title='Total cost per kg H2 (Eur) for H2 required in Cologne, Germany',\n",
    "    font_color='black',\n",
    "    font_size=12,\n",
    "    font_family='Arial'\n",
    ")\n",
    "# set size\n",
    "fig.update_layout(\n",
    "    autosize=False,\n",
    "    width=600,\n",
    "    height=500,\n",
    "    margin=dict(\n",
    "        l=50,\n",
    "        r=50,\n",
    "        b=100,\n",
    "        t=100,\n",
    "        pad=4\n",
    "    ),\n",
    "    #paper_bgcolor=\"LightSteelBlue\",\n",
    ")\n",
    "\n",
    "fig.write_html(f\"{resultPath_postprocessing}/cost_map_{country}_{name_run}.html\")\n",
    "fig.show()\n",
    "#fig.write_image(\"Results/Graphs/total_cost_map_cologne.pdf\", width=600, height=500, scale=1)"
   ]
  },
  {
   "cell_type": "code",
   "execution_count": null,
   "metadata": {},
   "outputs": [],
   "source": []
  },
  {
   "cell_type": "code",
   "execution_count": null,
   "metadata": {},
   "outputs": [],
   "source": []
  },
  {
   "cell_type": "code",
   "execution_count": null,
   "metadata": {},
   "outputs": [],
   "source": []
  },
  {
   "cell_type": "code",
   "execution_count": null,
   "metadata": {},
   "outputs": [],
   "source": []
  }
 ],
 "metadata": {
  "kernelspec": {
   "display_name": "testenvironment",
   "language": "python",
   "name": "python3"
  },
  "language_info": {
   "codemirror_mode": {
    "name": "ipython",
    "version": 3
   },
   "file_extension": ".py",
   "mimetype": "text/x-python",
   "name": "python",
   "nbconvert_exporter": "python",
   "pygments_lexer": "ipython3",
   "version": "3.9.12"
  },
  "orig_nbformat": 4,
  "vscode": {
   "interpreter": {
    "hash": "9a40060d341a8d0510e6bd422aa45b7999ac97005c01055e284f1d5b5fab356a"
   }
  }
 },
 "nbformat": 4,
 "nbformat_minor": 2
}
