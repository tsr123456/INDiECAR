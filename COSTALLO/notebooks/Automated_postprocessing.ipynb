{
 "cells": [
  {
   "cell_type": "markdown",
   "metadata": {},
   "source": [
    "## Automated Postprocessing for each run in a path"
   ]
  },
  {
   "cell_type": "code",
   "execution_count": 2,
   "metadata": {},
   "outputs": [
    {
     "name": "stderr",
     "output_type": "stream",
     "text": [
      "c:\\Users\\bst3191\\anaconda3\\envs\\geospatial_environment\\lib\\site-packages\\geopandas\\_compat.py:106: UserWarning: The Shapely GEOS version (3.8.0-CAPI-1.13.1 ) is incompatible with the GEOS version PyGEOS was compiled with (3.10.4-CAPI-1.16.2). Conversions between both will be slow.\n",
      "  warnings.warn(\n"
     ]
    }
   ],
   "source": [
    "import sys\n",
    "sys.path.append('../toolkit')\n",
    "import Postprocessing\n",
    "import os"
   ]
  },
  {
   "cell_type": "code",
   "execution_count": 2,
   "metadata": {},
   "outputs": [],
   "source": [
    "def list_subfolders(general_path):\n",
    "    return [name for name in os.listdir(general_path) if os.path.isdir(os.path.join(general_path, name)) ]"
   ]
  },
  {
   "cell_type": "markdown",
   "metadata": {},
   "source": [
    "First set the path where all results are stored"
   ]
  },
  {
   "cell_type": "code",
   "execution_count": 3,
   "metadata": {},
   "outputs": [
    {
     "data": {
      "text/plain": [
       "['GER_Buzzi Unicem SpA',\n",
       " 'GER_CEMEX SAB de CV',\n",
       " 'GER_CRH PLC',\n",
       " 'GER_HeidelbergCement AG',\n",
       " 'GER_Hugo Miebach GmbH',\n",
       " 'GER_LafargeHolcim Ltd',\n",
       " 'GER_Maerker Zement GmbH',\n",
       " 'GER_Phoenix',\n",
       " 'GER_Rohrdorfer Zementwerke',\n",
       " 'GER_SCHWENK Zement KG',\n",
       " 'GER_Solnhofer',\n",
       " 'GER_Spenner GmbH Co KG',\n",
       " 'GER_thomas Beteiligungen GmbH',\n",
       " 'SP_PT_AG Cementos Balboa SA',\n",
       " 'SP_PT_Cementos',\n",
       " 'SP_PT_CEMEX SAB de CV',\n",
       " 'SP_PT_Corporacion Masaveu SA',\n",
       " 'SP_PT_CRH PLC',\n",
       " 'SP_PT_HeidelbergCement AG',\n",
       " 'SP_PT_InterCement Participacoes SA',\n",
       " 'SP_PT_LafargeHolcim Ltd',\n",
       " 'SP_PT_Secil',\n",
       " 'SP_PT_Unknown',\n",
       " 'SP_PT_Votorantim SA',\n",
       " 'UK_Breedon Group PLC',\n",
       " 'UK_CEMEX SAB de CV',\n",
       " 'UK_CRH PLC',\n",
       " 'UK_HeidelbergCement AG',\n",
       " 'UK_LafargeHolcim Ltd',\n",
       " 'UK_Mannok Build Ltd']"
      ]
     },
     "execution_count": 3,
     "metadata": {},
     "output_type": "execute_result"
    }
   ],
   "source": [
    "#specify folder name:\n",
    "#folder_name = \"sensitivity_analysis_02_01_24\"\n",
    "#general_path = f'C:/Users/bst3191/OneDrive - Technische Universität Berlin/My Python projects/IDRIC Model(GitHub)/Casestudy_results/{folder_name}/'\n",
    "\n",
    "folder_name = \"No_collaboration\"\n",
    "general_path = f'../../Casestudy_results/{folder_name}/'\n",
    "#general_path = f'C:/Users/bst3191/Documents/My Python projects/IDRIC Model(GitHub)/Casestudies/{folder_name}/'\n",
    "\n",
    "\n",
    "#get all CaseNames\n",
    "CaseNames = list_subfolders (general_path)\n",
    "\n",
    "#specify name_run:\n",
    "name_run = \"snapshot100\" #'snapshot100' #'snapshot100'\n",
    "CaseNames"
   ]
  },
  {
   "cell_type": "code",
   "execution_count": 62,
   "metadata": {},
   "outputs": [],
   "source": [
    "CaseNames = ['SP_PT_Secil']"
   ]
  },
  {
   "cell_type": "markdown",
   "metadata": {},
   "source": [
    "Now run through each folder and perform the post processing for each run"
   ]
  },
  {
   "cell_type": "code",
   "execution_count": 63,
   "metadata": {},
   "outputs": [
    {
     "name": "stdout",
     "output_type": "stream",
     "text": [
      "SP_PT_Secil\n"
     ]
    },
    {
     "data": {
      "application/vnd.plotly.v1+json": {
       "config": {
        "plotlyServerURL": "https://plot.ly"
       },
       "data": [
        {
         "hovertemplate": "<b>%{hovertext}</b><br><br>lat=%{lat}<br>lon=%{lon}<extra></extra>",
         "hovertext": [
          0,
          0,
          null,
          1,
          1,
          null,
          2,
          2,
          null,
          3,
          3,
          null,
          4,
          4,
          null
         ],
         "lat": [
          39.685773,
          41.13424079,
          null,
          39.655677,
          39.685773,
          null,
          38.501466,
          38.65399112,
          null,
          41.13424079,
          41.09598137,
          null,
          38.65399112,
          38.34034365,
          null
         ],
         "legendgroup": "",
         "line": {
          "color": "#636efa"
         },
         "lon": [
          -8.905132,
          -8.663498253,
          null,
          -8.987387,
          -8.905132,
          null,
          -8.935936,
          -9.230709277,
          null,
          -8.663498253,
          -8.922661842,
          null,
          -9.230709277,
          -8.951758457,
          null
         ],
         "mode": "lines",
         "name": "",
         "showlegend": false,
         "subplot": "mapbox",
         "type": "scattermapbox"
        }
       ],
       "layout": {
        "autosize": false,
        "height": 500,
        "legend": {
         "tracegroupgap": 0
        },
        "mapbox": {
         "center": {
          "lat": 39.654147783999996,
          "lon": -8.9396422359
         },
         "domain": {
          "x": [
           0,
           1
          ],
          "y": [
           0,
           1
          ]
         },
         "style": "carto-positron",
         "zoom": 1
        },
        "margin": {
         "b": 100,
         "l": 50,
         "pad": 4,
         "r": 50,
         "t": 100
        },
        "template": {
         "data": {
          "bar": [
           {
            "error_x": {
             "color": "#2a3f5f"
            },
            "error_y": {
             "color": "#2a3f5f"
            },
            "marker": {
             "line": {
              "color": "#E5ECF6",
              "width": 0.5
             },
             "pattern": {
              "fillmode": "overlay",
              "size": 10,
              "solidity": 0.2
             }
            },
            "type": "bar"
           }
          ],
          "barpolar": [
           {
            "marker": {
             "line": {
              "color": "#E5ECF6",
              "width": 0.5
             },
             "pattern": {
              "fillmode": "overlay",
              "size": 10,
              "solidity": 0.2
             }
            },
            "type": "barpolar"
           }
          ],
          "carpet": [
           {
            "aaxis": {
             "endlinecolor": "#2a3f5f",
             "gridcolor": "white",
             "linecolor": "white",
             "minorgridcolor": "white",
             "startlinecolor": "#2a3f5f"
            },
            "baxis": {
             "endlinecolor": "#2a3f5f",
             "gridcolor": "white",
             "linecolor": "white",
             "minorgridcolor": "white",
             "startlinecolor": "#2a3f5f"
            },
            "type": "carpet"
           }
          ],
          "choropleth": [
           {
            "colorbar": {
             "outlinewidth": 0,
             "ticks": ""
            },
            "type": "choropleth"
           }
          ],
          "contour": [
           {
            "colorbar": {
             "outlinewidth": 0,
             "ticks": ""
            },
            "colorscale": [
             [
              0,
              "#0d0887"
             ],
             [
              0.1111111111111111,
              "#46039f"
             ],
             [
              0.2222222222222222,
              "#7201a8"
             ],
             [
              0.3333333333333333,
              "#9c179e"
             ],
             [
              0.4444444444444444,
              "#bd3786"
             ],
             [
              0.5555555555555556,
              "#d8576b"
             ],
             [
              0.6666666666666666,
              "#ed7953"
             ],
             [
              0.7777777777777778,
              "#fb9f3a"
             ],
             [
              0.8888888888888888,
              "#fdca26"
             ],
             [
              1,
              "#f0f921"
             ]
            ],
            "type": "contour"
           }
          ],
          "contourcarpet": [
           {
            "colorbar": {
             "outlinewidth": 0,
             "ticks": ""
            },
            "type": "contourcarpet"
           }
          ],
          "heatmap": [
           {
            "colorbar": {
             "outlinewidth": 0,
             "ticks": ""
            },
            "colorscale": [
             [
              0,
              "#0d0887"
             ],
             [
              0.1111111111111111,
              "#46039f"
             ],
             [
              0.2222222222222222,
              "#7201a8"
             ],
             [
              0.3333333333333333,
              "#9c179e"
             ],
             [
              0.4444444444444444,
              "#bd3786"
             ],
             [
              0.5555555555555556,
              "#d8576b"
             ],
             [
              0.6666666666666666,
              "#ed7953"
             ],
             [
              0.7777777777777778,
              "#fb9f3a"
             ],
             [
              0.8888888888888888,
              "#fdca26"
             ],
             [
              1,
              "#f0f921"
             ]
            ],
            "type": "heatmap"
           }
          ],
          "heatmapgl": [
           {
            "colorbar": {
             "outlinewidth": 0,
             "ticks": ""
            },
            "colorscale": [
             [
              0,
              "#0d0887"
             ],
             [
              0.1111111111111111,
              "#46039f"
             ],
             [
              0.2222222222222222,
              "#7201a8"
             ],
             [
              0.3333333333333333,
              "#9c179e"
             ],
             [
              0.4444444444444444,
              "#bd3786"
             ],
             [
              0.5555555555555556,
              "#d8576b"
             ],
             [
              0.6666666666666666,
              "#ed7953"
             ],
             [
              0.7777777777777778,
              "#fb9f3a"
             ],
             [
              0.8888888888888888,
              "#fdca26"
             ],
             [
              1,
              "#f0f921"
             ]
            ],
            "type": "heatmapgl"
           }
          ],
          "histogram": [
           {
            "marker": {
             "pattern": {
              "fillmode": "overlay",
              "size": 10,
              "solidity": 0.2
             }
            },
            "type": "histogram"
           }
          ],
          "histogram2d": [
           {
            "colorbar": {
             "outlinewidth": 0,
             "ticks": ""
            },
            "colorscale": [
             [
              0,
              "#0d0887"
             ],
             [
              0.1111111111111111,
              "#46039f"
             ],
             [
              0.2222222222222222,
              "#7201a8"
             ],
             [
              0.3333333333333333,
              "#9c179e"
             ],
             [
              0.4444444444444444,
              "#bd3786"
             ],
             [
              0.5555555555555556,
              "#d8576b"
             ],
             [
              0.6666666666666666,
              "#ed7953"
             ],
             [
              0.7777777777777778,
              "#fb9f3a"
             ],
             [
              0.8888888888888888,
              "#fdca26"
             ],
             [
              1,
              "#f0f921"
             ]
            ],
            "type": "histogram2d"
           }
          ],
          "histogram2dcontour": [
           {
            "colorbar": {
             "outlinewidth": 0,
             "ticks": ""
            },
            "colorscale": [
             [
              0,
              "#0d0887"
             ],
             [
              0.1111111111111111,
              "#46039f"
             ],
             [
              0.2222222222222222,
              "#7201a8"
             ],
             [
              0.3333333333333333,
              "#9c179e"
             ],
             [
              0.4444444444444444,
              "#bd3786"
             ],
             [
              0.5555555555555556,
              "#d8576b"
             ],
             [
              0.6666666666666666,
              "#ed7953"
             ],
             [
              0.7777777777777778,
              "#fb9f3a"
             ],
             [
              0.8888888888888888,
              "#fdca26"
             ],
             [
              1,
              "#f0f921"
             ]
            ],
            "type": "histogram2dcontour"
           }
          ],
          "mesh3d": [
           {
            "colorbar": {
             "outlinewidth": 0,
             "ticks": ""
            },
            "type": "mesh3d"
           }
          ],
          "parcoords": [
           {
            "line": {
             "colorbar": {
              "outlinewidth": 0,
              "ticks": ""
             }
            },
            "type": "parcoords"
           }
          ],
          "pie": [
           {
            "automargin": true,
            "type": "pie"
           }
          ],
          "scatter": [
           {
            "fillpattern": {
             "fillmode": "overlay",
             "size": 10,
             "solidity": 0.2
            },
            "type": "scatter"
           }
          ],
          "scatter3d": [
           {
            "line": {
             "colorbar": {
              "outlinewidth": 0,
              "ticks": ""
             }
            },
            "marker": {
             "colorbar": {
              "outlinewidth": 0,
              "ticks": ""
             }
            },
            "type": "scatter3d"
           }
          ],
          "scattercarpet": [
           {
            "marker": {
             "colorbar": {
              "outlinewidth": 0,
              "ticks": ""
             }
            },
            "type": "scattercarpet"
           }
          ],
          "scattergeo": [
           {
            "marker": {
             "colorbar": {
              "outlinewidth": 0,
              "ticks": ""
             }
            },
            "type": "scattergeo"
           }
          ],
          "scattergl": [
           {
            "marker": {
             "colorbar": {
              "outlinewidth": 0,
              "ticks": ""
             }
            },
            "type": "scattergl"
           }
          ],
          "scattermapbox": [
           {
            "marker": {
             "colorbar": {
              "outlinewidth": 0,
              "ticks": ""
             }
            },
            "type": "scattermapbox"
           }
          ],
          "scatterpolar": [
           {
            "marker": {
             "colorbar": {
              "outlinewidth": 0,
              "ticks": ""
             }
            },
            "type": "scatterpolar"
           }
          ],
          "scatterpolargl": [
           {
            "marker": {
             "colorbar": {
              "outlinewidth": 0,
              "ticks": ""
             }
            },
            "type": "scatterpolargl"
           }
          ],
          "scatterternary": [
           {
            "marker": {
             "colorbar": {
              "outlinewidth": 0,
              "ticks": ""
             }
            },
            "type": "scatterternary"
           }
          ],
          "surface": [
           {
            "colorbar": {
             "outlinewidth": 0,
             "ticks": ""
            },
            "colorscale": [
             [
              0,
              "#0d0887"
             ],
             [
              0.1111111111111111,
              "#46039f"
             ],
             [
              0.2222222222222222,
              "#7201a8"
             ],
             [
              0.3333333333333333,
              "#9c179e"
             ],
             [
              0.4444444444444444,
              "#bd3786"
             ],
             [
              0.5555555555555556,
              "#d8576b"
             ],
             [
              0.6666666666666666,
              "#ed7953"
             ],
             [
              0.7777777777777778,
              "#fb9f3a"
             ],
             [
              0.8888888888888888,
              "#fdca26"
             ],
             [
              1,
              "#f0f921"
             ]
            ],
            "type": "surface"
           }
          ],
          "table": [
           {
            "cells": {
             "fill": {
              "color": "#EBF0F8"
             },
             "line": {
              "color": "white"
             }
            },
            "header": {
             "fill": {
              "color": "#C8D4E3"
             },
             "line": {
              "color": "white"
             }
            },
            "type": "table"
           }
          ]
         },
         "layout": {
          "annotationdefaults": {
           "arrowcolor": "#2a3f5f",
           "arrowhead": 0,
           "arrowwidth": 1
          },
          "autotypenumbers": "strict",
          "coloraxis": {
           "colorbar": {
            "outlinewidth": 0,
            "ticks": ""
           }
          },
          "colorscale": {
           "diverging": [
            [
             0,
             "#8e0152"
            ],
            [
             0.1,
             "#c51b7d"
            ],
            [
             0.2,
             "#de77ae"
            ],
            [
             0.3,
             "#f1b6da"
            ],
            [
             0.4,
             "#fde0ef"
            ],
            [
             0.5,
             "#f7f7f7"
            ],
            [
             0.6,
             "#e6f5d0"
            ],
            [
             0.7,
             "#b8e186"
            ],
            [
             0.8,
             "#7fbc41"
            ],
            [
             0.9,
             "#4d9221"
            ],
            [
             1,
             "#276419"
            ]
           ],
           "sequential": [
            [
             0,
             "#0d0887"
            ],
            [
             0.1111111111111111,
             "#46039f"
            ],
            [
             0.2222222222222222,
             "#7201a8"
            ],
            [
             0.3333333333333333,
             "#9c179e"
            ],
            [
             0.4444444444444444,
             "#bd3786"
            ],
            [
             0.5555555555555556,
             "#d8576b"
            ],
            [
             0.6666666666666666,
             "#ed7953"
            ],
            [
             0.7777777777777778,
             "#fb9f3a"
            ],
            [
             0.8888888888888888,
             "#fdca26"
            ],
            [
             1,
             "#f0f921"
            ]
           ],
           "sequentialminus": [
            [
             0,
             "#0d0887"
            ],
            [
             0.1111111111111111,
             "#46039f"
            ],
            [
             0.2222222222222222,
             "#7201a8"
            ],
            [
             0.3333333333333333,
             "#9c179e"
            ],
            [
             0.4444444444444444,
             "#bd3786"
            ],
            [
             0.5555555555555556,
             "#d8576b"
            ],
            [
             0.6666666666666666,
             "#ed7953"
            ],
            [
             0.7777777777777778,
             "#fb9f3a"
            ],
            [
             0.8888888888888888,
             "#fdca26"
            ],
            [
             1,
             "#f0f921"
            ]
           ]
          },
          "colorway": [
           "#636efa",
           "#EF553B",
           "#00cc96",
           "#ab63fa",
           "#FFA15A",
           "#19d3f3",
           "#FF6692",
           "#B6E880",
           "#FF97FF",
           "#FECB52"
          ],
          "font": {
           "color": "#2a3f5f"
          },
          "geo": {
           "bgcolor": "white",
           "lakecolor": "white",
           "landcolor": "#E5ECF6",
           "showlakes": true,
           "showland": true,
           "subunitcolor": "white"
          },
          "hoverlabel": {
           "align": "left"
          },
          "hovermode": "closest",
          "mapbox": {
           "style": "light"
          },
          "paper_bgcolor": "white",
          "plot_bgcolor": "#E5ECF6",
          "polar": {
           "angularaxis": {
            "gridcolor": "white",
            "linecolor": "white",
            "ticks": ""
           },
           "bgcolor": "#E5ECF6",
           "radialaxis": {
            "gridcolor": "white",
            "linecolor": "white",
            "ticks": ""
           }
          },
          "scene": {
           "xaxis": {
            "backgroundcolor": "#E5ECF6",
            "gridcolor": "white",
            "gridwidth": 2,
            "linecolor": "white",
            "showbackground": true,
            "ticks": "",
            "zerolinecolor": "white"
           },
           "yaxis": {
            "backgroundcolor": "#E5ECF6",
            "gridcolor": "white",
            "gridwidth": 2,
            "linecolor": "white",
            "showbackground": true,
            "ticks": "",
            "zerolinecolor": "white"
           },
           "zaxis": {
            "backgroundcolor": "#E5ECF6",
            "gridcolor": "white",
            "gridwidth": 2,
            "linecolor": "white",
            "showbackground": true,
            "ticks": "",
            "zerolinecolor": "white"
           }
          },
          "shapedefaults": {
           "line": {
            "color": "#2a3f5f"
           }
          },
          "ternary": {
           "aaxis": {
            "gridcolor": "white",
            "linecolor": "white",
            "ticks": ""
           },
           "baxis": {
            "gridcolor": "white",
            "linecolor": "white",
            "ticks": ""
           },
           "bgcolor": "#E5ECF6",
           "caxis": {
            "gridcolor": "white",
            "linecolor": "white",
            "ticks": ""
           }
          },
          "title": {
           "x": 0.05
          },
          "xaxis": {
           "automargin": true,
           "gridcolor": "white",
           "linecolor": "white",
           "ticks": "",
           "title": {
            "standoff": 15
           },
           "zerolinecolor": "white",
           "zerolinewidth": 2
          },
          "yaxis": {
           "automargin": true,
           "gridcolor": "white",
           "linecolor": "white",
           "ticks": "",
           "title": {
            "standoff": 15
           },
           "zerolinecolor": "white",
           "zerolinewidth": 2
          }
         }
        },
        "width": 600
       }
      }
     },
     "metadata": {},
     "output_type": "display_data"
    },
    {
     "name": "stderr",
     "output_type": "stream",
     "text": [
      "c:\\Users\\bst3191\\anaconda3\\envs\\geospatial_environment\\lib\\site-packages\\geopandas\\io\\file.py:299: FutureWarning:\n",
      "\n",
      "pandas.Int64Index is deprecated and will be removed from pandas in a future version. Use pandas.Index with the appropriate dtype instead.\n",
      "\n",
      "c:\\Users\\bst3191\\Documents\\My Python Projects\\INDiECAR\\COSTALLO\\notebooks\\../toolkit\\Postprocessing.py:475: UserWarning:\n",
      "\n",
      "Column names longer than 10 characters will be truncated when saved to ESRI Shapefile.\n",
      "\n"
     ]
    },
    {
     "data": {
      "image/png": "[encoded data removed]",
      "text/plain": [
       "<Figure size 1097.28x804.672 with 1 Axes>"
      ]
     },
     "metadata": {
      "needs_background": "light"
     },
     "output_type": "display_data"
    },
    {
     "name": "stdout",
     "output_type": "stream",
     "text": [
      "Postprocessing sucessfull for SP_PT_Secil\n"
     ]
    },
    {
     "name": "stderr",
     "output_type": "stream",
     "text": [
      "c:\\Users\\bst3191\\anaconda3\\envs\\geospatial_environment\\lib\\site-packages\\geopandas\\io\\file.py:299: FutureWarning:\n",
      "\n",
      "pandas.Int64Index is deprecated and will be removed from pandas in a future version. Use pandas.Index with the appropriate dtype instead.\n",
      "\n",
      "c:\\Users\\bst3191\\Documents\\My Python Projects\\INDiECAR\\COSTALLO\\notebooks\\../toolkit\\Postprocessing.py:1001: UserWarning:\n",
      "\n",
      "Column names longer than 10 characters will be truncated when saved to ESRI Shapefile.\n",
      "\n",
      "c:\\Users\\bst3191\\Documents\\My Python Projects\\INDiECAR\\COSTALLO\\notebooks\\../toolkit\\Postprocessing.py:1009: UserWarning:\n",
      "\n",
      "Column names longer than 10 characters will be truncated when saved to ESRI Shapefile.\n",
      "\n"
     ]
    }
   ],
   "source": [
    "for CaseName in CaseNames:\n",
    "    path  =  f'{general_path}{CaseName}'\n",
    "    try:\n",
    "        print(CaseName)\n",
    "        Postprocessing.Run_postprocessing(path,name_run, CaseName)\n",
    "        print(f\"Postprocessing sucessfull for {CaseName}\")\n",
    "    except:\n",
    "        print(f\"ERROR: Postprocessing failed for {CaseName}\")"
   ]
  },
  {
   "cell_type": "code",
   "execution_count": null,
   "metadata": {},
   "outputs": [],
   "source": []
  },
  {
   "cell_type": "markdown",
   "metadata": {},
   "source": [
    "Combining results: This little part of the script can be used to combine results of multiple runs in one excel or shapefile. "
   ]
  },
  {
   "cell_type": "code",
   "execution_count": 4,
   "metadata": {},
   "outputs": [],
   "source": [
    "combining = True\n",
    "filter_name = \"UK\"\n",
    "\n",
    "import pandas as pd\n",
    "import geopandas as gpd\n",
    "from pathlib import Path\n",
    "\n",
    "def filter_list (lst,search_string):\n",
    "    \"this function filters a list and returns list only containing strings that contain search string\"\n",
    "    lst = list(filter(lambda k: search_string in k, lst))\n",
    "    return lst\n",
    "\n",
    "#get all CaseNames:\n",
    "CaseNames = list_subfolders (general_path)\n",
    "\n",
    "#filter CaseNames for one country:\n",
    "CaseNames = filter_list(CaseNames, filter_name)\n"
   ]
  },
  {
   "cell_type": "code",
   "execution_count": 5,
   "metadata": {},
   "outputs": [
    {
     "name": "stderr",
     "output_type": "stream",
     "text": [
      "C:\\Users\\bst3191\\AppData\\Local\\Temp\\ipykernel_26612\\1893236668.py:16: FutureWarning: The frame.append method is deprecated and will be removed from pandas in a future version. Use pandas.concat instead.\n",
      "  all_data = all_data.append(df, ignore_index=True)\n",
      "C:\\Users\\bst3191\\AppData\\Local\\Temp\\ipykernel_26612\\1893236668.py:16: FutureWarning: The frame.append method is deprecated and will be removed from pandas in a future version. Use pandas.concat instead.\n",
      "  all_data = all_data.append(df, ignore_index=True)\n",
      "C:\\Users\\bst3191\\AppData\\Local\\Temp\\ipykernel_26612\\1893236668.py:16: FutureWarning: The frame.append method is deprecated and will be removed from pandas in a future version. Use pandas.concat instead.\n",
      "  all_data = all_data.append(df, ignore_index=True)\n",
      "C:\\Users\\bst3191\\AppData\\Local\\Temp\\ipykernel_26612\\1893236668.py:16: FutureWarning: The frame.append method is deprecated and will be removed from pandas in a future version. Use pandas.concat instead.\n",
      "  all_data = all_data.append(df, ignore_index=True)\n",
      "C:\\Users\\bst3191\\AppData\\Local\\Temp\\ipykernel_26612\\1893236668.py:16: FutureWarning: The frame.append method is deprecated and will be removed from pandas in a future version. Use pandas.concat instead.\n",
      "  all_data = all_data.append(df, ignore_index=True)\n",
      "C:\\Users\\bst3191\\AppData\\Local\\Temp\\ipykernel_26612\\1893236668.py:16: FutureWarning: The frame.append method is deprecated and will be removed from pandas in a future version. Use pandas.concat instead.\n",
      "  all_data = all_data.append(df, ignore_index=True)\n",
      "c:\\Users\\bst3191\\anaconda3\\envs\\geospatial_environment\\lib\\site-packages\\geopandas\\io\\file.py:299: FutureWarning: pandas.Int64Index is deprecated and will be removed from pandas in a future version. Use pandas.Index with the appropriate dtype instead.\n",
      "  pd.Int64Index,\n",
      "C:\\Users\\bst3191\\AppData\\Local\\Temp\\ipykernel_26612\\1893236668.py:45: UserWarning: Column names longer than 10 characters will be truncated when saved to ESRI Shapefile.\n",
      "  gdf.to_file(f\"../../Casestudy_results/{folder_name}/Comparison_collaboration{filter_name}.shp\")\n"
     ]
    },
    {
     "data": {
      "text/html": [
       "<div>\n",
       "<style scoped>\n",
       "    .dataframe tbody tr th:only-of-type {\n",
       "        vertical-align: middle;\n",
       "    }\n",
       "\n",
       "    .dataframe tbody tr th {\n",
       "        vertical-align: top;\n",
       "    }\n",
       "\n",
       "    .dataframe thead th {\n",
       "        text-align: right;\n",
       "    }\n",
       "</style>\n",
       "<table border=\"1\" class=\"dataframe\">\n",
       "  <thead>\n",
       "    <tr style=\"text-align: right;\">\n",
       "      <th></th>\n",
       "      <th>index</th>\n",
       "      <th>OID</th>\n",
       "      <th>Longitude</th>\n",
       "      <th>Latitude</th>\n",
       "      <th>parent_name</th>\n",
       "      <th>route_CO2</th>\n",
       "      <th>PIP_IDs</th>\n",
       "      <th>dist_km</th>\n",
       "      <th>process_tech</th>\n",
       "      <th>grid</th>\n",
       "      <th>...</th>\n",
       "      <th>LCOP_CO2_avoided</th>\n",
       "      <th>LCOP_total_w_nets</th>\n",
       "      <th>LCOP_CO2_avoided_w_NETs</th>\n",
       "      <th>Cummulative_CO2_avoided</th>\n",
       "      <th>Cummulative_CO2_avoided_w_nets</th>\n",
       "      <th>Width_CO2_avoided_w_nets</th>\n",
       "      <th>xticks</th>\n",
       "      <th>diff_to_basecase</th>\n",
       "      <th>annual difference</th>\n",
       "      <th>geometry</th>\n",
       "    </tr>\n",
       "  </thead>\n",
       "  <tbody>\n",
       "    <tr>\n",
       "      <th>0</th>\n",
       "      <td>0</td>\n",
       "      <td>CID53</td>\n",
       "      <td>-1.751755</td>\n",
       "      <td>53.337916</td>\n",
       "      <td>Breedon Group PLC</td>\n",
       "      <td>LINESTRING (-1.751754988790997 53.337916006373...</td>\n",
       "      <td>['PIPEID0', 'PIPEID1']</td>\n",
       "      <td>148.036921</td>\n",
       "      <td>CCS_CALCINED_CLAY_CEMENT</td>\n",
       "      <td>1</td>\n",
       "      <td>...</td>\n",
       "      <td>74.426368</td>\n",
       "      <td>81.063751</td>\n",
       "      <td>130.687094</td>\n",
       "      <td>0.494644</td>\n",
       "      <td>0.682483</td>\n",
       "      <td>0.682483</td>\n",
       "      <td>0.341242</td>\n",
       "      <td>10.197629</td>\n",
       "      <td>11.3</td>\n",
       "      <td>POINT (-1.75175 53.33792)</td>\n",
       "    </tr>\n",
       "    <tr>\n",
       "      <th>1</th>\n",
       "      <td>1</td>\n",
       "      <td>CID71</td>\n",
       "      <td>-7.143371</td>\n",
       "      <td>53.432118</td>\n",
       "      <td>Breedon Group PLC</td>\n",
       "      <td>NaN</td>\n",
       "      <td>NaN</td>\n",
       "      <td>NaN</td>\n",
       "      <td>CALCINED_CLAY_BIOMASS_CEMENT</td>\n",
       "      <td>2</td>\n",
       "      <td>...</td>\n",
       "      <td>76.522479</td>\n",
       "      <td>86.134028</td>\n",
       "      <td>154.435510</td>\n",
       "      <td>0.702198</td>\n",
       "      <td>1.000000</td>\n",
       "      <td>0.317517</td>\n",
       "      <td>0.841242</td>\n",
       "      <td>7.795238</td>\n",
       "      <td>4.0</td>\n",
       "      <td>POINT (-7.14337 53.43212)</td>\n",
       "    </tr>\n",
       "    <tr>\n",
       "      <th>2</th>\n",
       "      <td>0</td>\n",
       "      <td>CID58</td>\n",
       "      <td>-0.529654</td>\n",
       "      <td>53.675822</td>\n",
       "      <td>CEMEX SAB de CV</td>\n",
       "      <td>LINESTRING (-0.5296539893112743 53.67582200595...</td>\n",
       "      <td>['PIPEID0', 'PIPEID2']</td>\n",
       "      <td>111.835430</td>\n",
       "      <td>CCS_CALCINED_CLAY_CEMENT</td>\n",
       "      <td>1</td>\n",
       "      <td>...</td>\n",
       "      <td>69.993475</td>\n",
       "      <td>76.538721</td>\n",
       "      <td>123.392058</td>\n",
       "      <td>0.203134</td>\n",
       "      <td>0.278981</td>\n",
       "      <td>0.278981</td>\n",
       "      <td>0.139491</td>\n",
       "      <td>0.187661</td>\n",
       "      <td>0.1</td>\n",
       "      <td>POINT (-0.52965 53.67582)</td>\n",
       "    </tr>\n",
       "    <tr>\n",
       "      <th>3</th>\n",
       "      <td>1</td>\n",
       "      <td>CID59</td>\n",
       "      <td>-1.286254</td>\n",
       "      <td>52.377293</td>\n",
       "      <td>CEMEX SAB de CV</td>\n",
       "      <td>LINESTRING (-1.286253988876013 52.377293006710...</td>\n",
       "      <td>['PIPEID1', 'PIPEID0', 'PIPEID2']</td>\n",
       "      <td>266.610352</td>\n",
       "      <td>CCS_CALCINED_CLAY_CEMENT</td>\n",
       "      <td>2</td>\n",
       "      <td>...</td>\n",
       "      <td>80.974186</td>\n",
       "      <td>83.967305</td>\n",
       "      <td>135.368065</td>\n",
       "      <td>0.725477</td>\n",
       "      <td>1.000000</td>\n",
       "      <td>0.721019</td>\n",
       "      <td>0.639491</td>\n",
       "      <td>11.998343</td>\n",
       "      <td>15.9</td>\n",
       "      <td>POINT (-1.28625 52.37729)</td>\n",
       "    </tr>\n",
       "    <tr>\n",
       "      <th>4</th>\n",
       "      <td>1</td>\n",
       "      <td>CID55</td>\n",
       "      <td>-1.851891</td>\n",
       "      <td>53.265267</td>\n",
       "      <td>CRH PLC</td>\n",
       "      <td>LINESTRING (-1.851890988743173 53.265267006429...</td>\n",
       "      <td>['PIPEID0', 'PIPEID4']</td>\n",
       "      <td>140.265996</td>\n",
       "      <td>CCS_CALCINED_CLAY_CEMENT</td>\n",
       "      <td>2</td>\n",
       "      <td>...</td>\n",
       "      <td>71.066812</td>\n",
       "      <td>78.951998</td>\n",
       "      <td>127.282628</td>\n",
       "      <td>0.118931</td>\n",
       "      <td>0.164824</td>\n",
       "      <td>0.164824</td>\n",
       "      <td>0.082412</td>\n",
       "      <td>8.478753</td>\n",
       "      <td>6.2</td>\n",
       "      <td>POINT (-1.85189 53.26527)</td>\n",
       "    </tr>\n",
       "    <tr>\n",
       "      <th>5</th>\n",
       "      <td>4</td>\n",
       "      <td>CID73</td>\n",
       "      <td>-6.387712</td>\n",
       "      <td>53.684307</td>\n",
       "      <td>CRH PLC</td>\n",
       "      <td>LINESTRING (-6.387711986882004 53.684307007319...</td>\n",
       "      <td>['PIPEID3', 'PIPEID4']</td>\n",
       "      <td>287.177607</td>\n",
       "      <td>CCS_CALCINED_CLAY_CEMENT</td>\n",
       "      <td>5</td>\n",
       "      <td>...</td>\n",
       "      <td>72.470601</td>\n",
       "      <td>79.409485</td>\n",
       "      <td>128.020165</td>\n",
       "      <td>0.451937</td>\n",
       "      <td>0.624786</td>\n",
       "      <td>0.459962</td>\n",
       "      <td>0.394805</td>\n",
       "      <td>4.240928</td>\n",
       "      <td>8.8</td>\n",
       "      <td>POINT (-6.38771 53.68431)</td>\n",
       "    </tr>\n",
       "    <tr>\n",
       "      <th>6</th>\n",
       "      <td>0</td>\n",
       "      <td>CID54</td>\n",
       "      <td>-3.392125</td>\n",
       "      <td>51.397546</td>\n",
       "      <td>CRH PLC</td>\n",
       "      <td>NaN</td>\n",
       "      <td>NaN</td>\n",
       "      <td>NaN</td>\n",
       "      <td>CALCINED_CLAY_CEMENT</td>\n",
       "      <td>1</td>\n",
       "      <td>...</td>\n",
       "      <td>33.422406</td>\n",
       "      <td>84.194840</td>\n",
       "      <td>254.588434</td>\n",
       "      <td>0.483641</td>\n",
       "      <td>0.705134</td>\n",
       "      <td>0.080348</td>\n",
       "      <td>0.664960</td>\n",
       "      <td>5.467250</td>\n",
       "      <td>2.0</td>\n",
       "      <td>POINT (-3.39213 51.39755)</td>\n",
       "    </tr>\n",
       "    <tr>\n",
       "      <th>7</th>\n",
       "      <td>3</td>\n",
       "      <td>CID72</td>\n",
       "      <td>-8.688373</td>\n",
       "      <td>52.641364</td>\n",
       "      <td>CRH PLC</td>\n",
       "      <td>NaN</td>\n",
       "      <td>NaN</td>\n",
       "      <td>NaN</td>\n",
       "      <td>CALCINED_CLAY_BIOMASS_CEMENT</td>\n",
       "      <td>4</td>\n",
       "      <td>...</td>\n",
       "      <td>74.136568</td>\n",
       "      <td>84.635956</td>\n",
       "      <td>151.749515</td>\n",
       "      <td>0.569190</td>\n",
       "      <td>0.836440</td>\n",
       "      <td>0.131306</td>\n",
       "      <td>0.770787</td>\n",
       "      <td>0.988326</td>\n",
       "      <td>0.6</td>\n",
       "      <td>POINT (-8.68837 52.64136)</td>\n",
       "    </tr>\n",
       "    <tr>\n",
       "      <th>8</th>\n",
       "      <td>2</td>\n",
       "      <td>CID56</td>\n",
       "      <td>-2.471920</td>\n",
       "      <td>55.979125</td>\n",
       "      <td>CRH PLC</td>\n",
       "      <td>LINESTRING (-2.471919988719641 55.979125005375...</td>\n",
       "      <td>['PIPEID2', 'PIPEID4']</td>\n",
       "      <td>373.235065</td>\n",
       "      <td>CCS_CALCINED_CLAY_CEMENT</td>\n",
       "      <td>3</td>\n",
       "      <td>...</td>\n",
       "      <td>83.259473</td>\n",
       "      <td>85.567983</td>\n",
       "      <td>137.948601</td>\n",
       "      <td>0.688121</td>\n",
       "      <td>1.000000</td>\n",
       "      <td>0.163560</td>\n",
       "      <td>0.918220</td>\n",
       "      <td>4.646073</td>\n",
       "      <td>3.4</td>\n",
       "      <td>POINT (-2.47192 55.97913)</td>\n",
       "    </tr>\n",
       "    <tr>\n",
       "      <th>9</th>\n",
       "      <td>1</td>\n",
       "      <td>CID62</td>\n",
       "      <td>-3.061635</td>\n",
       "      <td>53.152678</td>\n",
       "      <td>HeidelbergCement AG</td>\n",
       "      <td>LINESTRING (-3.061634988237042 53.152678006760...</td>\n",
       "      <td>['PIPEID1', 'PIPEID3']</td>\n",
       "      <td>62.649968</td>\n",
       "      <td>CCS_CALCINED_CLAY_CEMENT</td>\n",
       "      <td>2</td>\n",
       "      <td>...</td>\n",
       "      <td>66.763106</td>\n",
       "      <td>76.029916</td>\n",
       "      <td>122.571786</td>\n",
       "      <td>0.151072</td>\n",
       "      <td>0.209055</td>\n",
       "      <td>0.209055</td>\n",
       "      <td>0.104528</td>\n",
       "      <td>3.208679</td>\n",
       "      <td>2.2</td>\n",
       "      <td>POINT (-3.06163 53.15268)</td>\n",
       "    </tr>\n",
       "    <tr>\n",
       "      <th>10</th>\n",
       "      <td>0</td>\n",
       "      <td>CID61</td>\n",
       "      <td>-2.383373</td>\n",
       "      <td>53.888913</td>\n",
       "      <td>HeidelbergCement AG</td>\n",
       "      <td>LINESTRING (-2.383372988588973 53.888913006265...</td>\n",
       "      <td>['PIPEID0', 'PIPEID3']</td>\n",
       "      <td>148.760628</td>\n",
       "      <td>CCS_CALCINED_CLAY_CEMENT</td>\n",
       "      <td>1</td>\n",
       "      <td>...</td>\n",
       "      <td>71.539413</td>\n",
       "      <td>79.201909</td>\n",
       "      <td>127.685522</td>\n",
       "      <td>0.366889</td>\n",
       "      <td>0.508213</td>\n",
       "      <td>0.299158</td>\n",
       "      <td>0.358634</td>\n",
       "      <td>8.012196</td>\n",
       "      <td>7.7</td>\n",
       "      <td>POINT (-2.38337 53.88891)</td>\n",
       "    </tr>\n",
       "    <tr>\n",
       "      <th>11</th>\n",
       "      <td>2</td>\n",
       "      <td>CID63</td>\n",
       "      <td>-0.547016</td>\n",
       "      <td>52.640356</td>\n",
       "      <td>HeidelbergCement AG</td>\n",
       "      <td>LINESTRING (-0.5470159891996003 52.64035600642...</td>\n",
       "      <td>['PIPEID2', 'PIPEID3']</td>\n",
       "      <td>239.971842</td>\n",
       "      <td>CCS_CALCINED_CLAY_CEMENT</td>\n",
       "      <td>3</td>\n",
       "      <td>...</td>\n",
       "      <td>74.838099</td>\n",
       "      <td>79.938035</td>\n",
       "      <td>128.872269</td>\n",
       "      <td>0.725477</td>\n",
       "      <td>1.000000</td>\n",
       "      <td>0.491787</td>\n",
       "      <td>0.754107</td>\n",
       "      <td>3.772930</td>\n",
       "      <td>6.0</td>\n",
       "      <td>POINT (-0.54702 52.64036)</td>\n",
       "    </tr>\n",
       "    <tr>\n",
       "      <th>12</th>\n",
       "      <td>1</td>\n",
       "      <td>CID68</td>\n",
       "      <td>-1.875169</td>\n",
       "      <td>53.044003</td>\n",
       "      <td>LafargeHolcim Ltd</td>\n",
       "      <td>LINESTRING (-1.875168988710858 53.044003006536...</td>\n",
       "      <td>['PIPEID0', 'PIPEID1']</td>\n",
       "      <td>140.173649</td>\n",
       "      <td>CCS_CALCINED_CLAY_CEMENT</td>\n",
       "      <td>2</td>\n",
       "      <td>...</td>\n",
       "      <td>81.314839</td>\n",
       "      <td>85.380448</td>\n",
       "      <td>137.646266</td>\n",
       "      <td>0.483652</td>\n",
       "      <td>0.670816</td>\n",
       "      <td>0.670816</td>\n",
       "      <td>0.335408</td>\n",
       "      <td>14.786221</td>\n",
       "      <td>10.5</td>\n",
       "      <td>POINT (-1.87517 53.04400)</td>\n",
       "    </tr>\n",
       "    <tr>\n",
       "      <th>13</th>\n",
       "      <td>0</td>\n",
       "      <td>CID67</td>\n",
       "      <td>-6.767677</td>\n",
       "      <td>54.618105</td>\n",
       "      <td>LafargeHolcim Ltd</td>\n",
       "      <td>NaN</td>\n",
       "      <td>NaN</td>\n",
       "      <td>NaN</td>\n",
       "      <td>CALCINED_CLAY_CEMENT</td>\n",
       "      <td>1</td>\n",
       "      <td>...</td>\n",
       "      <td>37.810946</td>\n",
       "      <td>86.516969</td>\n",
       "      <td>261.610091</td>\n",
       "      <td>0.612582</td>\n",
       "      <td>1.000000</td>\n",
       "      <td>0.329184</td>\n",
       "      <td>0.835408</td>\n",
       "      <td>2.426553</td>\n",
       "      <td>0.9</td>\n",
       "      <td>POINT (-6.76768 54.61810)</td>\n",
       "    </tr>\n",
       "    <tr>\n",
       "      <th>14</th>\n",
       "      <td>1</td>\n",
       "      <td>CID74</td>\n",
       "      <td>-7.578912</td>\n",
       "      <td>54.130891</td>\n",
       "      <td>Mannok Build Ltd</td>\n",
       "      <td>LINESTRING (-7.578911986405142 54.130891007403...</td>\n",
       "      <td>['PIPEID1', 'PIPEID0', 'PIPEID2']</td>\n",
       "      <td>257.025856</td>\n",
       "      <td>CCS_CALCINED_CLAY_CEMENT</td>\n",
       "      <td>2</td>\n",
       "      <td>...</td>\n",
       "      <td>71.077389</td>\n",
       "      <td>79.392890</td>\n",
       "      <td>127.993412</td>\n",
       "      <td>0.531478</td>\n",
       "      <td>0.739392</td>\n",
       "      <td>0.739392</td>\n",
       "      <td>0.369696</td>\n",
       "      <td>2.071969</td>\n",
       "      <td>4.9</td>\n",
       "      <td>POINT (-7.57891 54.13089)</td>\n",
       "    </tr>\n",
       "    <tr>\n",
       "      <th>15</th>\n",
       "      <td>0</td>\n",
       "      <td>CID70</td>\n",
       "      <td>-7.572383</td>\n",
       "      <td>54.143487</td>\n",
       "      <td>Mannok Build Ltd</td>\n",
       "      <td>LINESTRING (-7.572382986409267 54.143487007395...</td>\n",
       "      <td>['PIPEID0', 'PIPEID2']</td>\n",
       "      <td>255.556670</td>\n",
       "      <td>CCS_CEMENT</td>\n",
       "      <td>1</td>\n",
       "      <td>...</td>\n",
       "      <td>87.330688</td>\n",
       "      <td>88.276934</td>\n",
       "      <td>156.219090</td>\n",
       "      <td>0.708212</td>\n",
       "      <td>1.000000</td>\n",
       "      <td>0.260608</td>\n",
       "      <td>0.869696</td>\n",
       "      <td>11.029134</td>\n",
       "      <td>9.5</td>\n",
       "      <td>POINT (-7.57238 54.14349)</td>\n",
       "    </tr>\n",
       "  </tbody>\n",
       "</table>\n",
       "<p>16 rows × 37 columns</p>\n",
       "</div>"
      ],
      "text/plain": [
       "    index    OID  Longitude   Latitude          parent_name  \\\n",
       "0       0  CID53  -1.751755  53.337916    Breedon Group PLC   \n",
       "1       1  CID71  -7.143371  53.432118    Breedon Group PLC   \n",
       "2       0  CID58  -0.529654  53.675822      CEMEX SAB de CV   \n",
       "3       1  CID59  -1.286254  52.377293      CEMEX SAB de CV   \n",
       "4       1  CID55  -1.851891  53.265267              CRH PLC   \n",
       "5       4  CID73  -6.387712  53.684307              CRH PLC   \n",
       "6       0  CID54  -3.392125  51.397546              CRH PLC   \n",
       "7       3  CID72  -8.688373  52.641364              CRH PLC   \n",
       "8       2  CID56  -2.471920  55.979125              CRH PLC   \n",
       "9       1  CID62  -3.061635  53.152678  HeidelbergCement AG   \n",
       "10      0  CID61  -2.383373  53.888913  HeidelbergCement AG   \n",
       "11      2  CID63  -0.547016  52.640356  HeidelbergCement AG   \n",
       "12      1  CID68  -1.875169  53.044003    LafargeHolcim Ltd   \n",
       "13      0  CID67  -6.767677  54.618105    LafargeHolcim Ltd   \n",
       "14      1  CID74  -7.578912  54.130891     Mannok Build Ltd   \n",
       "15      0  CID70  -7.572383  54.143487     Mannok Build Ltd   \n",
       "\n",
       "                                            route_CO2  \\\n",
       "0   LINESTRING (-1.751754988790997 53.337916006373...   \n",
       "1                                                 NaN   \n",
       "2   LINESTRING (-0.5296539893112743 53.67582200595...   \n",
       "3   LINESTRING (-1.286253988876013 52.377293006710...   \n",
       "4   LINESTRING (-1.851890988743173 53.265267006429...   \n",
       "5   LINESTRING (-6.387711986882004 53.684307007319...   \n",
       "6                                                 NaN   \n",
       "7                                                 NaN   \n",
       "8   LINESTRING (-2.471919988719641 55.979125005375...   \n",
       "9   LINESTRING (-3.061634988237042 53.152678006760...   \n",
       "10  LINESTRING (-2.383372988588973 53.888913006265...   \n",
       "11  LINESTRING (-0.5470159891996003 52.64035600642...   \n",
       "12  LINESTRING (-1.875168988710858 53.044003006536...   \n",
       "13                                                NaN   \n",
       "14  LINESTRING (-7.578911986405142 54.130891007403...   \n",
       "15  LINESTRING (-7.572382986409267 54.143487007395...   \n",
       "\n",
       "                              PIP_IDs     dist_km  \\\n",
       "0              ['PIPEID0', 'PIPEID1']  148.036921   \n",
       "1                                 NaN         NaN   \n",
       "2              ['PIPEID0', 'PIPEID2']  111.835430   \n",
       "3   ['PIPEID1', 'PIPEID0', 'PIPEID2']  266.610352   \n",
       "4              ['PIPEID0', 'PIPEID4']  140.265996   \n",
       "5              ['PIPEID3', 'PIPEID4']  287.177607   \n",
       "6                                 NaN         NaN   \n",
       "7                                 NaN         NaN   \n",
       "8              ['PIPEID2', 'PIPEID4']  373.235065   \n",
       "9              ['PIPEID1', 'PIPEID3']   62.649968   \n",
       "10             ['PIPEID0', 'PIPEID3']  148.760628   \n",
       "11             ['PIPEID2', 'PIPEID3']  239.971842   \n",
       "12             ['PIPEID0', 'PIPEID1']  140.173649   \n",
       "13                                NaN         NaN   \n",
       "14  ['PIPEID1', 'PIPEID0', 'PIPEID2']  257.025856   \n",
       "15             ['PIPEID0', 'PIPEID2']  255.556670   \n",
       "\n",
       "                    process_tech  grid  ...  LCOP_CO2_avoided  \\\n",
       "0       CCS_CALCINED_CLAY_CEMENT     1  ...         74.426368   \n",
       "1   CALCINED_CLAY_BIOMASS_CEMENT     2  ...         76.522479   \n",
       "2       CCS_CALCINED_CLAY_CEMENT     1  ...         69.993475   \n",
       "3       CCS_CALCINED_CLAY_CEMENT     2  ...         80.974186   \n",
       "4       CCS_CALCINED_CLAY_CEMENT     2  ...         71.066812   \n",
       "5       CCS_CALCINED_CLAY_CEMENT     5  ...         72.470601   \n",
       "6           CALCINED_CLAY_CEMENT     1  ...         33.422406   \n",
       "7   CALCINED_CLAY_BIOMASS_CEMENT     4  ...         74.136568   \n",
       "8       CCS_CALCINED_CLAY_CEMENT     3  ...         83.259473   \n",
       "9       CCS_CALCINED_CLAY_CEMENT     2  ...         66.763106   \n",
       "10      CCS_CALCINED_CLAY_CEMENT     1  ...         71.539413   \n",
       "11      CCS_CALCINED_CLAY_CEMENT     3  ...         74.838099   \n",
       "12      CCS_CALCINED_CLAY_CEMENT     2  ...         81.314839   \n",
       "13          CALCINED_CLAY_CEMENT     1  ...         37.810946   \n",
       "14      CCS_CALCINED_CLAY_CEMENT     2  ...         71.077389   \n",
       "15                    CCS_CEMENT     1  ...         87.330688   \n",
       "\n",
       "   LCOP_total_w_nets  LCOP_CO2_avoided_w_NETs  Cummulative_CO2_avoided  \\\n",
       "0          81.063751               130.687094                 0.494644   \n",
       "1          86.134028               154.435510                 0.702198   \n",
       "2          76.538721               123.392058                 0.203134   \n",
       "3          83.967305               135.368065                 0.725477   \n",
       "4          78.951998               127.282628                 0.118931   \n",
       "5          79.409485               128.020165                 0.451937   \n",
       "6          84.194840               254.588434                 0.483641   \n",
       "7          84.635956               151.749515                 0.569190   \n",
       "8          85.567983               137.948601                 0.688121   \n",
       "9          76.029916               122.571786                 0.151072   \n",
       "10         79.201909               127.685522                 0.366889   \n",
       "11         79.938035               128.872269                 0.725477   \n",
       "12         85.380448               137.646266                 0.483652   \n",
       "13         86.516969               261.610091                 0.612582   \n",
       "14         79.392890               127.993412                 0.531478   \n",
       "15         88.276934               156.219090                 0.708212   \n",
       "\n",
       "    Cummulative_CO2_avoided_w_nets  Width_CO2_avoided_w_nets    xticks  \\\n",
       "0                         0.682483                  0.682483  0.341242   \n",
       "1                         1.000000                  0.317517  0.841242   \n",
       "2                         0.278981                  0.278981  0.139491   \n",
       "3                         1.000000                  0.721019  0.639491   \n",
       "4                         0.164824                  0.164824  0.082412   \n",
       "5                         0.624786                  0.459962  0.394805   \n",
       "6                         0.705134                  0.080348  0.664960   \n",
       "7                         0.836440                  0.131306  0.770787   \n",
       "8                         1.000000                  0.163560  0.918220   \n",
       "9                         0.209055                  0.209055  0.104528   \n",
       "10                        0.508213                  0.299158  0.358634   \n",
       "11                        1.000000                  0.491787  0.754107   \n",
       "12                        0.670816                  0.670816  0.335408   \n",
       "13                        1.000000                  0.329184  0.835408   \n",
       "14                        0.739392                  0.739392  0.369696   \n",
       "15                        1.000000                  0.260608  0.869696   \n",
       "\n",
       "    diff_to_basecase  annual difference                   geometry  \n",
       "0          10.197629               11.3  POINT (-1.75175 53.33792)  \n",
       "1           7.795238                4.0  POINT (-7.14337 53.43212)  \n",
       "2           0.187661                0.1  POINT (-0.52965 53.67582)  \n",
       "3          11.998343               15.9  POINT (-1.28625 52.37729)  \n",
       "4           8.478753                6.2  POINT (-1.85189 53.26527)  \n",
       "5           4.240928                8.8  POINT (-6.38771 53.68431)  \n",
       "6           5.467250                2.0  POINT (-3.39213 51.39755)  \n",
       "7           0.988326                0.6  POINT (-8.68837 52.64136)  \n",
       "8           4.646073                3.4  POINT (-2.47192 55.97913)  \n",
       "9           3.208679                2.2  POINT (-3.06163 53.15268)  \n",
       "10          8.012196                7.7  POINT (-2.38337 53.88891)  \n",
       "11          3.772930                6.0  POINT (-0.54702 52.64036)  \n",
       "12         14.786221               10.5  POINT (-1.87517 53.04400)  \n",
       "13          2.426553                0.9  POINT (-6.76768 54.61810)  \n",
       "14          2.071969                4.9  POINT (-7.57891 54.13089)  \n",
       "15         11.029134                9.5  POINT (-7.57238 54.14349)  \n",
       "\n",
       "[16 rows x 37 columns]"
      ]
     },
     "execution_count": 5,
     "metadata": {},
     "output_type": "execute_result"
    }
   ],
   "source": [
    "if combining:\n",
    "    # Initialize an empty dataframe to append all the data\n",
    "    all_data = pd.DataFrame()\n",
    "\n",
    "    # Iterate through the case names\n",
    "    for case in CaseNames:\n",
    "        # Define the path to the CSV file\n",
    "        csv_file = Path(f\"../../Casestudy_results/{folder_name}/{case}/Technology/snapshot100/Results_postprocessing/Results_{case}_snapshot100.csv\")\n",
    "        \n",
    "        # Check if the CSV file exists\n",
    "        if csv_file.exists():\n",
    "            # Read the CSV file into a pandas dataframe\n",
    "            df = pd.read_csv(csv_file,delimiter=';')\n",
    "            \n",
    "            # Append the dataframe to the all_data dataframe\n",
    "            all_data = all_data.append(df, ignore_index=True)\n",
    "        else:\n",
    "            print(f\"File {csv_file} not found\")\n",
    "\n",
    "    # Load the base case CSV file\n",
    "    df_base_case = pd.read_csv(f\"../../Casestudy_results/Base_Cases/UK/Technology/snapshot100/Results_postprocessing/Results_UK_snapshot100.csv\", delimiter=';')\n",
    "    \n",
    "    # Ensure the 'OID' column is of string type for both dataframes to match correctly\n",
    "    all_data['OID'] = all_data['OID'].astype(str)\n",
    "    df_base_case['OID'] = df_base_case['OID'].astype(str)\n",
    "\n",
    "    # Create a dictionary from df_base_case for faster lookup\n",
    "    base_case_dict = df_base_case.set_index('OID')['LCOP_total_w_nets'].to_dict()\n",
    "\n",
    "    # Calculate the difference and add it to a new column in all_data\n",
    "    all_data['diff_to_basecase'] = all_data.apply(lambda row: row['LCOP_total_w_nets'] - base_case_dict.get(row['OID'], 0), axis=1)\n",
    "\n",
    "    #calculate extra costs in M€ per cement plant for not collaborating: \n",
    "    all_data['annual difference'] = all_data['diff_to_basecase'] * all_data['capacity']/1000000\n",
    "\n",
    "    # Round the 'annual difference' column to one decimal place\n",
    "    all_data['annual difference'] = all_data['annual difference'].round(1)\n",
    "\n",
    "    # Convert the pandas dataframe to a GeoDataFrame\n",
    "    # Note: This step assumes that your CSV file contains columns for geometry data such as 'latitude' and 'longitude'\n",
    "    # If your CSV files do not contain geometry data, you'll need to adjust this part\n",
    "    gdf = gpd.GeoDataFrame(all_data, geometry=gpd.points_from_xy(all_data.Longitude, all_data.Latitude))\n",
    "\n",
    "    # Save the GeoDataFrame as a shapefile\n",
    "    gdf.to_file(f\"../../Casestudy_results/{folder_name}/Comparison_collaboration{filter_name}.shp\")\n",
    "    gdf.to_csv(f\"../../Casestudy_results/{folder_name}/Comparison_collaboration{filter_name}.csv\", sep=';', index=False) \n",
    "all_data"
   ]
  },
  {
   "cell_type": "code",
   "execution_count": null,
   "metadata": {},
   "outputs": [],
   "source": []
  }
 ],
 "metadata": {
  "kernelspec": {
   "display_name": "testenvironment",
   "language": "python",
   "name": "python3"
  },
  "language_info": {
   "codemirror_mode": {
    "name": "ipython",
    "version": 3
   },
   "file_extension": ".py",
   "mimetype": "text/x-python",
   "name": "python",
   "nbconvert_exporter": "python",
   "pygments_lexer": "ipython3",
   "version": "3.9.12"
  },
  "orig_nbformat": 4
 },
 "nbformat": 4,
 "nbformat_minor": 2
}
