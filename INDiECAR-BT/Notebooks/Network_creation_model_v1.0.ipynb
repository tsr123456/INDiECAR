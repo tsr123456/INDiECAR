{
 "cells": [
  {
   "cell_type": "code",
   "execution_count": 1,
   "id": "1ffa58c7",
   "metadata": {},
   "outputs": [],
   "source": [
    "import geopandas as gpd\n",
    "from shapefile_to_network.main.convertor.GraphSimplify import GraphSimplify\n",
    "from shapefile_to_network.main.convertor.GraphConvertor import GraphConvertor\n",
    "from shapely import speedups\n",
    "import pandas as pd\n",
    "import numpy as np\n",
    "from shapely.geometry import Point, Polygon, asShape \n",
    "import plotly.graph_objects as go\n",
    "import plotly.express as px\n",
    "import requests\n",
    "import json\n",
    "import networkx as nx\n",
    "from scipy.spatial import KDTree\n",
    "import warnings\n",
    "import pickle  \n",
    "\n",
    "# Supress deprecation Warnings\n",
    "warnings.filterwarnings('ignore')\n",
    "\n",
    "\n",
    "speedups.disable()"
   ]
  },
  {
   "cell_type": "code",
   "execution_count": 2,
   "id": "b56ce4d5",
   "metadata": {},
   "outputs": [],
   "source": [
    "def create_network(input_file):\n",
    "    \"\"\"Converts the shapefile of shipping routes downloaded online into a network using GraphConvertor.py. Requires\n",
    "    no input. \"\"\"\n",
    "\n",
    "    # Create GraphConvertor object by passing the path of input shapefile and the output directory\n",
    "    output_dir = 'shapefile_Till'\n",
    "\n",
    "    graph_convertor_obj = GraphConvertor(input_file, output_dir)\n",
    "\n",
    "    # Call graph_convertor function to convert the input shapefile into road network and save the newly created\n",
    "    # shapefile into specifed output_dir along with list of nodes and edges in .csv files\n",
    "    network = graph_convertor_obj.graph_convertor()\n",
    "\n",
    "    return network"
   ]
  },
  {
   "cell_type": "code",
   "execution_count": 3,
   "id": "fd3106a2",
   "metadata": {},
   "outputs": [],
   "source": [
    "#define input files:\n",
    "input_file_railways= 'shapefile_Till/railways.shp'\n",
    "input_file_ship_on = 'shapefile_Till/Wise water ways_updated/Large_rivers_updated_01.shp'\n",
    "input_file_ship_off = 'shapefile_Till/shipping_routes.shp'\n",
    "input_file_pipeline = 'shapefile_Till/GER_pipeline_2030_test.shp'"
   ]
  },
  {
   "cell_type": "code",
   "execution_count": null,
   "id": "05eb73fa",
   "metadata": {},
   "outputs": [],
   "source": [
    "#create network files\n",
    "network_rail = create_network(input_file_railways)\n",
    "network_ship_on = create_network(input_file_ship_on)\n",
    "network_ship_off = create_network(input_file_ship_off)"
   ]
  },
  {
   "cell_type": "code",
   "execution_count": null,
   "id": "97702b3b",
   "metadata": {},
   "outputs": [],
   "source": [
    "# Dump graphs\n",
    "\n",
    "with open(\"network_rail.p\", 'wb') as f:\n",
    "    pickle.dump(network_rail, f)\n",
    "    \n",
    "with open(\"network_ship_on.p\", 'wb') as f:\n",
    "    pickle.dump(network_ship_on, f)\n",
    "    \n",
    "with open(\"network_ship_off.p\", 'wb') as f:\n",
    "    pickle.dump(network_ship_off, f)"
   ]
  },
  {
   "cell_type": "code",
   "execution_count": 5,
   "id": "e7b6b963",
   "metadata": {},
   "outputs": [
    {
     "name": "stdout",
     "output_type": "stream",
     "text": [
      "Number of Nodes in the graph,  10\n"
     ]
    }
   ],
   "source": [
    "network_pipe = create_network(input_file_pipeline)"
   ]
  },
  {
   "cell_type": "code",
   "execution_count": 7,
   "id": "6e20bce3",
   "metadata": {},
   "outputs": [],
   "source": [
    "with open(\"network_GER_pipeline.p\", 'wb') as f:\n",
    "    pickle.dump(network_pipe, f)"
   ]
  },
  {
   "cell_type": "code",
   "execution_count": null,
   "id": "dcc36848",
   "metadata": {},
   "outputs": [],
   "source": []
  }
 ],
 "metadata": {
  "kernelspec": {
   "display_name": "Python 3 (ipykernel)",
   "language": "python",
   "name": "python3"
  },
  "language_info": {
   "codemirror_mode": {
    "name": "ipython",
    "version": 3
   },
   "file_extension": ".py",
   "mimetype": "text/x-python",
   "name": "python",
   "nbconvert_exporter": "python",
   "pygments_lexer": "ipython3",
   "version": "3.9.12"
  }
 },
 "nbformat": 4,
 "nbformat_minor": 5
}
