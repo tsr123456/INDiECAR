{
 "cells": [
  {
   "attachments": {},
   "cell_type": "markdown",
   "id": "4397df31",
   "metadata": {},
   "source": [
    "# Import Storage files and create readable CSVs"
   ]
  },
  {
   "cell_type": "code",
   "execution_count": 10,
   "id": "specific-scroll",
   "metadata": {},
   "outputs": [],
   "source": [
    "import geopandas as gpd\n",
    "import pandas as pd\n",
    "import numpy as np\n",
    "from shapely.geometry import Point, Polygon, asShape \n",
    "import plotly.graph_objects as go\n",
    "import plotly.express as px\n",
    "from shapely.geometry import LineString\n",
    "import shapely\n",
    "import matplotlib.pyplot as plt\n",
    "import polyline\n",
    "import csv"
   ]
  },
  {
   "attachments": {},
   "cell_type": "markdown",
   "id": "e27a9d79",
   "metadata": {},
   "source": [
    "Define functions"
   ]
  },
  {
   "cell_type": "code",
   "execution_count": 11,
   "id": "9e09d4b6",
   "metadata": {},
   "outputs": [],
   "source": [
    "def make_geo_dataframe_w_flex_input(df,coordinate_system):\n",
    "    \"\"\" Makes geodaframe from pandas dataframe and returns it in epsg:4326 coordinates\"\"\"\n",
    "    gdf = gpd.GeoDataFrame(df, geometry=gpd.points_from_xy(df.Latitude, df.Longitude))\n",
    "    gdf = gdf.set_crs(coordinate_system, inplace = True)\n",
    "    #gdf = gdf.to_crs('epsg:4326', inplace= True)\n",
    "    return gdf"
   ]
  },
  {
   "cell_type": "code",
   "execution_count": 12,
   "id": "b0f5ceb8",
   "metadata": {},
   "outputs": [],
   "source": [
    "def get_delimiter(file_path: str) -> str:\n",
    "    with open(file_path, 'r') as csvfile:\n",
    "        delimiter = str(csv.Sniffer().sniff(csvfile.read()).delimiter)\n",
    "        return delimiter"
   ]
  },
  {
   "cell_type": "code",
   "execution_count": 13,
   "id": "fbb7b35f",
   "metadata": {},
   "outputs": [],
   "source": [
    "def read_df_from_csv(file_path):\n",
    "    delimiter = get_delimiter(file_path)\n",
    "    df = pd.read_csv(file_path, delimiter = delimiter)\n",
    "    return df"
   ]
  },
  {
   "cell_type": "code",
   "execution_count": 14,
   "id": "9d59faeb",
   "metadata": {},
   "outputs": [],
   "source": [
    "def swap_xy(geom):\n",
    "    #This function changes x and y coordinates, taken from https://gis.stackexchange.com/questions/291247/interchange-y-x-to-x-y-with-geopandas-python-or-qgis\n",
    "    if geom.is_empty:\n",
    "        return geom\n",
    "\n",
    "    if geom.has_z:\n",
    "        def swap_xy_coords(coords):\n",
    "            for x, y, z in coords:\n",
    "                yield (y, x, z)\n",
    "    else:\n",
    "        def swap_xy_coords(coords):\n",
    "            for x, y in coords:\n",
    "                yield (y, x)\n",
    "\n",
    "    # Process coordinates from each supported geometry type\n",
    "    if geom.type in ('Point', 'LineString', 'LinearRing'):\n",
    "        return type(geom)(list(swap_xy_coords(geom.coords)))\n",
    "    elif geom.type == 'Polygon':\n",
    "        ring = geom.exterior\n",
    "        shell = type(ring)(list(swap_xy_coords(ring.coords)))\n",
    "        holes = list(geom.interiors)\n",
    "        for pos, ring in enumerate(holes):\n",
    "            holes[pos] = type(ring)(list(swap_xy_coords(ring.coords)))\n",
    "        return type(geom)(shell, holes)\n",
    "    elif geom.type.startswith('Multi') or geom.type == 'GeometryCollection':\n",
    "        # Recursive call\n",
    "        return type(geom)([swap_xy(part) for part in geom.geoms])\n",
    "    else:\n",
    "        raise ValueError('Type %r not recognized' % geom.type)"
   ]
  },
  {
   "attachments": {},
   "cell_type": "markdown",
   "id": "a0332ae0",
   "metadata": {},
   "source": [
    "Import data"
   ]
  },
  {
   "cell_type": "code",
   "execution_count": 15,
   "id": "6f1c9ada",
   "metadata": {},
   "outputs": [],
   "source": [
    "#define Filepath:\n",
    "filePath = 'C:/Users/TSR/My Python projects/geospatial analysis model/Data/CO2STOP.csv'"
   ]
  },
  {
   "cell_type": "code",
   "execution_count": 16,
   "id": "6116ba3b",
   "metadata": {},
   "outputs": [
    {
     "name": "stderr",
     "output_type": "stream",
     "text": [
      "C:\\Users\\TSR\\AppData\\Local\\Temp\\ipykernel_1628\\3684961604.py:10: UserWarning: Geometry is in a geographic CRS. Results from 'centroid' are likely incorrect. Use 'GeoSeries.to_crs()' to re-project geometries to a projected CRS before this operation.\n",
      "\n",
      "  gdf_storage['Longitude'] = gdf_storage.centroid.x\n",
      "C:\\Users\\TSR\\AppData\\Local\\Temp\\ipykernel_1628\\3684961604.py:11: UserWarning: Geometry is in a geographic CRS. Results from 'centroid' are likely incorrect. Use 'GeoSeries.to_crs()' to re-project geometries to a projected CRS before this operation.\n",
      "\n",
      "  gdf_storage['Latitude'] = gdf_storage.centroid.y\n"
     ]
    }
   ],
   "source": [
    "#Load dataframe\n",
    "df_storage = read_df_from_csv(filePath)\n",
    "df_storage = df_storage[['OBJECTID','COUNTRYCODE','X','Y', 'STORE_CAP_MEAN']].copy()\n",
    "\n",
    "#rename X Y and make geo dataframe\n",
    "df_storage.rename(columns={'X':'Latitude', 'Y':'Longitude'}, inplace=True)\n",
    "gdf_storage = make_geo_dataframe_w_flex_input(df_storage, 'epsg:32631')\n",
    "#change coordinate system\n",
    "gdf_storage.to_crs(epsg =4326, inplace=True )\n",
    "gdf_storage['Longitude'] = gdf_storage.centroid.x  \n",
    "gdf_storage['Latitude'] = gdf_storage.centroid.y\n",
    "#swap xy coordinates: \n",
    "#gdf_storage['geometry'] = gdf_storage['geometry'].apply(lambda x: swap_xy(x))\n"
   ]
  },
  {
   "cell_type": "code",
   "execution_count": 17,
   "id": "141657ff",
   "metadata": {},
   "outputs": [
    {
     "data": {
      "text/html": [
       "<div>\n",
       "<style scoped>\n",
       "    .dataframe tbody tr th:only-of-type {\n",
       "        vertical-align: middle;\n",
       "    }\n",
       "\n",
       "    .dataframe tbody tr th {\n",
       "        vertical-align: top;\n",
       "    }\n",
       "\n",
       "    .dataframe thead th {\n",
       "        text-align: right;\n",
       "    }\n",
       "</style>\n",
       "<table border=\"1\" class=\"dataframe\">\n",
       "  <thead>\n",
       "    <tr style=\"text-align: right;\">\n",
       "      <th></th>\n",
       "      <th>OBJECTID</th>\n",
       "      <th>COUNTRYCODE</th>\n",
       "      <th>Latitude</th>\n",
       "      <th>Longitude</th>\n",
       "      <th>STORE_CAP_MEAN</th>\n",
       "      <th>geometry</th>\n",
       "    </tr>\n",
       "  </thead>\n",
       "  <tbody>\n",
       "    <tr>\n",
       "      <th>0</th>\n",
       "      <td>439</td>\n",
       "      <td>GB</td>\n",
       "      <td>54.012560</td>\n",
       "      <td>1.270767</td>\n",
       "      <td>13293.914400</td>\n",
       "      <td>POINT (1.27077 54.01256)</td>\n",
       "    </tr>\n",
       "    <tr>\n",
       "      <th>1</th>\n",
       "      <td>440</td>\n",
       "      <td>GB</td>\n",
       "      <td>53.410405</td>\n",
       "      <td>1.662874</td>\n",
       "      <td>0.000000</td>\n",
       "      <td>POINT (1.66287 53.41041)</td>\n",
       "    </tr>\n",
       "    <tr>\n",
       "      <th>2</th>\n",
       "      <td>441</td>\n",
       "      <td>GB</td>\n",
       "      <td>60.261169</td>\n",
       "      <td>1.787312</td>\n",
       "      <td>370.438622</td>\n",
       "      <td>POINT (1.78731 60.26117)</td>\n",
       "    </tr>\n",
       "    <tr>\n",
       "      <th>3</th>\n",
       "      <td>442</td>\n",
       "      <td>GB</td>\n",
       "      <td>59.743856</td>\n",
       "      <td>1.390370</td>\n",
       "      <td>12220.080930</td>\n",
       "      <td>POINT (1.39037 59.74386)</td>\n",
       "    </tr>\n",
       "    <tr>\n",
       "      <th>4</th>\n",
       "      <td>443</td>\n",
       "      <td>GB</td>\n",
       "      <td>57.231001</td>\n",
       "      <td>0.931109</td>\n",
       "      <td>339.066000</td>\n",
       "      <td>POINT (0.93111 57.23100)</td>\n",
       "    </tr>\n",
       "    <tr>\n",
       "      <th>...</th>\n",
       "      <td>...</td>\n",
       "      <td>...</td>\n",
       "      <td>...</td>\n",
       "      <td>...</td>\n",
       "      <td>...</td>\n",
       "      <td>...</td>\n",
       "    </tr>\n",
       "    <tr>\n",
       "      <th>91</th>\n",
       "      <td>493</td>\n",
       "      <td>GB</td>\n",
       "      <td>58.175041</td>\n",
       "      <td>-1.689003</td>\n",
       "      <td>55.843200</td>\n",
       "      <td>POINT (-1.68900 58.17504)</td>\n",
       "    </tr>\n",
       "    <tr>\n",
       "      <th>92</th>\n",
       "      <td>494</td>\n",
       "      <td>GB</td>\n",
       "      <td>57.913570</td>\n",
       "      <td>-0.270809</td>\n",
       "      <td>60.830000</td>\n",
       "      <td>POINT (-0.27081 57.91357)</td>\n",
       "    </tr>\n",
       "    <tr>\n",
       "      <th>93</th>\n",
       "      <td>495</td>\n",
       "      <td>GB</td>\n",
       "      <td>59.576401</td>\n",
       "      <td>1.691081</td>\n",
       "      <td>390.445440</td>\n",
       "      <td>POINT (1.69108 59.57640)</td>\n",
       "    </tr>\n",
       "    <tr>\n",
       "      <th>94</th>\n",
       "      <td>496</td>\n",
       "      <td>GB</td>\n",
       "      <td>60.872461</td>\n",
       "      <td>1.700833</td>\n",
       "      <td>254.432640</td>\n",
       "      <td>POINT (1.70083 60.87246)</td>\n",
       "    </tr>\n",
       "    <tr>\n",
       "      <th>95</th>\n",
       "      <td>497</td>\n",
       "      <td>GB</td>\n",
       "      <td>58.319364</td>\n",
       "      <td>-1.778741</td>\n",
       "      <td>805.729680</td>\n",
       "      <td>POINT (-1.77874 58.31936)</td>\n",
       "    </tr>\n",
       "  </tbody>\n",
       "</table>\n",
       "<p>96 rows × 6 columns</p>\n",
       "</div>"
      ],
      "text/plain": [
       "    OBJECTID COUNTRYCODE   Latitude  Longitude  STORE_CAP_MEAN  \\\n",
       "0        439          GB  54.012560   1.270767    13293.914400   \n",
       "1        440          GB  53.410405   1.662874        0.000000   \n",
       "2        441          GB  60.261169   1.787312      370.438622   \n",
       "3        442          GB  59.743856   1.390370    12220.080930   \n",
       "4        443          GB  57.231001   0.931109      339.066000   \n",
       "..       ...         ...        ...        ...             ...   \n",
       "91       493          GB  58.175041  -1.689003       55.843200   \n",
       "92       494          GB  57.913570  -0.270809       60.830000   \n",
       "93       495          GB  59.576401   1.691081      390.445440   \n",
       "94       496          GB  60.872461   1.700833      254.432640   \n",
       "95       497          GB  58.319364  -1.778741      805.729680   \n",
       "\n",
       "                     geometry  \n",
       "0    POINT (1.27077 54.01256)  \n",
       "1    POINT (1.66287 53.41041)  \n",
       "2    POINT (1.78731 60.26117)  \n",
       "3    POINT (1.39037 59.74386)  \n",
       "4    POINT (0.93111 57.23100)  \n",
       "..                        ...  \n",
       "91  POINT (-1.68900 58.17504)  \n",
       "92  POINT (-0.27081 57.91357)  \n",
       "93   POINT (1.69108 59.57640)  \n",
       "94   POINT (1.70083 60.87246)  \n",
       "95  POINT (-1.77874 58.31936)  \n",
       "\n",
       "[96 rows x 6 columns]"
      ]
     },
     "execution_count": 17,
     "metadata": {},
     "output_type": "execute_result"
    }
   ],
   "source": [
    "gdf_storage"
   ]
  },
  {
   "attachments": {},
   "cell_type": "markdown",
   "id": "09361c3d",
   "metadata": {},
   "source": [
    "# Export data"
   ]
  },
  {
   "cell_type": "code",
   "execution_count": 18,
   "id": "89837f7f",
   "metadata": {},
   "outputs": [
    {
     "name": "stderr",
     "output_type": "stream",
     "text": [
      "c:\\Users\\TSR\\Anaconda3\\envs\\testenvironment\\lib\\site-packages\\geopandas\\io\\file.py:299: FutureWarning: pandas.Int64Index is deprecated and will be removed from pandas in a future version. Use pandas.Index with the appropriate dtype instead.\n",
      "  pd.Int64Index,\n",
      "C:\\Users\\TSR\\AppData\\Local\\Temp\\ipykernel_1628\\301439699.py:4: UserWarning: Column names longer than 10 characters will be truncated when saved to ESRI Shapefile.\n",
      "  gdf_storage.to_file('C:/Users/TSR/My Python projects/geospatial analysis model/Results/Shapefiles/storage_North_EU', driver='ESRI Shapefile')\n"
     ]
    }
   ],
   "source": [
    "save = True\n",
    "if save:\n",
    "# export pipeline as shapefile\n",
    "        gdf_storage.to_file('C:/Users/TSR/My Python projects/geospatial analysis model/Results/Shapefiles/storage_North_EU', driver='ESRI Shapefile')\n",
    "        gdf_storage.to_csv('C:/Users/TSR/My Python projects/geospatial analysis model/storage_North_EU.csv', sep=';', index=False)"
   ]
  },
  {
   "cell_type": "code",
   "execution_count": null,
   "id": "26a1b6dc",
   "metadata": {},
   "outputs": [],
   "source": []
  }
 ],
 "metadata": {
  "kernelspec": {
   "display_name": "Python 3 (ipykernel)",
   "language": "python",
   "name": "python3"
  },
  "language_info": {
   "codemirror_mode": {
    "name": "ipython",
    "version": 3
   },
   "file_extension": ".py",
   "mimetype": "text/x-python",
   "name": "python",
   "nbconvert_exporter": "python",
   "pygments_lexer": "ipython3",
   "version": "3.9.12"
  }
 },
 "nbformat": 4,
 "nbformat_minor": 5
}
