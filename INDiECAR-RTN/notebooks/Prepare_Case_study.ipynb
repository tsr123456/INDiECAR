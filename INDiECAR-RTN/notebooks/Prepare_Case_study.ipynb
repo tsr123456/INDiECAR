{
 "cells": [
  {
   "attachments": {},
   "cell_type": "markdown",
   "metadata": {},
   "source": [
    "# Prepare Case study - INDiECAR-RTN"
   ]
  },
  {
   "attachments": {},
   "cell_type": "markdown",
   "metadata": {},
   "source": [
    "---"
   ]
  },
  {
   "attachments": {},
   "cell_type": "markdown",
   "metadata": {},
   "source": [
    "## Prepare case study\n",
    "\n",
    "Below, you find a step-by-step instruction on how to run a case study."
   ]
  },
  {
   "attachments": {},
   "cell_type": "markdown",
   "metadata": {},
   "source": [
    "Define functions:"
   ]
  },
  {
   "cell_type": "code",
   "execution_count": 1,
   "metadata": {},
   "outputs": [
    {
     "name": "stderr",
     "output_type": "stream",
     "text": [
      "c:\\Users\\bst3191\\anaconda3\\envs\\geospatial_environment\\lib\\site-packages\\geopandas\\_compat.py:106: UserWarning: The Shapely GEOS version (3.8.0-CAPI-1.13.1 ) is incompatible with the GEOS version PyGEOS was compiled with (3.10.4-CAPI-1.16.2). Conversions between both will be slow.\n",
      "  warnings.warn(\n"
     ]
    }
   ],
   "source": [
    "from IDRIC_toolkit import prepare_CASE\n",
    "import csv\n",
    "import os\n",
    "import pandas as pd\n",
    "import sys\n",
    "\n",
    "def identify_all_csv (file_path):\n",
    "    all_files = os.listdir(file_path)    \n",
    "    csv_files = list(filter(lambda f: f.endswith('.csv'), all_files))\n",
    "    return csv_files\n",
    "\n",
    "def get_delimiter(file_path: str) -> str:\n",
    "    with open(file_path, 'r') as csvfile:\n",
    "        delimiter = str(csv.Sniffer().sniff(csvfile.read()).delimiter)\n",
    "        return delimiter\n",
    "\n",
    "def make_proper_csv (file_path,seperator):\n",
    "    delimiter = get_delimiter(file_path)\n",
    "    df = pd.read_csv(file_path, delimiter=delimiter)\n",
    "    df.to_csv(file_path,index= False, sep=seperator)\n",
    "\n",
    "def change_delimiter_for_all_csv_in_path (file_path,separator):\n",
    "    csv_files = identify_all_csv(file_path)\n",
    "    for i in csv_files:\n",
    "        #print(f'{file_path}{i}')\n",
    "        make_proper_csv(f'{file_path}{i}',separator)\n",
    "\n",
    "def list_subfolders(general_path):\n",
    "    return [name for name in os.listdir(general_path) if os.path.isdir(os.path.join(general_path, name)) ]\n"
   ]
  },
  {
   "attachments": {},
   "cell_type": "markdown",
   "metadata": {},
   "source": [
    "### STEP 1 of 2: CREATE cases study"
   ]
  },
  {
   "attachments": {},
   "cell_type": "markdown",
   "metadata": {},
   "source": [
    "Select the folder where you keep all case studies.\n",
    "(On the dropbox project folder, this relates to the folder *WP3 cluster case studies*, but this can differ for your local machine)"
   ]
  },
  {
   "cell_type": "code",
   "execution_count": 2,
   "metadata": {},
   "outputs": [
    {
     "data": {
      "text/plain": [
       "['SP_PT_AG Cementos Balboa SA',\n",
       " 'SP_PT_Cementos Portland Valderrivas SA',\n",
       " 'SP_PT_CEMEX SAB de CV',\n",
       " 'SP_PT_Corporacion Masaveu SA',\n",
       " 'SP_PT_CRH PLC',\n",
       " 'SP_PT_HeidelbergCement AG',\n",
       " 'SP_PT_InterCement Participacoes SA',\n",
       " 'SP_PT_LafargeHolcim Ltd',\n",
       " 'SP_PT_Secil Companhia Geral de Cal e Cimento SA',\n",
       " 'SP_PT_start',\n",
       " 'SP_PT_Unknown',\n",
       " 'SP_PT_Votorantim SA',\n",
       " 'UK_Breedon Group PLC',\n",
       " 'UK_CEMEX SAB de CV',\n",
       " 'UK_CRH PLC',\n",
       " 'UK_HeidelbergCement AG',\n",
       " 'UK_LafargeHolcim Ltd',\n",
       " 'UK_Mannok Build Ltd',\n",
       " 'UK_start - Kopie']"
      ]
     },
     "execution_count": 2,
     "metadata": {},
     "output_type": "execute_result"
    }
   ],
   "source": [
    "Path = f'../No_collaboration/'\n",
    "Casenames = list_subfolders(Path)\n",
    "Casenames"
   ]
  },
  {
   "cell_type": "code",
   "execution_count": 3,
   "metadata": {},
   "outputs": [
    {
     "name": "stdout",
     "output_type": "stream",
     "text": [
      "SP_PT_CEMEX SAB de CV\n",
      "3\n",
      "../No_collaboration/SP_PT_CEMEX SAB de CV/\n"
     ]
    }
   ],
   "source": [
    "number = 3\n",
    "#Casenames = [\"UK_cement\"]\n",
    "CaseName = Casenames[number-1]\n",
    "\n",
    "print (CaseName)\n",
    "print (number)\n",
    "#pathCASE = prepare_CASE.make_NewCase(CaseName)\n",
    "#pathCASE = f'../Example_Case/{CaseName}/'\n",
    "pathCASE = f'../No_collaboration/{CaseName}/'\n",
    "print(pathCASE)"
   ]
  },
  {
   "cell_type": "code",
   "execution_count": 4,
   "metadata": {},
   "outputs": [],
   "source": [
    "change_delimiter_for_all_csv_in_path(f'{pathCASE}input/',separator=',')"
   ]
  },
  {
   "attachments": {},
   "cell_type": "markdown",
   "metadata": {},
   "source": [
    "### Make CSV files readable for German Excel so they can be altered. "
   ]
  },
  {
   "attachments": {},
   "cell_type": "markdown",
   "metadata": {},
   "source": [
    "Create gridded distances between points:"
   ]
  },
  {
   "cell_type": "code",
   "execution_count": 5,
   "metadata": {},
   "outputs": [],
   "source": [
    "prepare_CASE.create_GriddedDistanceCSV(pathCASE, CaseName)"
   ]
  },
  {
   "attachments": {},
   "cell_type": "markdown",
   "metadata": {},
   "source": [
    "### STEP 2 of 2: DEFINE optimisation runs"
   ]
  },
  {
   "cell_type": "code",
   "execution_count": 6,
   "metadata": {},
   "outputs": [],
   "source": [
    "RunName = 'Technology'\n",
    "d = {\n",
    "    # info on instantiating the RTN model\n",
    "    \"instantiate\": {\n",
    "        # True/False: install CC for existing sites (see csv file)\n",
    "        \"install_CC\": 0,\n",
    "        # True/False: only solve for CO2 transport and storage, + NETs\n",
    "        \"CCS_network_only\": 0,\n",
    "        # [\"TLC\"]: str, linked to objective function\n",
    "        \"obj\": \"TLC\"\n",
    "    },\n",
    "    # info on optimisation runs, i.e. state gates\n",
    "    \"stateGates\": {\n",
    "        # True/False: apply backcasting (rather than snapshot) for subsequent runs?\n",
    "        \"backcasting\" : 0,\n",
    "        # array: net CO2 reduction targets in % for each state gate (run)\n",
    "        \"targets\": [100]\n",
    "    },\n",
    "    # info on solver\n",
    "    \"solver\": {\n",
    "        # [\"glpk\", \"cplex\"]: solver name\n",
    "        \"name\": \"cplex\",\n",
    "        # float: termination criterion for mipgap, i.e. optimality. default: 0.05\n",
    "        \"mipgap\": 0.0002,\n",
    "        # int: timeout limit in seconds\n",
    "        \"tlimit\": 14400 ,#7200,#28000(7.7h)\n",
    "        # Only works for CPLEX - tolerances between 0.0 and 0.5 default 1E-9:\n",
    "        \"integralityTolerance\": 0 #1E-50\n",
    "    }\n",
    "}"
   ]
  },
  {
   "cell_type": "code",
   "execution_count": 7,
   "metadata": {},
   "outputs": [],
   "source": [
    "prepare_CASE.write_RunInfo(pathCASE, RunName, d)"
   ]
  },
  {
   "attachments": {},
   "cell_type": "markdown",
   "metadata": {},
   "source": [
    "Create input CSVs"
   ]
  },
  {
   "cell_type": "code",
   "execution_count": 8,
   "metadata": {},
   "outputs": [],
   "source": [
    "# load data\n",
    "df = prepare_CASE.load_ComponentModels(f'{pathCASE}input/')\n",
    "# add weight\n",
    "df['OBJ_WEIGHT'] = 1\n",
    "# specify output\n",
    "fs = {'NAME_PLATE_CAP': [],\n",
    "      'MIN_CAP': [],\n",
    "      'INV_COEFF': ['OBJ_WEIGHT'],\n",
    "      'PROCESS_COEFF': ['OBJ_WEIGHT'], \n",
    "      'RESOURCE_CONV_RATE': []}\n",
    "# extractcsv files\n",
    "pathWrite = f'{pathCASE}input/'\n",
    "for param, ks in fs.items():\n",
    "    prepare_CASE.write_csvData(pathWrite, df, param, ks)"
   ]
  },
  {
   "attachments": {},
   "cell_type": "markdown",
   "metadata": {},
   "source": [
    "Look up transport costs"
   ]
  },
  {
   "cell_type": "code",
   "execution_count": 9,
   "metadata": {},
   "outputs": [
    {
     "name": "stdout",
     "output_type": "stream",
     "text": [
      "     OID    OLIVINE    BIOMASS       CLAY  Grid_id\n",
      "0  CID82  11.035338  21.062831   8.987746        1\n",
      "1  CID83  16.573763  28.782357  14.173735        2\n",
      "2  CID84   8.998351  19.025845   6.950759        3\n",
      "3  CID85  13.328018  23.355511  11.280426        4\n",
      "4  CID86  24.818694  34.846188  22.770766        5\n"
     ]
    }
   ],
   "source": [
    "filePath_transport = \"../../INDiECAR-BT/Results/Transport_calculations/\"\n",
    "prepare_CASE.prepare_transport_data(f'{pathCASE}input/', filePath_transport)"
   ]
  },
  {
   "attachments": {},
   "cell_type": "markdown",
   "metadata": {},
   "source": [
    "Lastly, we change all delimiters to ';' to be opened in Excel (Germany). "
   ]
  },
  {
   "cell_type": "code",
   "execution_count": 10,
   "metadata": {},
   "outputs": [],
   "source": [
    "change_delimiter_for_all_csv_in_path(f'{pathCASE}input/',separator=';')"
   ]
  },
  {
   "cell_type": "code",
   "execution_count": null,
   "metadata": {},
   "outputs": [],
   "source": []
  },
  {
   "cell_type": "code",
   "execution_count": null,
   "metadata": {},
   "outputs": [],
   "source": []
  }
 ],
 "metadata": {
  "kernelspec": {
   "display_name": "py39-IDRIC-Enviornment",
   "language": "python",
   "name": "python3"
  },
  "language_info": {
   "codemirror_mode": {
    "name": "ipython",
    "version": 3
   },
   "file_extension": ".py",
   "mimetype": "text/x-python",
   "name": "python",
   "nbconvert_exporter": "python",
   "pygments_lexer": "ipython3",
   "version": "3.9.12"
  },
  "orig_nbformat": 4,
  "vscode": {
   "interpreter": {
    "hash": "47ead9edacd826b255fb36c7d058519857106e49601c59c96838d9450ee44794"
   }
  }
 },
 "nbformat": 4,
 "nbformat_minor": 2
}
